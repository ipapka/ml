{
 "cells": [
  {
   "cell_type": "markdown",
   "metadata": {},
   "source": [
    "# Анализ игры в преферанс игрока Байкер (https://www.gambler.ru/forum/index.php?showtopic=510250&st=60)"
   ]
  },
  {
   "cell_type": "code",
   "execution_count": 15,
   "metadata": {},
   "outputs": [
    {
     "data": {
      "text/html": [
       "<div>\n",
       "<style scoped>\n",
       "    .dataframe tbody tr th:only-of-type {\n",
       "        vertical-align: middle;\n",
       "    }\n",
       "\n",
       "    .dataframe tbody tr th {\n",
       "        vertical-align: top;\n",
       "    }\n",
       "\n",
       "    .dataframe thead th {\n",
       "        text-align: right;\n",
       "    }\n",
       "</style>\n",
       "<table border=\"1\" class=\"dataframe\">\n",
       "  <thead>\n",
       "    <tr style=\"text-align: right;\">\n",
       "      <th></th>\n",
       "      <th>percent</th>\n",
       "      <th>rating</th>\n",
       "      <th>whists</th>\n",
       "    </tr>\n",
       "  </thead>\n",
       "  <tbody>\n",
       "    <tr>\n",
       "      <th>0</th>\n",
       "      <td>4</td>\n",
       "      <td>333</td>\n",
       "      <td>-14</td>\n",
       "    </tr>\n",
       "    <tr>\n",
       "      <th>1</th>\n",
       "      <td>6</td>\n",
       "      <td>393</td>\n",
       "      <td>0</td>\n",
       "    </tr>\n",
       "    <tr>\n",
       "      <th>2</th>\n",
       "      <td>8</td>\n",
       "      <td>400</td>\n",
       "      <td>-5</td>\n",
       "    </tr>\n",
       "    <tr>\n",
       "      <th>3</th>\n",
       "      <td>10</td>\n",
       "      <td>347</td>\n",
       "      <td>-1</td>\n",
       "    </tr>\n",
       "    <tr>\n",
       "      <th>4</th>\n",
       "      <td>12</td>\n",
       "      <td>348</td>\n",
       "      <td>11</td>\n",
       "    </tr>\n",
       "    <tr>\n",
       "      <th>5</th>\n",
       "      <td>14</td>\n",
       "      <td>382</td>\n",
       "      <td>8</td>\n",
       "    </tr>\n",
       "    <tr>\n",
       "      <th>6</th>\n",
       "      <td>16</td>\n",
       "      <td>401</td>\n",
       "      <td>4</td>\n",
       "    </tr>\n",
       "    <tr>\n",
       "      <th>7</th>\n",
       "      <td>18</td>\n",
       "      <td>355</td>\n",
       "      <td>1</td>\n",
       "    </tr>\n",
       "    <tr>\n",
       "      <th>8</th>\n",
       "      <td>20</td>\n",
       "      <td>370</td>\n",
       "      <td>18</td>\n",
       "    </tr>\n",
       "    <tr>\n",
       "      <th>9</th>\n",
       "      <td>22</td>\n",
       "      <td>353</td>\n",
       "      <td>16</td>\n",
       "    </tr>\n",
       "    <tr>\n",
       "      <th>10</th>\n",
       "      <td>24</td>\n",
       "      <td>359</td>\n",
       "      <td>0</td>\n",
       "    </tr>\n",
       "    <tr>\n",
       "      <th>11</th>\n",
       "      <td>26</td>\n",
       "      <td>377</td>\n",
       "      <td>9</td>\n",
       "    </tr>\n",
       "    <tr>\n",
       "      <th>12</th>\n",
       "      <td>28</td>\n",
       "      <td>333</td>\n",
       "      <td>4</td>\n",
       "    </tr>\n",
       "    <tr>\n",
       "      <th>13</th>\n",
       "      <td>30</td>\n",
       "      <td>365</td>\n",
       "      <td>8</td>\n",
       "    </tr>\n",
       "    <tr>\n",
       "      <th>14</th>\n",
       "      <td>32</td>\n",
       "      <td>360</td>\n",
       "      <td>22</td>\n",
       "    </tr>\n",
       "    <tr>\n",
       "      <th>15</th>\n",
       "      <td>34</td>\n",
       "      <td>379</td>\n",
       "      <td>20</td>\n",
       "    </tr>\n",
       "  </tbody>\n",
       "</table>\n",
       "</div>"
      ],
      "text/plain": [
       "    percent  rating  whists\n",
       "0         4     333     -14\n",
       "1         6     393       0\n",
       "2         8     400      -5\n",
       "3        10     347      -1\n",
       "4        12     348      11\n",
       "5        14     382       8\n",
       "6        16     401       4\n",
       "7        18     355       1\n",
       "8        20     370      18\n",
       "9        22     353      16\n",
       "10       24     359       0\n",
       "11       26     377       9\n",
       "12       28     333       4\n",
       "13       30     365       8\n",
       "14       32     360      22\n",
       "15       34     379      20"
      ]
     },
     "execution_count": 15,
     "metadata": {},
     "output_type": "execute_result"
    }
   ],
   "source": [
    "import pandas as pd\n",
    "import numpy as np\n",
    "from matplotlib import pyplot as plt\n",
    "from numpy import polyfit\n",
    "degree = 2\n",
    "# import data\n",
    "data=pd.read_excel('Pref_rating.xlsx')\n",
    "data\n",
    "# Загружаем данные"
   ]
  },
  {
   "cell_type": "code",
   "execution_count": 16,
   "metadata": {},
   "outputs": [
    {
     "data": {
      "text/html": [
       "<style  type=\"text/css\" >\n",
       "#T_d195a1ac_359c_11eb_9f39_409f381ac7earow0_col0,#T_d195a1ac_359c_11eb_9f39_409f381ac7earow1_col1,#T_d195a1ac_359c_11eb_9f39_409f381ac7earow2_col2{\n",
       "            background-color:  #b40426;\n",
       "            color:  #f1f1f1;\n",
       "        }#T_d195a1ac_359c_11eb_9f39_409f381ac7earow0_col1,#T_d195a1ac_359c_11eb_9f39_409f381ac7earow1_col0,#T_d195a1ac_359c_11eb_9f39_409f381ac7earow1_col2{\n",
       "            background-color:  #3b4cc0;\n",
       "            color:  #f1f1f1;\n",
       "        }#T_d195a1ac_359c_11eb_9f39_409f381ac7earow0_col2{\n",
       "            background-color:  #f7b599;\n",
       "            color:  #000000;\n",
       "        }#T_d195a1ac_359c_11eb_9f39_409f381ac7earow2_col0{\n",
       "            background-color:  #f59f80;\n",
       "            color:  #000000;\n",
       "        }#T_d195a1ac_359c_11eb_9f39_409f381ac7earow2_col1{\n",
       "            background-color:  #7597f6;\n",
       "            color:  #000000;\n",
       "        }</style><table id=\"T_d195a1ac_359c_11eb_9f39_409f381ac7ea\" ><thead>    <tr>        <th class=\"blank level0\" ></th>        <th class=\"col_heading level0 col0\" >percent</th>        <th class=\"col_heading level0 col1\" >rating</th>        <th class=\"col_heading level0 col2\" >whists</th>    </tr></thead><tbody>\n",
       "                <tr>\n",
       "                        <th id=\"T_d195a1ac_359c_11eb_9f39_409f381ac7ealevel0_row0\" class=\"row_heading level0 row0\" >percent</th>\n",
       "                        <td id=\"T_d195a1ac_359c_11eb_9f39_409f381ac7earow0_col0\" class=\"data row0 col0\" >1.000000</td>\n",
       "                        <td id=\"T_d195a1ac_359c_11eb_9f39_409f381ac7earow0_col1\" class=\"data row0 col1\" >-0.094919</td>\n",
       "                        <td id=\"T_d195a1ac_359c_11eb_9f39_409f381ac7earow0_col2\" class=\"data row0 col2\" >0.709501</td>\n",
       "            </tr>\n",
       "            <tr>\n",
       "                        <th id=\"T_d195a1ac_359c_11eb_9f39_409f381ac7ealevel0_row1\" class=\"row_heading level0 row1\" >rating</th>\n",
       "                        <td id=\"T_d195a1ac_359c_11eb_9f39_409f381ac7earow1_col0\" class=\"data row1 col0\" >-0.094919</td>\n",
       "                        <td id=\"T_d195a1ac_359c_11eb_9f39_409f381ac7earow1_col1\" class=\"data row1 col1\" >1.000000</td>\n",
       "                        <td id=\"T_d195a1ac_359c_11eb_9f39_409f381ac7earow1_col2\" class=\"data row1 col2\" >0.104800</td>\n",
       "            </tr>\n",
       "            <tr>\n",
       "                        <th id=\"T_d195a1ac_359c_11eb_9f39_409f381ac7ealevel0_row2\" class=\"row_heading level0 row2\" >whists</th>\n",
       "                        <td id=\"T_d195a1ac_359c_11eb_9f39_409f381ac7earow2_col0\" class=\"data row2 col0\" >0.709501</td>\n",
       "                        <td id=\"T_d195a1ac_359c_11eb_9f39_409f381ac7earow2_col1\" class=\"data row2 col1\" >0.104800</td>\n",
       "                        <td id=\"T_d195a1ac_359c_11eb_9f39_409f381ac7earow2_col2\" class=\"data row2 col2\" >1.000000</td>\n",
       "            </tr>\n",
       "    </tbody></table>"
      ],
      "text/plain": [
       "<pandas.io.formats.style.Styler at 0x1a688c56148>"
      ]
     },
     "execution_count": 16,
     "metadata": {},
     "output_type": "execute_result"
    }
   ],
   "source": [
    "# корреляция между признаками\n",
    "corr=data.corr()\n",
    "corr.style.background_gradient(cmap='coolwarm')"
   ]
  },
  {
   "cell_type": "markdown",
   "metadata": {},
   "source": [
    "# Построение графиков"
   ]
  },
  {
   "cell_type": "code",
   "execution_count": 17,
   "metadata": {},
   "outputs": [
    {
     "data": {
      "image/png": "[encoded data removed]",
      "text/plain": [
       "<Figure size 1296x864 with 3 Axes>"
      ]
     },
     "metadata": {
      "needs_background": "light"
     },
     "output_type": "display_data"
    }
   ],
   "source": [
    "\n",
    "# plotting\n",
    "fig =  plt.figure(figsize=(18,12))\n",
    "\n",
    "#------------------\n",
    "# plot rating vs result\n",
    "x = data['rating'].values\n",
    "y = data['whists'].values\n",
    "coef = polyfit(x, y, degree)\n",
    "px = np.linspace(min(x), max(x), 100)\n",
    "# create curve\n",
    "curve = list()\n",
    "for i in range(len(px)):\n",
    "\tvalue = coef[-1]\n",
    "\tfor d in range(degree):\n",
    "\t\tvalue += px[i]**(degree-d) * coef[d]\n",
    "\tcurve.append(value)\n",
    "# plot curve over original data\n",
    "ax1 = fig.add_subplot(221)\n",
    "ax1.scatter(x,  y, label = 'Зависимость вистов от рейтинга')\n",
    "ax1.set_title('Зависимость вистов от рейтинга')\n",
    "ax1.plot(px,curve, color='red', linewidth=1, label = 'Tренд зависимости')\n",
    "plt.xlabel('Рейтинг')\n",
    "plt.ylabel('Висты')\n",
    "plt.legend()\n",
    "#------------------\n",
    "# plot procent vs result\n",
    "x = data['percent'].values\n",
    "y = data['whists'].values\n",
    "coef = polyfit(x, y, degree)\n",
    "px = np.linspace(min(x), max(x), 100)\n",
    "# create curve\n",
    "curve = list()\n",
    "for i in range(len(px)):\n",
    "\tvalue = coef[-1]\n",
    "\tfor d in range(degree):\n",
    "\t\tvalue += px[i]**(degree-d) * coef[d]\n",
    "\tcurve.append(value)\n",
    "# plot curve over original data\n",
    "ax2 = fig.add_subplot(222)\n",
    "ax2.scatter(x,  y, label = 'Зависимость вистов от процента распасов')\n",
    "ax2.set_title('Зависимость вистов от процента распасов')\n",
    "ax2.plot(px,curve, color='red', linewidth=1, label = 'Tренд зависимости')\n",
    "plt.xlabel('Процент распасов')\n",
    "plt.ylabel('Висты')\n",
    "plt.legend()\n",
    "\n",
    "#------------------\n",
    "# plot procent vs rating\n",
    "x = data['rating'].values\n",
    "y = data['percent'].values\n",
    "coef = polyfit(x, y, degree)\n",
    "px = np.linspace(min(x), max(x), 100)\n",
    "# create curve\n",
    "curve = list()\n",
    "for i in range(len(px)):\n",
    "\tvalue = coef[-1]\n",
    "\tfor d in range(degree):\n",
    "\t\tvalue += px[i]**(degree-d) * coef[d]\n",
    "\tcurve.append(value)\n",
    "# plot curve over original data\n",
    "ax3 = fig.add_subplot(223)\n",
    "ax3.scatter(x,  y, label = 'Зависимость процента распасов от рейтинга')\n",
    "ax3.set_title('Зависимость процента распасов от рейтинга')\n",
    "ax3.plot(px,curve, color='red', linewidth=1, label = 'Tренд зависимости')\n",
    "plt.xlabel('Рейтинг')\n",
    "plt.ylabel('Процент распасов')\n",
    "plt.legend()\n",
    "plt.show()\n"
   ]
  },
  {
   "cell_type": "markdown",
   "metadata": {},
   "source": [
    "Выводы:"
   ]
  },
  {
   "cell_type": "markdown",
   "metadata": {},
   "source": [
    "Итак, анализ\n",
    "\n",
    "1. Имеем всего порядка 16 наблюдений, что явно мало для полноценных выводов, но попробую с тем что есть\n",
    "2. Зависимость вистов от рейтинга нелинейна, сначала растет, потом падает. Возможное объяснение:\n",
    "        - с ростом рейтинга, люди играют осторожней и одна из задач предохранится от случайностей и не рисковать\n",
    "3. Зависимость процента распасов от рейтинга тоже нелинейна, сначала растет, потом падает. Возможное объяснение:\n",
    "        - использование фактора той самой случайности: люди с опытом начинают понимать, что фактор случайности \n",
    "            зачастую в префе играет решающую роль, когда все остальные шансы равны (опыт и тп). Поэтому, сценарий \n",
    "            игры зачастую следующий: люди в начале игры играют распасы пока кто нибудь не улетит в минуса, а потом \n",
    "            быстро доигрывают партию избегая дальнейших распасов (случайностей)\n",
    "4. Зависимость вистов от процента распасов явно линейна и корреляция Пирсона порядка 0.71 и очень сильна (>0.5). \n",
    "Возможное объяснение:\n",
    "        - данные взяты у достаточно сильного игорка с рейтингом больше 300, следовательно, он умеет играть распасы\n",
    "        и есть тенденция набирать висты (использовать случайность в свою пользу), умение во время выходить из распасов\n",
    "        и контролировать игру.\n",
    "        С другой стороны,  видно, что сам процент распасов в игре сильно зависит от рейтинга партнеров, поэтому тренд\n",
    "        скорее всего с ростом рейтинга партнеров будет уменьшаться и достигнет, кого-то плато.\n",
    "    "
   ]
  },
  {
   "cell_type": "markdown",
   "metadata": {},
   "source": [
    "Далее, можно ли назвать этот тренд \"методом\"?\n",
    "Сразу возникает вопрос \"методом\" чего? И вообще, как может быть тренд методом? Если он зависит не только от игрока, а и от опыта партнеров?\n",
    "Скорее всего нет, это не метод, а тенденция, признак осторожности игрока.\n",
    "Чтобы понять более емко, нужно:\n",
    "    - сравнить подобную статистику у других игроков с разными рейтингами\n",
    "    - выборки данных нужны значительно больше, не меньше 100\n",
    "    - нужно провести исследование, как подобный \"метод\" влияет на игру, а именно - обрать две выборки игр не меньше 100\n",
    "      каждая, где в одной Байкер будет использовать метод, а в другой нет (если у него конечно это получится) \n",
    "      и сравнить результаты, в том числе проведя статистические тесты"
   ]
  },
  {
   "cell_type": "markdown",
   "metadata": {},
   "source": [
    "# Прогнозирование"
   ]
  },
  {
   "cell_type": "markdown",
   "metadata": {},
   "source": [
    "Теперь попробую по собранным данным сделать прогноз зависимости полученных вистов в игре от среднего рейтинга соперников\n",
    "и процента распасов в игре."
   ]
  },
  {
   "cell_type": "markdown",
   "metadata": {},
   "source": [
    "Пробую обучить на данных три модели: RandomForest, MARS и XGBRegressor  и по результатам абсолютной средней ошибки на необученных данных выбираю модель"
   ]
  },
  {
   "cell_type": "code",
   "execution_count": 18,
   "metadata": {},
   "outputs": [],
   "source": [
    "# evaluate multivariate adaptive regression splines for regression\n",
    "# Example of Splitting a Contrived Dataset into Train and Test\n",
    "from random import seed\n",
    "from random import randrange\n",
    "from sklearn.metrics import mean_absolute_error\n",
    "from sklearn.ensemble import RandomForestRegressor\n",
    "from xgboost import XGBRegressor\n",
    "from pyearth import Earth\n",
    "np.warnings.filterwarnings('ignore')\n",
    "# define dataset\n",
    "data=pd.read_excel('Pref_rating.xlsx')\n",
    "# define the models\n",
    "models=[Earth(),XGBRegressor(),RandomForestRegressor()]"
   ]
  },
  {
   "cell_type": "markdown",
   "metadata": {},
   "source": [
    "разобю выборку на тренировочный и тестовый набор, для этого возьму два значения и уберу их из общего датасета, используя для проверки точности в дальнейшем"
   ]
  },
  {
   "cell_type": "code",
   "execution_count": 19,
   "metadata": {},
   "outputs": [],
   "source": [
    "# Split a dataset into a train and test set\n",
    "def train_test_split(dataset, split=0.85):\n",
    "    train = list()\n",
    "    train_size = split * len(dataset)\n",
    "    dataset_copy = list(dataset)\n",
    "    while len(train) < train_size:\n",
    "        index = randrange(len(dataset_copy))\n",
    "        train.append(dataset_copy.pop(index))\n",
    "    return train, dataset_copy\n",
    "# test train/test split\n",
    "seed(1)\n",
    "dataset = data.values.tolist()\n",
    "train, test = train_test_split(dataset)"
   ]
  },
  {
   "cell_type": "code",
   "execution_count": 20,
   "metadata": {},
   "outputs": [],
   "source": [
    "x_train, y_train = np.array(train)[:,:-1],np.array(train)[:,-1]\n",
    "x_test, y_test=np.array(test)[:,:-1],np.array(test)[:,-1]"
   ]
  },
  {
   "cell_type": "code",
   "execution_count": 21,
   "metadata": {},
   "outputs": [
    {
     "data": {
      "text/plain": [
       "array([[ 14, 382],\n",
       "       [ 22, 353]])"
      ]
     },
     "execution_count": 21,
     "metadata": {},
     "output_type": "execute_result"
    }
   ],
   "source": [
    "x_test"
   ]
  },
  {
   "cell_type": "code",
   "execution_count": 22,
   "metadata": {},
   "outputs": [
    {
     "name": "stdout",
     "output_type": "stream",
     "text": [
      "Модель: Earth(), MAE: 7.331\n",
      "Модель: XGBRegr, MAE: 9.348\n",
      "Модель: RandomF, MAE: 5.225\n"
     ]
    }
   ],
   "source": [
    "# обучаю и тестирую модели\n",
    "for model in models:\n",
    "    # define the evaluation procedure\n",
    "    model=model.fit(x_train,y_train)\n",
    "    yhat=model.predict(x_test)\n",
    "\n",
    "    # report performance\n",
    "    print('Модель: %.7s, MAE: %.3f' % (str(model),mean_absolute_error(y_test, yhat)))"
   ]
  },
  {
   "cell_type": "markdown",
   "metadata": {},
   "source": [
    "Модель RandomForest показывает самый лучший результат.\n",
    "\n",
    "Обучаю ее на всех данных"
   ]
  },
  {
   "cell_type": "code",
   "execution_count": 23,
   "metadata": {},
   "outputs": [
    {
     "name": "stdout",
     "output_type": "stream",
     "text": [
      "Модель: RandomF, MAE: 2.681\n"
     ]
    }
   ],
   "source": [
    "model=RandomForestRegressor()\n",
    "X,y=data.values[:,:-1],data.values[:,-1]\n",
    "rf=model.fit(X,y)\n",
    "yhat=rf.predict(X)\n",
    "\n",
    "# report performance\n",
    "print('Модель: %.7s, MAE: %.3f' % (str(model),mean_absolute_error(y, yhat)))"
   ]
  },
  {
   "cell_type": "markdown",
   "metadata": {},
   "source": [
    "Пробую предсказать количество вистов в игре по двум данным:\n",
    "    1. Процент вистов - 29, средний рейтинг - 340\n",
    "    2. Процент вистов - 12, средний рейтинг - 390"
   ]
  },
  {
   "cell_type": "code",
   "execution_count": 24,
   "metadata": {},
   "outputs": [],
   "source": [
    "raw1=np.array([29,340]).reshape(1,-1)\n",
    "raw2=np.array([12,390]).reshape(1,-1)\n",
    "yhat1=rf.predict(raw1)\n",
    "yhat2=rf.predict(raw2)"
   ]
  },
  {
   "cell_type": "code",
   "execution_count": 25,
   "metadata": {},
   "outputs": [
    {
     "data": {
      "image/png": "[encoded data removed]",
      "text/plain": [
       "<Figure size 1296x864 with 2 Axes>"
      ]
     },
     "metadata": {
      "needs_background": "light"
     },
     "output_type": "display_data"
    }
   ],
   "source": [
    "# import data\n",
    "data=pd.read_excel('Pref_rating.xlsx')\n",
    "\n",
    "# plotting\n",
    "fig =  plt.figure(figsize=(18,12))\n",
    "#------------------\n",
    "# plot rating vs result\n",
    "x = data['rating'].values\n",
    "y = data['whists'].values\n",
    "coef = polyfit(x, y, degree)\n",
    "px = np.linspace(min(x), max(x), 100)\n",
    "# create curve\n",
    "curve = list()\n",
    "for i in range(len(px)):\n",
    "\tvalue = coef[-1]\n",
    "\tfor d in range(degree):\n",
    "\t\tvalue += px[i]**(degree-d) * coef[d]\n",
    "\tcurve.append(value)\n",
    "# plot curve over original data\n",
    "ax1 = fig.add_subplot(221)\n",
    "ax1.scatter(x,  y, label = 'Зависимость вистов от рейтинга')\n",
    "ax1.scatter(raw1[0][1],  yhat1[0])\n",
    "ax1.scatter(raw2[0][1],  yhat2[0])\n",
    "\n",
    "plt.annotate('Предсказанное значение 1',\n",
    "ha = 'center', va = 'bottom',\n",
    "xytext = (raw1[0][1]+5,  yhat1[0]+5),\n",
    "xy = (raw1[0][1],  yhat1[0]),\n",
    "arrowprops = { 'facecolor' : 'black', 'shrink' : 0.05 })\n",
    "\n",
    "plt.annotate('Предсказанное значение 2',\n",
    "ha = 'center', va = 'bottom',\n",
    "xytext = (raw2[0][1]+5,  yhat2[0]+5),\n",
    "xy = (raw2[0][1],  yhat2[0]),\n",
    "arrowprops = { 'facecolor' : 'black', 'shrink' : 0.05 })\n",
    "\n",
    "ax1.set_title('Зависимость вистов от рейтинга')\n",
    "ax1.plot(px,curve, color='red', linewidth=1, label = 'Tренд зависимости')\n",
    "plt.xlabel('Рейтинг')\n",
    "plt.ylabel('Висты')\n",
    "plt.legend()\n",
    "\n",
    "\n",
    "#------------------\n",
    "# plot procent vs result\n",
    "x = data['percent'].values\n",
    "y = data['whists'].values\n",
    "coef = polyfit(x, y, degree)\n",
    "px = np.linspace(min(x), max(x), 100)\n",
    "# create curve\n",
    "curve = list()\n",
    "for i in range(len(px)):\n",
    "\tvalue = coef[-1]\n",
    "\tfor d in range(degree):\n",
    "\t\tvalue += px[i]**(degree-d) * coef[d]\n",
    "\tcurve.append(value)\n",
    "# plot curve over original data\n",
    "ax2 = fig.add_subplot(222)\n",
    "ax2.scatter(x,  y, label = 'Зависимость вистов от процента распасов')\n",
    "\n",
    "ax2.scatter(raw1[0][0],  yhat1[0])\n",
    "ax2.scatter(raw2[0][0],  yhat2[0])\n",
    "\n",
    "plt.annotate('Предсказанное значение 1',\n",
    "ha = 'center', va = 'bottom',\n",
    "xytext = (raw1[0][0]+5,  yhat1[0]+5),\n",
    "xy = (raw1[0][0],  yhat1[0]),\n",
    "arrowprops = { 'facecolor' : 'black', 'shrink' : 0.05 })\n",
    "\n",
    "plt.annotate('Предсказанное значение 2',\n",
    "ha = 'center', va = 'bottom',\n",
    "xytext = (raw2[0][0]+5,  yhat2[0]+5),\n",
    "xy = (raw2[0][0],  yhat2[0]),\n",
    "arrowprops = { 'facecolor' : 'black', 'shrink' : 0.05 })\n",
    "\n",
    "\n",
    "ax2.set_title('Зависимость вистов от процента распасов')\n",
    "ax2.plot(px,curve, color='red', linewidth=1, label = 'Tренд зависимости')\n",
    "plt.xlabel('Процент распасов')\n",
    "plt.ylabel('Висты')\n",
    "plt.legend()\n",
    "\n",
    "plt.show()"
   ]
  },
  {
   "cell_type": "markdown",
   "metadata": {},
   "source": [
    "Выводы по моделе предсказания:\n",
    "    - видно, что модель более-менее точно предсказывает результаты на диапазонах заданных данных\n",
    "    - однако, нет уверенности, что она будет так же хорошо это делать на данных не вошедших в ее обучение,\n",
    "    - чтобы добиться этого и повысить точность, необходимо:\n",
    "        - увеличить размер датасета хотябы до ста значений\n",
    "        - увеличить количество факторов-признаков влияющих на результат, сейчас их 2 (процент пасов, средний рейтинг),\n",
    "        а можно еще добавить, например:\n",
    "            - игра в рабочее, не рабочее время\n",
    "            - отвлекала ли жена или нет\n",
    "            - день недели\n",
    "            - праздничный, предпраздничный или послепраздничный день\n",
    "            - трезвый-пьяный\n",
    "            - и т.д"
   ]
  }
 ],
 "metadata": {
  "kernelspec": {
   "display_name": "Python 3",
   "language": "python",
   "name": "python3"
  },
  "language_info": {
   "codemirror_mode": {
    "name": "ipython",
    "version": 3
   },
   "file_extension": ".py",
   "mimetype": "text/x-python",
   "name": "python",
   "nbconvert_exporter": "python",
   "pygments_lexer": "ipython3",
   "version": "3.7.4"
  },
  "toc": {
   "base_numbering": 1,
   "nav_menu": {},
   "number_sections": true,
   "sideBar": true,
   "skip_h1_title": false,
   "title_cell": "Table of Contents",
   "title_sidebar": "Contents",
   "toc_cell": false,
   "toc_position": {},
   "toc_section_display": true,
   "toc_window_display": false
  }
 },
 "nbformat": 4,
 "nbformat_minor": 2
}
