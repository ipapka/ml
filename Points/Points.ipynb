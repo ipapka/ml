{
 "cells": [
  {
   "cell_type": "markdown",
   "metadata": {},
   "source": [
    "# Determination of relative  point coordinates in the system by the distance between them"
   ]
  },
  {
   "cell_type": "markdown",
   "metadata": {},
   "source": [
    "<b>Contents:</b>\n",
    "\n",
    "[1 Агоритм решения](#section_1)\n",
    "\n",
    "[2  Краткое описание подводных камней на пути к достижению цели](#section_2)\n",
    "\n",
    "[3  Процесс обучения](#section_3)\n",
    "\n",
    "[4  Определение координат системы точек](#section_4)\n",
    "\n",
    "[5  Заключение](#section_5)"
   ]
  },
  {
   "cell_type": "markdown",
   "metadata": {},
   "source": [
    "Постановка задачи: на некоторой плоскости находится N точек (датчиков).\n",
    "\n",
    "Известны расстояния между ними, пусть пока для определенности - все расстояния.\n",
    "Задание: установить относительные координаты точек в системе"
   ]
  },
  {
   "cell_type": "code",
   "execution_count": 16,
   "metadata": {},
   "outputs": [],
   "source": [
    "import pandas as pd\n",
    "import numpy as np\n",
    "from PIL import Image\n",
    "from IPython.display import display"
   ]
  },
  {
   "cell_type": "code",
   "execution_count": 17,
   "metadata": {},
   "outputs": [
    {
     "data": {
      "text/html": [
       "<div>\n",
       "<style scoped>\n",
       "    .dataframe tbody tr th:only-of-type {\n",
       "        vertical-align: middle;\n",
       "    }\n",
       "\n",
       "    .dataframe tbody tr th {\n",
       "        vertical-align: top;\n",
       "    }\n",
       "\n",
       "    .dataframe thead th {\n",
       "        text-align: right;\n",
       "    }\n",
       "</style>\n",
       "<table border=\"1\" class=\"dataframe\">\n",
       "  <thead>\n",
       "    <tr style=\"text-align: right;\">\n",
       "      <th></th>\n",
       "      <th>D1</th>\n",
       "      <th>D2</th>\n",
       "      <th>Distance</th>\n",
       "    </tr>\n",
       "  </thead>\n",
       "  <tbody>\n",
       "    <tr>\n",
       "      <th>0</th>\n",
       "      <td>id_0</td>\n",
       "      <td>id_1</td>\n",
       "      <td>0.699213</td>\n",
       "    </tr>\n",
       "    <tr>\n",
       "      <th>1</th>\n",
       "      <td>id_0</td>\n",
       "      <td>id_2</td>\n",
       "      <td>0.770766</td>\n",
       "    </tr>\n",
       "    <tr>\n",
       "      <th>2</th>\n",
       "      <td>id_0</td>\n",
       "      <td>id_3</td>\n",
       "      <td>0.697799</td>\n",
       "    </tr>\n",
       "    <tr>\n",
       "      <th>3</th>\n",
       "      <td>id_0</td>\n",
       "      <td>id_4</td>\n",
       "      <td>0.780878</td>\n",
       "    </tr>\n",
       "    <tr>\n",
       "      <th>4</th>\n",
       "      <td>id_1</td>\n",
       "      <td>id_2</td>\n",
       "      <td>0.014621</td>\n",
       "    </tr>\n",
       "    <tr>\n",
       "      <th>5</th>\n",
       "      <td>id_1</td>\n",
       "      <td>id_3</td>\n",
       "      <td>0.814849</td>\n",
       "    </tr>\n",
       "    <tr>\n",
       "      <th>6</th>\n",
       "      <td>id_1</td>\n",
       "      <td>id_4</td>\n",
       "      <td>0.460873</td>\n",
       "    </tr>\n",
       "    <tr>\n",
       "      <th>7</th>\n",
       "      <td>id_2</td>\n",
       "      <td>id_3</td>\n",
       "      <td>1.038910</td>\n",
       "    </tr>\n",
       "    <tr>\n",
       "      <th>8</th>\n",
       "      <td>id_2</td>\n",
       "      <td>id_4</td>\n",
       "      <td>0.639418</td>\n",
       "    </tr>\n",
       "    <tr>\n",
       "      <th>9</th>\n",
       "      <td>id_3</td>\n",
       "      <td>id_4</td>\n",
       "      <td>0.082570</td>\n",
       "    </tr>\n",
       "  </tbody>\n",
       "</table>\n",
       "</div>"
      ],
      "text/plain": [
       "     D1    D2  Distance\n",
       "0  id_0  id_1  0.699213\n",
       "1  id_0  id_2  0.770766\n",
       "2  id_0  id_3  0.697799\n",
       "3  id_0  id_4  0.780878\n",
       "4  id_1  id_2  0.014621\n",
       "5  id_1  id_3  0.814849\n",
       "6  id_1  id_4  0.460873\n",
       "7  id_2  id_3  1.038910\n",
       "8  id_2  id_4  0.639418\n",
       "9  id_3  id_4  0.082570"
      ]
     },
     "execution_count": 17,
     "metadata": {},
     "output_type": "execute_result"
    }
   ],
   "source": [
    "data=pd.read_csv('Dataframe.csv')\n",
    "data"
   ]
  },
  {
   "cell_type": "code",
   "execution_count": 18,
   "metadata": {},
   "outputs": [
    {
     "data": {
      "image/png": "[encoded data removed]",
      "text/plain": [
       "<PIL.PngImagePlugin.PngImageFile image mode=RGBA size=445x416 at 0x25A6FF6BC88>"
      ]
     },
     "metadata": {},
     "output_type": "display_data"
    }
   ],
   "source": [
    "im=Image.open('pic1.PNG')\n",
    "display(im)"
   ]
  },
  {
   "cell_type": "markdown",
   "metadata": {},
   "source": [
    "Так вот это все примерно выглядит для 5 точек, например."
   ]
  },
  {
   "cell_type": "markdown",
   "metadata": {},
   "source": [
    "Задачу, вероятно, можно решить аналитически, я же использую модель машинного обучения для определения координат на основе нейросети."
   ]
  },
  {
   "cell_type": "markdown",
   "metadata": {},
   "source": [
    "<a id='section_1'></a>\n",
    "# Агоритм решения"
   ]
  },
  {
   "cell_type": "markdown",
   "metadata": {},
   "source": [
    "Обучение нейросети генерировать координаты по подаваемой последовательности длин - расстояний между точками"
   ]
  },
  {
   "cell_type": "markdown",
   "metadata": {},
   "source": [
    "Примерно, процесс обучения выглядит так: подаю в качестве input на обучение последовательность вида [s1,s2,s3..sn], получаю последовательность точек [0.,0., x1,y1,x2,y2 ... xn,yn]"
   ]
  },
  {
   "cell_type": "markdown",
   "metadata": {},
   "source": [
    "<a id='section_2'></a>\n",
    "# Краткое описание подводных камней на пути к достижению цели"
   ]
  },
  {
   "cell_type": "markdown",
   "metadata": {},
   "source": [
    "1. Привязка к базису при генерировании координат точек\n",
    "2. Ограничение подаваемой последовательности до трех (для трех точек)\n",
    "3. Избавление от квадратного корня\n",
    "4. И еще, но позже"
   ]
  },
  {
   "cell_type": "markdown",
   "metadata": {},
   "source": [
    "## Теперь по порядку"
   ]
  },
  {
   "cell_type": "markdown",
   "metadata": {},
   "source": [
    "### Привязка к базису при генерировании координат точек"
   ]
  },
  {
   "cell_type": "markdown",
   "metadata": {},
   "source": [
    "Если взять за начало отсчета точку О, например, с координатами [0,0] и больше ни к чему не привязываться, то модели не понятно в каком направлении генерировать координаты, ибо будет бесконечное число степеней свободы. Формально такая генерация выглядит так:"
   ]
  },
  {
   "cell_type": "code",
   "execution_count": 19,
   "metadata": {},
   "outputs": [
    {
     "data": {
      "image/png": "[encoded data removed]",
      "text/plain": [
       "<PIL.PngImagePlugin.PngImageFile image mode=RGBA size=439x252 at 0x25A6FF68F48>"
      ]
     },
     "metadata": {},
     "output_type": "display_data"
    }
   ],
   "source": [
    "im=Image.open('pic2.PNG')\n",
    "display(im)"
   ]
  },
  {
   "cell_type": "markdown",
   "metadata": {},
   "source": [
    "Здесь оранжевым цветом показаны первичные точки, а синим сгенерировыанные.\n",
    "\n",
    "Поэтому первым этапом необходимо определить вторую точку, тогда модель начинает обучаться в нужном напрвлении. Я такую точку выбрал на оси Y, то есть первая сторона многоугольника всегда ориентирована вдоль оси OY"
   ]
  },
  {
   "cell_type": "markdown",
   "metadata": {},
   "source": [
    "### Ограничение подаваемой последовательности до трех (для трех точек)"
   ]
  },
  {
   "cell_type": "markdown",
   "metadata": {},
   "source": [
    "Даже при привязке к двум точкам, все равно сохраняется неопределенность, при определении координат по расстояниям. Как видно на рисунке, модель не видит разницы между положением точки 2 и 2'."
   ]
  },
  {
   "cell_type": "code",
   "execution_count": 20,
   "metadata": {},
   "outputs": [
    {
     "data": {
      "image/png": "[encoded data removed]",
      "text/plain": [
       "<PIL.PngImagePlugin.PngImageFile image mode=RGB size=550x419 at 0x25A6FED1588>"
      ]
     },
     "metadata": {},
     "output_type": "display_data"
    }
   ],
   "source": [
    "im=Image.open('pic3.PNG')\n",
    "display(im)"
   ]
  },
  {
   "cell_type": "markdown",
   "metadata": {},
   "source": [
    "А если точек будет больше 3 то модель вообще никогда не сойдется. Поэтому, ограничиваю модель тремя точками и расположением по умолчанию в первой четверти координат."
   ]
  },
  {
   "cell_type": "markdown",
   "metadata": {},
   "source": [
    "Остальные точки буду находить, подавая по очереди расстояния до них в модель."
   ]
  },
  {
   "cell_type": "markdown",
   "metadata": {},
   "source": [
    "### Избавление от квадратного корня"
   ]
  },
  {
   "cell_type": "markdown",
   "metadata": {},
   "source": [
    "Следующий ход - избавление корня квадратного при вычислении расстояния между двумя точками из известного уравнения "
   ]
  },
  {
   "cell_type": "raw",
   "metadata": {},
   "source": [
    "z**2=x**2+y**2"
   ]
  },
  {
   "cell_type": "markdown",
   "metadata": {},
   "source": [
    "То есть я буду подавать на вход не расстояние, а его квадрат. Что несколько ускоряет обучение."
   ]
  },
  {
   "cell_type": "markdown",
   "metadata": {},
   "source": [
    "<a id='section_3'></a>\n",
    "# Процесс обучения"
   ]
  },
  {
   "cell_type": "markdown",
   "metadata": {},
   "source": [
    "## Генерация данных для обучения"
   ]
  },
  {
   "cell_type": "markdown",
   "metadata": {},
   "source": [
    "Сначала надо придумать данные на которых будем обучать модель"
   ]
  },
  {
   "cell_type": "code",
   "execution_count": 222,
   "metadata": {},
   "outputs": [],
   "source": [
    "import random as rd\n",
    "from numpy import cumsum\n",
    "from random import random\n",
    "from numpy import array\n",
    "from matplotlib.patches import PathPatch\n",
    "from matplotlib.path import Path\n",
    "from keras.models import Sequential\n",
    "from keras.layers import TimeDistributed\n",
    "from keras.layers import LSTM\n",
    "from keras.layers import Dense\n",
    "from keras.optimizers import SGD, Adam\n",
    "from keras.models import load_model\n",
    "import keras.backend as K\n",
    "from matplotlib import pyplot as plt\n",
    "from keras.layers import BatchNormalization\n",
    "from keras.layers import Bidirectional\n",
    "import pandas as pd\n",
    "import numpy as np\n",
    "from matplotlib import collections  as mcol\n",
    "from random import sample\n",
    "import operator"
   ]
  },
  {
   "cell_type": "code",
   "execution_count": 127,
   "metadata": {},
   "outputs": [],
   "source": [
    "# Функция генерирования данных, в зависимости от количества точек\n",
    "def generate_data(points):\n",
    "    data=np.random.random_sample((points, 2))\n",
    "    data[0][0]=0\n",
    "    data[0][1]=0\n",
    "    data[1][0]=0\n",
    "    lst=[]\n",
    "    for j in range(data.shape[0]):\n",
    "        for i in range(j+1,data.shape[0]):\n",
    "            res=(data[j], data[i])\n",
    "            lst.append(res)\n",
    "    data=lst\n",
    "    return data"
   ]
  },
  {
   "cell_type": "code",
   "execution_count": 31,
   "metadata": {},
   "outputs": [
    {
     "data": {
      "text/html": [
       "<div>\n",
       "<style scoped>\n",
       "    .dataframe tbody tr th:only-of-type {\n",
       "        vertical-align: middle;\n",
       "    }\n",
       "\n",
       "    .dataframe tbody tr th {\n",
       "        vertical-align: top;\n",
       "    }\n",
       "\n",
       "    .dataframe thead th {\n",
       "        text-align: right;\n",
       "    }\n",
       "</style>\n",
       "<table border=\"1\" class=\"dataframe\">\n",
       "  <thead>\n",
       "    <tr style=\"text-align: right;\">\n",
       "      <th></th>\n",
       "      <th>0</th>\n",
       "      <th>1</th>\n",
       "    </tr>\n",
       "  </thead>\n",
       "  <tbody>\n",
       "    <tr>\n",
       "      <th>0</th>\n",
       "      <td>[0.0, 0.0]</td>\n",
       "      <td>[0.0, 0.9894635]</td>\n",
       "    </tr>\n",
       "    <tr>\n",
       "      <th>1</th>\n",
       "      <td>[0.0, 0.0]</td>\n",
       "      <td>[0.1358287, 0.0481572]</td>\n",
       "    </tr>\n",
       "    <tr>\n",
       "      <th>2</th>\n",
       "      <td>[0.0, 0.9894635]</td>\n",
       "      <td>[0.1358287, 0.0481572]</td>\n",
       "    </tr>\n",
       "  </tbody>\n",
       "</table>\n",
       "</div>"
      ],
      "text/plain": [
       "                  0                       1\n",
       "0        [0.0, 0.0]        [0.0, 0.9894635]\n",
       "1        [0.0, 0.0]  [0.1358287, 0.0481572]\n",
       "2  [0.0, 0.9894635]  [0.1358287, 0.0481572]"
      ]
     },
     "execution_count": 31,
     "metadata": {},
     "output_type": "execute_result"
    }
   ],
   "source": [
    "points=3\n",
    "data=generate_data(points)\n",
    "pd.DataFrame(data)"
   ]
  },
  {
   "cell_type": "code",
   "execution_count": 28,
   "metadata": {},
   "outputs": [],
   "source": [
    "# Генерация последовательностей X и y\n",
    "def generate_seq(points):\n",
    "    df=generate_data(points)\n",
    "    arr_x=[np.sqrt((df[i][0][0]-df[i][1][0])**2+\n",
    "                       (df[i][0][1]-df[i][1][1])**2) for i in range(len(df))]\n",
    "    arr_y=[]\n",
    "    for i1 in range(len(df)):\n",
    "        for i2 in range(2):\n",
    "            for i3 in range(2):\n",
    "                arr_y.append(df[i1][i2][i3])\n",
    "    X=arr_x\n",
    "    y=arr_y\n",
    "    return X, y"
   ]
  },
  {
   "cell_type": "code",
   "execution_count": 32,
   "metadata": {},
   "outputs": [],
   "source": [
    "X,y=generate_seq(points)"
   ]
  },
  {
   "cell_type": "code",
   "execution_count": 36,
   "metadata": {},
   "outputs": [
    {
     "data": {
      "text/plain": [
       "[0.9371476, 1.100991947173475, 0.5581551683016113]"
      ]
     },
     "execution_count": 36,
     "metadata": {},
     "output_type": "execute_result"
    }
   ],
   "source": [
    "# Это последовательтность, расстояний между точками, \n",
    "# которую буду подавать на вход\n",
    "X"
   ]
  },
  {
   "cell_type": "code",
   "execution_count": 37,
   "metadata": {},
   "outputs": [
    {
     "data": {
      "text/plain": [
       "[0.0,\n",
       " 0.0,\n",
       " 0.0,\n",
       " 0.9371476,\n",
       " 0.0,\n",
       " 0.0,\n",
       " 0.5580272,\n",
       " 0.949099,\n",
       " 0.0,\n",
       " 0.9371476,\n",
       " 0.5580272,\n",
       " 0.949099]"
      ]
     },
     "execution_count": 37,
     "metadata": {},
     "output_type": "execute_result"
    }
   ],
   "source": [
    "# А это координаты точек, которые будут целью обучения - выход\n",
    "y"
   ]
  },
  {
   "cell_type": "code",
   "execution_count": null,
   "metadata": {},
   "outputs": [],
   "source": [
    "# функция выхода в последовательность для визуализации данных\n",
    "def y_to_seq(y):\n",
    "    lst=[]\n",
    "    i=0\n",
    "    for x in range(int(len(y)/4)):\n",
    "        lst.append([(y[i],y[i+1]),(y[i+2],y[i+3])])\n",
    "        i=i+4\n",
    "    return lst"
   ]
  },
  {
   "cell_type": "code",
   "execution_count": 38,
   "metadata": {},
   "outputs": [],
   "source": [
    "# функция визуализации двух треугольников для сравнения\n",
    "def plot_lines_2_plots(seq1, seq2):\n",
    "    c = np.array([(1, 0, 0, 1), (0, 1, 0, 1), (0, 0, 1, 1)])\n",
    "    lc1 = mcol.LineCollection(points1, colors=c, linewidths=1.1)\n",
    "    lc2 = mcol.LineCollection(points2, colors=c,linewidths=1.1)\n",
    "    fig, ax = plt.subplots()\n",
    "    ax.add_collection(lc1)\n",
    "    ax.add_collection(lc2)\n",
    "    ax.autoscale()\n",
    "    ax.margins(0.1)\n",
    "    plt.xlim(-1, 1)\n",
    "    plt.ylim(-1, 1)\n",
    "    plt.axis('equal')"
   ]
  },
  {
   "cell_type": "code",
   "execution_count": 39,
   "metadata": {},
   "outputs": [],
   "source": [
    "# генерация набора последовательностей\n",
    "def generate_samples(n_examples, points):\n",
    "    X, y = list(), list()\n",
    "    for _ in range(n_examples):\n",
    "        in_pattern, out_pattern = generate_seq(points)\n",
    "        X.append(in_pattern)\n",
    "        y.append(out_pattern)\n",
    "    X=np.array(X)\n",
    "    X=X.reshape(n_examples,1,x_length)\n",
    "    y=np.array(y)\n",
    "    y=y.reshape(n_examples,1,y_length)    \n",
    "    return X, y\n"
   ]
  },
  {
   "cell_type": "code",
   "execution_count": 128,
   "metadata": {},
   "outputs": [],
   "source": [
    "# Собираю все в кучу\n",
    "import random as rd\n",
    "from numpy import cumsum\n",
    "from random import random\n",
    "from numpy import array\n",
    "from matplotlib.patches import PathPatch\n",
    "from matplotlib.path import Path\n",
    "from keras.models import Sequential\n",
    "from keras.layers import TimeDistributed\n",
    "from keras.layers import LSTM\n",
    "from keras.layers import Dense\n",
    "from keras.optimizers import SGD, Adam\n",
    "from keras.models import load_model\n",
    "import keras.backend as K\n",
    "from matplotlib import pyplot as plt\n",
    "from keras.layers import BatchNormalization\n",
    "from keras.layers import Bidirectional\n",
    "import pandas as pd\n",
    "import numpy as np\n",
    "from matplotlib import collections  as mcol\n",
    "\n",
    "# Функция генерирования данных, в зависимости от количества точек\n",
    "def generate_data(points):\n",
    "    data=np.random.random_sample((points, 2))\n",
    "    data[0][0]=0\n",
    "    data[0][1]=0\n",
    "    data[1][0]=0\n",
    "    lst=[]\n",
    "    for j in range(data.shape[0]):\n",
    "        for i in range(j+1,data.shape[0]):\n",
    "            res=(data[j], data[i])\n",
    "            lst.append(res)\n",
    "    data=lst\n",
    "    return data\n",
    "\n",
    "# Генерация последовательностей X и y\n",
    "def generate_seq(points):\n",
    "    df=generate_data(points)\n",
    "    arr_x=[np.sqrt((df[i][0][0]-df[i][1][0])**2+\n",
    "                       (df[i][0][1]-df[i][1][1])**2) for i in range(len(df))]\n",
    "    arr_y=[]\n",
    "    for i1 in range(len(df)):\n",
    "        for i2 in range(2):\n",
    "            for i3 in range(2):\n",
    "                arr_y.append(df[i1][i2][i3])\n",
    "    X=arr_x\n",
    "    y=arr_y\n",
    "    return X, y\n",
    "\n",
    "# функция выхода в последовательность для визуализации данных\n",
    "def y_to_seq(y):\n",
    "    lst=[]\n",
    "    i=0\n",
    "    for x in range(int(len(y)/4)):\n",
    "        lst.append([(y[i],y[i+1]),(y[i+2],y[i+3])])\n",
    "        i=i+4\n",
    "    return lst\n",
    "\n",
    "# функция визуализации двух треугольников для сравнения\n",
    "def plot_lines_2_plots(seq1, seq2):\n",
    "    c = np.array([(1, 0, 0, 1), (0, 1, 0, 1), (0, 0, 1, 1)])\n",
    "    lc1 = mcol.LineCollection(seq1, colors=c, linewidths=1.1)\n",
    "    lc2 = mcol.LineCollection(seq2, colors=c,linewidths=1.1)\n",
    "    fig, ax = plt.subplots()\n",
    "    ax.add_collection(lc1)\n",
    "    ax.add_collection(lc2)\n",
    "    ax.autoscale()\n",
    "    ax.margins(0.1)\n",
    "    plt.xlim(-1, 1)\n",
    "    plt.ylim(-1, 1)\n",
    "    plt.axis('equal')\n",
    "    \n",
    "# генерация набора последовательностей\n",
    "def generate_samples(n_examples, points):\n",
    "    X, y = list(), list()\n",
    "    for _ in range(n_examples):\n",
    "        in_pattern, out_pattern = generate_seq(points)\n",
    "        X.append(in_pattern)\n",
    "        y.append(out_pattern)\n",
    "    X=np.array(X)\n",
    "    X=X.reshape(n_examples,1,x_length)\n",
    "    y=np.array(y)\n",
    "    y=y.reshape(n_examples,1,y_length)    \n",
    "    return X, y\n",
    "\n"
   ]
  },
  {
   "cell_type": "markdown",
   "metadata": {},
   "source": [
    "## Определяю модель"
   ]
  },
  {
   "cell_type": "code",
   "execution_count": 203,
   "metadata": {},
   "outputs": [
    {
     "name": "stdout",
     "output_type": "stream",
     "text": [
      "Model: \"sequential_3\"\n",
      "_________________________________________________________________\n",
      "Layer (type)                 Output Shape              Param #   \n",
      "=================================================================\n",
      "bidirectional_7 (Bidirection (None, 1, 400)            326400    \n",
      "_________________________________________________________________\n",
      "bidirectional_8 (Bidirection (None, 1, 400)            961600    \n",
      "_________________________________________________________________\n",
      "bidirectional_9 (Bidirection (None, 1, 400)            961600    \n",
      "_________________________________________________________________\n",
      "time_distributed_2 (TimeDist (None, 1, 12)             4812      \n",
      "=================================================================\n",
      "Total params: 2,254,412\n",
      "Trainable params: 2,254,412\n",
      "Non-trainable params: 0\n",
      "_________________________________________________________________\n"
     ]
    }
   ],
   "source": [
    "points=3\n",
    "# длина последовательности x\n",
    "x_length=cumsum(range(points))[-1]\n",
    "# длина послеловательности y\n",
    "y_length=x_length*4\n",
    "\n",
    "# Определяю модель\n",
    "model = Sequential()\n",
    "model.add(Bidirectional(LSTM(200, return_sequences=True), input_shape=(1, 3)))\n",
    "model.add(Bidirectional(LSTM(200, return_sequences=True)))\n",
    "model.add(Bidirectional(LSTM(200, return_sequences=True)))\n",
    "model.add(TimeDistributed(Dense(y_length, activation='relu')))\n",
    "model.compile(loss='mae', optimizer='adam')\n",
    "model.summary()"
   ]
  },
  {
   "cell_type": "markdown",
   "metadata": {},
   "source": [
    "Опытным путем подобрал вид LSTM, количество слоев и нейронов. Bidirectional - это значит что один слой делится на два, в котором в одном - данные проходят в одном направлении, а в другом в обратном. И в конце соединяются в одну последовательность, путем соединения, умножения, сложения и тд. По умолчанию стоит соединение в одну последовательность, что вполне подходит, ибо у меня входная последовательность короче выходной"
   ]
  },
  {
   "cell_type": "markdown",
   "metadata": {},
   "source": [
    "Вход input длиной 3 - количество сторон в треугольнике. Выход:"
   ]
  },
  {
   "cell_type": "code",
   "execution_count": 43,
   "metadata": {},
   "outputs": [
    {
     "data": {
      "text/plain": [
       "12"
      ]
     },
     "execution_count": 43,
     "metadata": {},
     "output_type": "execute_result"
    }
   ],
   "source": [
    "y_length"
   ]
  },
  {
   "cell_type": "markdown",
   "metadata": {},
   "source": [
    "12 - количество выходных координат"
   ]
  },
  {
   "cell_type": "markdown",
   "metadata": {},
   "source": [
    "Активация для выходного слоя 'relu' - помогающая бороться с исчезающими градиентами"
   ]
  },
  {
   "cell_type": "markdown",
   "metadata": {},
   "source": [
    "Функция потерь - среднее абсолютное отклонение 'mae'.\n",
    "Оптимизация 'adam'\n",
    "\n",
    "Все эти характеристики были установлены опытным путем, как наиболее оптимальные для скорости и качества обучения."
   ]
  },
  {
   "cell_type": "markdown",
   "metadata": {},
   "source": [
    "Пробовал обучаться еще кастомной евклидовой функцией потерь, но результат получился хуже."
   ]
  },
  {
   "cell_type": "code",
   "execution_count": 45,
   "metadata": {},
   "outputs": [],
   "source": [
    "def euclidean_distance_loss(y_true, y_pred):\n",
    "    \"\"\"\n",
    "    Euclidean distance loss\n",
    "    https://en.wikipedia.org/wiki/Euclidean_distance\n",
    "    :param y_true: TensorFlow/Theano tensor\n",
    "    :param y_pred: TensorFlow/Theano tensor of the same shape as y_true\n",
    "    :return: float\n",
    "    \"\"\"\n",
    "    return K.sqrt(K.sum(K.square(y_pred - y_true), axis=-1)) "
   ]
  },
  {
   "cell_type": "markdown",
   "metadata": {},
   "source": [
    "## Обучаю модель"
   ]
  },
  {
   "cell_type": "code",
   "execution_count": null,
   "metadata": {},
   "outputs": [],
   "source": [
    "# сюда буду аккумулировать данные с каждой итерации\n",
    "acc_list=[]\n",
    "for i in range(5000):\n",
    "    # генерирую обучающие наборы\n",
    "    X, y = generate_samples(75000,points)\n",
    "    # генерирую тестовые наборы\n",
    "    testX,testy=generate_samples(25000,points)\n",
    "    history = model.fit(X, y, validation_data=(testX, testy), epochs=1, shuffle=True, batch_size=32,verbose=1)\n",
    "    # После каждой итерации сохраняю модель на диск\n",
    "    model.save('model.h5')\n",
    "    acc_list.append(history.history['val_loss'][0])\n",
    "    print(sum(acc_list) / len(acc_list))\n"
   ]
  },
  {
   "cell_type": "code",
   "execution_count": 47,
   "metadata": {},
   "outputs": [
    {
     "data": {
      "image/png": "[encoded data removed]",
      "text/plain": [
       "<PIL.PngImagePlugin.PngImageFile image mode=RGBA size=639x156 at 0x25A000AD048>"
      ]
     },
     "metadata": {},
     "output_type": "display_data"
    }
   ],
   "source": [
    "im=Image.open('pic4.PNG')\n",
    "display(im)"
   ]
  },
  {
   "cell_type": "markdown",
   "metadata": {},
   "source": [
    "Как видно модель довольно быстро обучается и достигает точности меньше 0.01 за время около минуты. И сохраняет модель на диск."
   ]
  },
  {
   "cell_type": "markdown",
   "metadata": {},
   "source": [
    "Такой подход позволяет при достижении необходимой точности в ручную прекратить обучение или временно его остановить, а потом загрузить уже предобученую модель и продолжить обучение, если необходимо."
   ]
  },
  {
   "cell_type": "markdown",
   "metadata": {},
   "source": [
    "## Тестирую обученную модель"
   ]
  },
  {
   "cell_type": "code",
   "execution_count": 205,
   "metadata": {},
   "outputs": [],
   "source": [
    "saved_model = load_model('model.h5')"
   ]
  },
  {
   "cell_type": "code",
   "execution_count": 206,
   "metadata": {},
   "outputs": [
    {
     "data": {
      "image/png": "[encoded data removed]",
      "text/plain": [
       "<Figure size 432x288 with 1 Axes>"
      ]
     },
     "metadata": {
      "needs_background": "light"
     },
     "output_type": "display_data"
    }
   ],
   "source": [
    "points=3\n",
    "X, y = generate_samples(1, points)\n",
    "yhat = saved_model.predict(X, verbose=0)\n",
    "# генерирую два треугольника: реальный и предсказанный\n",
    "rect=y_to_seq(y[0][0])\n",
    "rect2=y_to_seq(yhat[0][0])\n",
    "plot_lines_2_plots(rect, rect2)"
   ]
  },
  {
   "cell_type": "markdown",
   "metadata": {},
   "source": [
    "Рисунок сверху показывает, что треугольники реальный и предсказанный совпадают. Выделенные цветом линии облегчают контроль порядка подаваемой последовательности, что потом пригодится для прогнозирования координат всей системы. То что эти два треугольника разные, можно убедится на нижних рисунках. где они разъединены."
   ]
  },
  {
   "cell_type": "code",
   "execution_count": 207,
   "metadata": {},
   "outputs": [],
   "source": [
    "def plot_lines(points):\n",
    "    lc = mcol.LineCollection(points, linewidths=1.1)\n",
    "    fig, ax = plt.subplots()\n",
    "    ax.add_collection(lc)\n",
    "    ax.autoscale()\n",
    "    ax.margins(0.1)\n",
    "    plt.xlim(-0.2, 1)\n",
    "    plt.ylim(-0.1, 1)"
   ]
  },
  {
   "cell_type": "code",
   "execution_count": 208,
   "metadata": {},
   "outputs": [
    {
     "data": {
      "image/png": "[encoded data removed]",
      "text/plain": [
       "<Figure size 432x288 with 1 Axes>"
      ]
     },
     "metadata": {
      "needs_background": "light"
     },
     "output_type": "display_data"
    },
    {
     "data": {
      "image/png": "[encoded data removed]",
      "text/plain": [
       "<Figure size 432x288 with 1 Axes>"
      ]
     },
     "metadata": {
      "needs_background": "light"
     },
     "output_type": "display_data"
    }
   ],
   "source": [
    "points=3\n",
    "\n",
    "# длина последовательности x\n",
    "x_length=cumsum(range(points))[-1]\n",
    "# длина послеловательности y\n",
    "y_length=x_length*4\n",
    "\n",
    "plot_lines(rect2)\n",
    "plot_lines(rect)\n",
    "plt.show()"
   ]
  },
  {
   "cell_type": "markdown",
   "metadata": {},
   "source": [
    "<a id='section_4'></a>\n",
    "# Определение координат системы точек"
   ]
  },
  {
   "cell_type": "markdown",
   "metadata": {},
   "source": [
    "Следующий шаг - создание модели для определения относительных координат"
   ]
  },
  {
   "cell_type": "markdown",
   "metadata": {},
   "source": [
    "Вспомогательные программы:"
   ]
  },
  {
   "cell_type": "code",
   "execution_count": 175,
   "metadata": {},
   "outputs": [],
   "source": [
    "# генерация точек для датасета\n",
    "def generate_points(points):\n",
    "    data=np.round(np.random.random_sample((points, 2)),7)\n",
    "    index=['id_'+str(i) for i in range(points)]\n",
    "    data=pd.DataFrame(data, index=index, columns=['X', 'Y'])\n",
    "    return data"
   ]
  },
  {
   "cell_type": "code",
   "execution_count": 176,
   "metadata": {},
   "outputs": [
    {
     "data": {
      "text/html": [
       "<div>\n",
       "<style scoped>\n",
       "    .dataframe tbody tr th:only-of-type {\n",
       "        vertical-align: middle;\n",
       "    }\n",
       "\n",
       "    .dataframe tbody tr th {\n",
       "        vertical-align: top;\n",
       "    }\n",
       "\n",
       "    .dataframe thead th {\n",
       "        text-align: right;\n",
       "    }\n",
       "</style>\n",
       "<table border=\"1\" class=\"dataframe\">\n",
       "  <thead>\n",
       "    <tr style=\"text-align: right;\">\n",
       "      <th></th>\n",
       "      <th>X</th>\n",
       "      <th>Y</th>\n",
       "    </tr>\n",
       "  </thead>\n",
       "  <tbody>\n",
       "    <tr>\n",
       "      <th>id_0</th>\n",
       "      <td>0.571756</td>\n",
       "      <td>0.114585</td>\n",
       "    </tr>\n",
       "    <tr>\n",
       "      <th>id_1</th>\n",
       "      <td>0.325192</td>\n",
       "      <td>0.634229</td>\n",
       "    </tr>\n",
       "    <tr>\n",
       "      <th>id_2</th>\n",
       "      <td>0.449632</td>\n",
       "      <td>0.056066</td>\n",
       "    </tr>\n",
       "    <tr>\n",
       "      <th>id_3</th>\n",
       "      <td>0.212181</td>\n",
       "      <td>0.505907</td>\n",
       "    </tr>\n",
       "    <tr>\n",
       "      <th>id_4</th>\n",
       "      <td>0.571739</td>\n",
       "      <td>0.193784</td>\n",
       "    </tr>\n",
       "    <tr>\n",
       "      <th>id_5</th>\n",
       "      <td>0.120611</td>\n",
       "      <td>0.469981</td>\n",
       "    </tr>\n",
       "  </tbody>\n",
       "</table>\n",
       "</div>"
      ],
      "text/plain": [
       "             X         Y\n",
       "id_0  0.571756  0.114585\n",
       "id_1  0.325192  0.634229\n",
       "id_2  0.449632  0.056066\n",
       "id_3  0.212181  0.505907\n",
       "id_4  0.571739  0.193784\n",
       "id_5  0.120611  0.469981"
      ]
     },
     "execution_count": 176,
     "metadata": {},
     "output_type": "execute_result"
    }
   ],
   "source": [
    "points=6\n",
    "generate_points(points)"
   ]
  },
  {
   "cell_type": "code",
   "execution_count": 177,
   "metadata": {},
   "outputs": [],
   "source": [
    "# генерация координат точек\n",
    "def generate_polygon_coordinates(data):\n",
    "    data=np.array(data)\n",
    "    lst=[]\n",
    "    d_start=[]\n",
    "    d_end=[]\n",
    "    for j in range(data.shape[0]):\n",
    "        for i in range(j+1,data.shape[0]):\n",
    "            res=(data[j], data[i])\n",
    "            lst.append(res)\n",
    "            d_start.append('id_'+str(j))\n",
    "            d_end.append('id_'+str(i))\n",
    "    dataframe=lst\n",
    "    return dataframe, d_start, d_end\n",
    "\n",
    "# расчет расстояний между точками из созданного датасета\n",
    "def calculate_distance(data, base_1, base_2):\n",
    "    id_1='id_'+str(base_1)\n",
    "    id_2='id_'+str(base_2)\n",
    "    criteria_1=(data[:,0]==id_1)|(data[:,1]==id_1)\n",
    "    criteria_2=(data[:,1]==id_2)| (data[:,0]==id_2)\n",
    "    criteria=criteria_1 & criteria_2\n",
    "    distance=data[criteria]\n",
    "    return distance[0][2]\n",
    "\n",
    "# генерирую данные датафрейма\n",
    "def generate_dataframe_data(data):\n",
    "    df, d_start,d_end=generate_polygon_coordinates(data)\n",
    "    arr_x=[((df[i][0][0]-df[i][1][0])**2+\n",
    "                       (df[i][0][1]-df[i][1][1])**2) for i in range(len(df))]\n",
    "    arr_y=[]\n",
    "    for i1 in range(len(df)):\n",
    "        for i2 in range(2):\n",
    "            for i3 in range(2):\n",
    "                arr_y.append(df[i1][i2][i3])\n",
    "    X=arr_x\n",
    "    y=arr_y\n",
    "    return X, y, df, d_start,d_end\n",
    "\n",
    "# генерирую датафрейм\n",
    "def generate_dataframe(data):\n",
    "    X,y, df, d_start,d_end=generate_dataframe_data(data)\n",
    "    df=pd.DataFrame(df, columns=['Point_1', 'Point_2'])\n",
    "    df=df.assign(D1=d_start)\n",
    "    df=df.assign(D2=d_end)\n",
    "    df=df.assign(Distance=X)\n",
    "    return df,y\n"
   ]
  },
  {
   "cell_type": "markdown",
   "metadata": {},
   "source": [
    "## Алгоритм решения"
   ]
  },
  {
   "cell_type": "markdown",
   "metadata": {},
   "source": [
    "Исходные данные, как и прежде имею следующий вид:\n",
    "    "
   ]
  },
  {
   "cell_type": "code",
   "execution_count": 178,
   "metadata": {},
   "outputs": [
    {
     "data": {
      "text/html": [
       "<div>\n",
       "<style scoped>\n",
       "    .dataframe tbody tr th:only-of-type {\n",
       "        vertical-align: middle;\n",
       "    }\n",
       "\n",
       "    .dataframe tbody tr th {\n",
       "        vertical-align: top;\n",
       "    }\n",
       "\n",
       "    .dataframe thead th {\n",
       "        text-align: right;\n",
       "    }\n",
       "</style>\n",
       "<table border=\"1\" class=\"dataframe\">\n",
       "  <thead>\n",
       "    <tr style=\"text-align: right;\">\n",
       "      <th></th>\n",
       "      <th>D1</th>\n",
       "      <th>D2</th>\n",
       "      <th>Distance</th>\n",
       "    </tr>\n",
       "  </thead>\n",
       "  <tbody>\n",
       "    <tr>\n",
       "      <th>0</th>\n",
       "      <td>id_0</td>\n",
       "      <td>id_1</td>\n",
       "      <td>0.699213</td>\n",
       "    </tr>\n",
       "    <tr>\n",
       "      <th>1</th>\n",
       "      <td>id_0</td>\n",
       "      <td>id_2</td>\n",
       "      <td>0.770766</td>\n",
       "    </tr>\n",
       "    <tr>\n",
       "      <th>2</th>\n",
       "      <td>id_0</td>\n",
       "      <td>id_3</td>\n",
       "      <td>0.697799</td>\n",
       "    </tr>\n",
       "    <tr>\n",
       "      <th>3</th>\n",
       "      <td>id_0</td>\n",
       "      <td>id_4</td>\n",
       "      <td>0.780878</td>\n",
       "    </tr>\n",
       "    <tr>\n",
       "      <th>4</th>\n",
       "      <td>id_1</td>\n",
       "      <td>id_2</td>\n",
       "      <td>0.014621</td>\n",
       "    </tr>\n",
       "    <tr>\n",
       "      <th>5</th>\n",
       "      <td>id_1</td>\n",
       "      <td>id_3</td>\n",
       "      <td>0.814849</td>\n",
       "    </tr>\n",
       "    <tr>\n",
       "      <th>6</th>\n",
       "      <td>id_1</td>\n",
       "      <td>id_4</td>\n",
       "      <td>0.460873</td>\n",
       "    </tr>\n",
       "    <tr>\n",
       "      <th>7</th>\n",
       "      <td>id_2</td>\n",
       "      <td>id_3</td>\n",
       "      <td>1.038910</td>\n",
       "    </tr>\n",
       "    <tr>\n",
       "      <th>8</th>\n",
       "      <td>id_2</td>\n",
       "      <td>id_4</td>\n",
       "      <td>0.639418</td>\n",
       "    </tr>\n",
       "    <tr>\n",
       "      <th>9</th>\n",
       "      <td>id_3</td>\n",
       "      <td>id_4</td>\n",
       "      <td>0.082570</td>\n",
       "    </tr>\n",
       "  </tbody>\n",
       "</table>\n",
       "</div>"
      ],
      "text/plain": [
       "     D1    D2  Distance\n",
       "0  id_0  id_1  0.699213\n",
       "1  id_0  id_2  0.770766\n",
       "2  id_0  id_3  0.697799\n",
       "3  id_0  id_4  0.780878\n",
       "4  id_1  id_2  0.014621\n",
       "5  id_1  id_3  0.814849\n",
       "6  id_1  id_4  0.460873\n",
       "7  id_2  id_3  1.038910\n",
       "8  id_2  id_4  0.639418\n",
       "9  id_3  id_4  0.082570"
      ]
     },
     "execution_count": 178,
     "metadata": {},
     "output_type": "execute_result"
    }
   ],
   "source": [
    "data=pd.read_csv('Dataframe.csv')\n",
    "data"
   ]
  },
  {
   "cell_type": "markdown",
   "metadata": {},
   "source": [
    "В таком виде данные и будут подаваться в исходную функцию."
   ]
  },
  {
   "cell_type": "markdown",
   "metadata": {},
   "source": [
    "Далее, определяются две базовые точки из датасета, относительно которых и будут расчитываться обученной моделью остальные координаты."
   ]
  },
  {
   "cell_type": "markdown",
   "metadata": {},
   "source": [
    "Для этого следующим ходом фиксируется обязательная третья точка: так как модель генерирует треугольники только в первой четверти координат, а любая точка относительно первых двух базовых может находится как слева так и справа, то третья точка служит для определения этого положения сравнивая расстояния"
   ]
  },
  {
   "cell_type": "code",
   "execution_count": 179,
   "metadata": {},
   "outputs": [],
   "source": [
    "# Функциия сравнивавания расстояния\n",
    "def closest(lst, K): \n",
    "      return lst[min(range(len(lst)), key = lambda i: abs(lst[i]-K))] \n",
    "    \n",
    "# функция определения координат из двух вариантов: слева и справа от базовой линии      \n",
    "def compare_euclid_dist(c_1,c_2, distance_3n, coordinates_3):\n",
    "    variant=[c_1,c_2]\n",
    "    res1=((c_1[0]-coordinates_3[0])**2+(c_1[1]-coordinates_3[1])**2)\n",
    "    res2=((c_2[0]-coordinates_3[0])**2+(c_2[1]-coordinates_3[1])**2)\n",
    "    lst=[res1, res2]\n",
    "    i=lst.index(closest(lst, distance_3n))\n",
    "    res=variant[i]\n",
    "    return res"
   ]
  },
  {
   "cell_type": "code",
   "execution_count": 231,
   "metadata": {},
   "outputs": [],
   "source": [
    "def calculate_coordinates(data):\n",
    "    dataframe, _=generate_dataframe(data)\n",
    "    # нахождение базовых точек\n",
    "    base_1=int(dataframe[dataframe.Distance==max(dataframe.Distance)].D1.item()[-1])\n",
    "    base_2=int(dataframe[dataframe.Distance==max(dataframe.Distance)].D2.item()[-1])\n",
    "    dataset=np.array(dataframe)[:,-3:]\n",
    "    distances_list=[]\n",
    "    poly_list=[]\n",
    "    distance_dict=dict()\n",
    "    data=data.assign(xhat=0.)\n",
    "    data=data.assign(yhat=0.)\n",
    "    # определяю количество точек в многоугольнике для последующей\n",
    "    # итерации\n",
    "    num_of_points=data.shape[0]\n",
    "    points_list=[x for x in range(num_of_points)]\n",
    "    points_list.remove(base_1)\n",
    "    points_list.remove(base_2)\n",
    "    # нахождение 3 точки по максимальным расстояниям до базовых\n",
    "    for point in points_list:\n",
    "        id_n='id_'+str(point)\n",
    "        distance_1n=calculate_distance(dataset, base_1, point)\n",
    "        distance_2n=calculate_distance(dataset, base_2, point)\n",
    "        distance_dict[id_n]=distance_1n+distance_2n\n",
    "    base_3=int(max(distance_dict.items(), key=operator.itemgetter(1))[0][3:])\n",
    "    points_list.remove(base_3)\n",
    "    distance_base=calculate_distance(dataset, base_1, base_2)\n",
    "    distance_13=calculate_distance(dataset, base_1, base_3)\n",
    "    distance_23=calculate_distance(dataset, base_2, base_3)\n",
    "    res=saved_model.predict(np.array([[[distance_base, \n",
    "                distance_13, distance_23]]]), verbose=0)\n",
    "    id_1='id_'+str(base_1)\n",
    "    id_2='id_'+str(base_2)\n",
    "    id_3='id_'+str(base_3)\n",
    "    data.loc[id_1, 'xhat']=0.\n",
    "    data.loc[id_1, 'yhat']=0\n",
    "    data.loc[id_2, 'xhat']=np.mean([res[0][0][2],res[0][0][8]])\n",
    "    data.loc[id_2, 'yhat']=np.mean([res[0][0][3],res[0][0][9]])\n",
    "    data.loc[id_3, 'xhat']=np.mean([res[0][0][6],res[0][0][10]])\n",
    "    data.loc[id_3, 'yhat']=np.mean([res[0][0][7],res[0][0][11]])\n",
    "    for point_n in points_list:\n",
    "        id_n='id_'+str(point_n)\n",
    "        distance_1n=calculate_distance(dataset, base_1, point_n)\n",
    "        distance_2n=calculate_distance(dataset, base_2, point_n)\n",
    "        distance_3n=calculate_distance(dataset, base_3, point_n)\n",
    "        res=saved_model.predict(np.array([[[distance_base, \n",
    "                distance_1n, distance_2n]]]), verbose=0)\n",
    "        c_1=[np.mean([res[0][0][6],res[0][0][10]]),\n",
    "                       np.mean([res[0][0][7],res[0][0][11]])]\n",
    "        c_2=[-np.mean([res[0][0][6],res[0][0][10]]),\n",
    "                       np.mean([res[0][0][7],res[0][0][11]])]\n",
    "        coordinates_3=[data.loc[id_3, 'xhat'],data.loc[id_3, 'yhat']]\n",
    "        res=compare_euclid_dist(c_1,c_2, distance_3n, coordinates_3)\n",
    "        data.loc[id_n, 'xhat']=res[0]\n",
    "        data.loc[id_n, 'yhat']=res[1]\n",
    "    return data"
   ]
  },
  {
   "cell_type": "code",
   "execution_count": 232,
   "metadata": {},
   "outputs": [],
   "source": [
    "# вспомогательная функция для отображения графиков точек\n",
    "def lines(data):\n",
    "    lst_original=[]\n",
    "    lst_predicted=[]\n",
    "    lst=data.index.to_list()\n",
    "    for id_x in lst:\n",
    "        original=[(data.loc['id_0', 'X'], data.loc['id_0', 'Y']),\n",
    "                 (data.loc[id_x, 'X'], data.loc[id_x, 'Y'])]\n",
    "        predicted=[(data.loc['id_0', 'xhat'], data.loc['id_0', 'yhat']),\n",
    "                 (data.loc[id_x, 'xhat'], data.loc[id_x, 'yhat'])]\n",
    "        lst_original.append(original)\n",
    "        lst_predicted.append(predicted)\n",
    "    return lst_original,lst_predicted\n",
    "\n",
    "# задаю функцию построения графика\n",
    "def points_plot(data):\n",
    "    labels_list=data.index.to_list()\n",
    "    fig= plt.figure(figsize=(7,7))\n",
    "    ax=fig.add_subplot(1,1,1)\n",
    "    ax.scatter(data['X'], data['Y'],c='#ff7f0e', label='Первичные координаты')\n",
    "    ax.scatter(data['xhat'], data['yhat'],c='#2ca02c', label='Предсказанные координаты')\n",
    "    for i, txt in enumerate(labels_list):\n",
    "        ax.annotate(txt, (data['X'][i], data['Y'][i]))\n",
    "    for i, txt in enumerate(labels_list):\n",
    "        ax.annotate(txt, (data['xhat'][i], data['yhat'][i]))\n",
    "    lc_1 = mcol.LineCollection(lines(data)[1], linewidths=1.1, colors='#2ca02c')\n",
    "    lc_0 = mcol.LineCollection(lines(data)[0], linewidths=1.1, colors='#ff7f0e')\n",
    "    ax.add_collection(lc_1)\n",
    "    ax.add_collection(lc_0)\n",
    "    plt.legend(bbox_to_anchor=(1.05, 1),loc='upper left')\n",
    "    plt.xlim(-1, 1)\n",
    "    plt.ylim(-1, 1)    \n",
    "    plt.axis('equal')"
   ]
  },
  {
   "cell_type": "code",
   "execution_count": 218,
   "metadata": {},
   "outputs": [],
   "source": [
    "saved_model = load_model('model.h5')"
   ]
  },
  {
   "cell_type": "code",
   "execution_count": 233,
   "metadata": {},
   "outputs": [
    {
     "data": {
      "text/html": [
       "<div>\n",
       "<style scoped>\n",
       "    .dataframe tbody tr th:only-of-type {\n",
       "        vertical-align: middle;\n",
       "    }\n",
       "\n",
       "    .dataframe tbody tr th {\n",
       "        vertical-align: top;\n",
       "    }\n",
       "\n",
       "    .dataframe thead th {\n",
       "        text-align: right;\n",
       "    }\n",
       "</style>\n",
       "<table border=\"1\" class=\"dataframe\">\n",
       "  <thead>\n",
       "    <tr style=\"text-align: right;\">\n",
       "      <th></th>\n",
       "      <th>X</th>\n",
       "      <th>Y</th>\n",
       "      <th>xhat</th>\n",
       "      <th>yhat</th>\n",
       "    </tr>\n",
       "  </thead>\n",
       "  <tbody>\n",
       "    <tr>\n",
       "      <th>id_0</th>\n",
       "      <td>0.463635</td>\n",
       "      <td>0.456800</td>\n",
       "      <td>-0.186969</td>\n",
       "      <td>0.172233</td>\n",
       "    </tr>\n",
       "    <tr>\n",
       "      <th>id_1</th>\n",
       "      <td>0.965554</td>\n",
       "      <td>0.145070</td>\n",
       "      <td>0.401295</td>\n",
       "      <td>0.241626</td>\n",
       "    </tr>\n",
       "    <tr>\n",
       "      <th>id_2</th>\n",
       "      <td>0.552990</td>\n",
       "      <td>0.723012</td>\n",
       "      <td>-0.282190</td>\n",
       "      <td>0.437394</td>\n",
       "    </tr>\n",
       "    <tr>\n",
       "      <th>id_3</th>\n",
       "      <td>0.662235</td>\n",
       "      <td>0.528652</td>\n",
       "      <td>-0.077177</td>\n",
       "      <td>0.353179</td>\n",
       "    </tr>\n",
       "    <tr>\n",
       "      <th>id_4</th>\n",
       "      <td>0.500845</td>\n",
       "      <td>0.205701</td>\n",
       "      <td>0.000000</td>\n",
       "      <td>0.000000</td>\n",
       "    </tr>\n",
       "    <tr>\n",
       "      <th>id_5</th>\n",
       "      <td>0.859986</td>\n",
       "      <td>0.315135</td>\n",
       "      <td>0.214173</td>\n",
       "      <td>0.308967</td>\n",
       "    </tr>\n",
       "    <tr>\n",
       "      <th>id_6</th>\n",
       "      <td>0.803351</td>\n",
       "      <td>0.152010</td>\n",
       "      <td>0.270650</td>\n",
       "      <td>0.145363</td>\n",
       "    </tr>\n",
       "    <tr>\n",
       "      <th>id_7</th>\n",
       "      <td>0.973753</td>\n",
       "      <td>0.799750</td>\n",
       "      <td>0.000000</td>\n",
       "      <td>0.759319</td>\n",
       "    </tr>\n",
       "  </tbody>\n",
       "</table>\n",
       "</div>"
      ],
      "text/plain": [
       "             X         Y      xhat      yhat\n",
       "id_0  0.463635  0.456800 -0.186969  0.172233\n",
       "id_1  0.965554  0.145070  0.401295  0.241626\n",
       "id_2  0.552990  0.723012 -0.282190  0.437394\n",
       "id_3  0.662235  0.528652 -0.077177  0.353179\n",
       "id_4  0.500845  0.205701  0.000000  0.000000\n",
       "id_5  0.859986  0.315135  0.214173  0.308967\n",
       "id_6  0.803351  0.152010  0.270650  0.145363\n",
       "id_7  0.973753  0.799750  0.000000  0.759319"
      ]
     },
     "execution_count": 233,
     "metadata": {},
     "output_type": "execute_result"
    },
    {
     "data": {
      "image/png": "[encoded data removed]",
      "text/plain": [
       "<Figure size 504x504 with 1 Axes>"
      ]
     },
     "metadata": {
      "needs_background": "light"
     },
     "output_type": "display_data"
    }
   ],
   "source": [
    "points=8\n",
    "data=generate_points(points)\n",
    "data =calculate_coordinates(data)\n",
    "points_plot(data)\n",
    "data"
   ]
  },
  {
   "cell_type": "markdown",
   "metadata": {},
   "source": [
    "Тут есть два ключевых момента, на которые стоит обратить внимание:\n",
    "        1. Выбор первых двух базовых точек\n",
    "        2. Выбор третьей базовой точки"
   ]
  },
  {
   "cell_type": "markdown",
   "metadata": {},
   "source": [
    "## Выбор первых двух базовых точек"
   ]
  },
  {
   "cell_type": "markdown",
   "metadata": {},
   "source": [
    "Тут проблема кроется в следующем: модель обучена генерировать треугольники только в первом координатном секторе, если же реальная точка оказывается ниже, то она просто генерирует ее на оси X, где x=0, как показано на рисунке ниже."
   ]
  },
  {
   "cell_type": "code",
   "execution_count": 228,
   "metadata": {},
   "outputs": [
    {
     "data": {
      "image/png": "[encoded data removed]",
      "text/plain": [
       "<PIL.PngImagePlugin.PngImageFile image mode=RGBA size=647x397 at 0x25A0D3F9C08>"
      ]
     },
     "metadata": {},
     "output_type": "display_data"
    }
   ],
   "source": [
    "im=Image.open('pic5.PNG')\n",
    "display(im)"
   ]
  },
  {
   "cell_type": "markdown",
   "metadata": {},
   "source": [
    "Здесь за базовые взяты принудительно точки 2 и 5. Все остальные точки находящиеся относительно ниже, не отобразились."
   ]
  },
  {
   "cell_type": "markdown",
   "metadata": {},
   "source": [
    "Если же взять за базовые точки 3 и 5, то все будет нормально:"
   ]
  },
  {
   "cell_type": "code",
   "execution_count": 229,
   "metadata": {},
   "outputs": [
    {
     "data": {
      "image/png": "[encoded data removed]",
      "text/plain": [
       "<PIL.PngImagePlugin.PngImageFile image mode=RGBA size=623x406 at 0x25A434028C8>"
      ]
     },
     "metadata": {},
     "output_type": "display_data"
    }
   ],
   "source": [
    "im=Image.open('pic6.PNG')\n",
    "display(im)"
   ]
  },
  {
   "cell_type": "markdown",
   "metadata": {},
   "source": [
    "Таким образом, чтобы избежать этой ошибки за базовые нужно брать точки расстояние между которыми в системе максимально. Что я и реализовал в программе."
   ]
  },
  {
   "cell_type": "markdown",
   "metadata": {},
   "source": [
    "## Выбор третьей базовой точки"
   ]
  },
  {
   "cell_type": "markdown",
   "metadata": {},
   "source": [
    "С такой же логикой можно подойти и к выбору третьей базовой точки: это не обязательно, но если еее выбирать случайным образом, то она может расположиться оченбь близко к оси Y или вообще на этой оси, что приведет к ошибкам. По этому в программе я ее выбираю по максимальной сумме расстояний от первых двух базовых точек."
   ]
  },
  {
   "cell_type": "markdown",
   "metadata": {},
   "source": [
    "<a id='section_5'></a>\n",
    "# Заключение"
   ]
  },
  {
   "cell_type": "code",
   "execution_count": 238,
   "metadata": {},
   "outputs": [
    {
     "data": {
      "text/html": [
       "<div>\n",
       "<style scoped>\n",
       "    .dataframe tbody tr th:only-of-type {\n",
       "        vertical-align: middle;\n",
       "    }\n",
       "\n",
       "    .dataframe tbody tr th {\n",
       "        vertical-align: top;\n",
       "    }\n",
       "\n",
       "    .dataframe thead th {\n",
       "        text-align: right;\n",
       "    }\n",
       "</style>\n",
       "<table border=\"1\" class=\"dataframe\">\n",
       "  <thead>\n",
       "    <tr style=\"text-align: right;\">\n",
       "      <th></th>\n",
       "      <th>X</th>\n",
       "      <th>Y</th>\n",
       "      <th>xhat</th>\n",
       "      <th>yhat</th>\n",
       "    </tr>\n",
       "  </thead>\n",
       "  <tbody>\n",
       "    <tr>\n",
       "      <th>id_0</th>\n",
       "      <td>0.675688</td>\n",
       "      <td>0.762750</td>\n",
       "      <td>0.486812</td>\n",
       "      <td>0.439808</td>\n",
       "    </tr>\n",
       "    <tr>\n",
       "      <th>id_1</th>\n",
       "      <td>0.025732</td>\n",
       "      <td>0.677999</td>\n",
       "      <td>0.000000</td>\n",
       "      <td>0.000000</td>\n",
       "    </tr>\n",
       "    <tr>\n",
       "      <th>id_2</th>\n",
       "      <td>0.446321</td>\n",
       "      <td>0.317195</td>\n",
       "      <td>0.000000</td>\n",
       "      <td>0.554421</td>\n",
       "    </tr>\n",
       "    <tr>\n",
       "      <th>id_3</th>\n",
       "      <td>0.319089</td>\n",
       "      <td>0.179965</td>\n",
       "      <td>-0.188908</td>\n",
       "      <td>0.546496</td>\n",
       "    </tr>\n",
       "    <tr>\n",
       "      <th>id_4</th>\n",
       "      <td>0.786270</td>\n",
       "      <td>0.028683</td>\n",
       "      <td>0.000000</td>\n",
       "      <td>1.000601</td>\n",
       "    </tr>\n",
       "    <tr>\n",
       "      <th>id_5</th>\n",
       "      <td>0.806248</td>\n",
       "      <td>0.735732</td>\n",
       "      <td>0.551538</td>\n",
       "      <td>0.556797</td>\n",
       "    </tr>\n",
       "    <tr>\n",
       "      <th>id_6</th>\n",
       "      <td>0.977588</td>\n",
       "      <td>0.614492</td>\n",
       "      <td>0.570354</td>\n",
       "      <td>0.765331</td>\n",
       "    </tr>\n",
       "    <tr>\n",
       "      <th>id_7</th>\n",
       "      <td>0.131568</td>\n",
       "      <td>0.250201</td>\n",
       "      <td>-0.257259</td>\n",
       "      <td>0.358045</td>\n",
       "    </tr>\n",
       "    <tr>\n",
       "      <th>id_8</th>\n",
       "      <td>0.562461</td>\n",
       "      <td>0.500139</td>\n",
       "      <td>0.213948</td>\n",
       "      <td>0.523749</td>\n",
       "    </tr>\n",
       "    <tr>\n",
       "      <th>id_9</th>\n",
       "      <td>0.869859</td>\n",
       "      <td>0.151116</td>\n",
       "      <td>0.147284</td>\n",
       "      <td>0.985047</td>\n",
       "    </tr>\n",
       "    <tr>\n",
       "      <th>id_10</th>\n",
       "      <td>0.761635</td>\n",
       "      <td>0.327317</td>\n",
       "      <td>0.211004</td>\n",
       "      <td>0.788167</td>\n",
       "    </tr>\n",
       "    <tr>\n",
       "      <th>id_11</th>\n",
       "      <td>0.332957</td>\n",
       "      <td>0.427000</td>\n",
       "      <td>0.003295</td>\n",
       "      <td>0.396604</td>\n",
       "    </tr>\n",
       "    <tr>\n",
       "      <th>id_12</th>\n",
       "      <td>0.703810</td>\n",
       "      <td>0.604281</td>\n",
       "      <td>0.385023</td>\n",
       "      <td>0.563846</td>\n",
       "    </tr>\n",
       "    <tr>\n",
       "      <th>id_13</th>\n",
       "      <td>0.107569</td>\n",
       "      <td>0.741611</td>\n",
       "      <td>0.101436</td>\n",
       "      <td>0.018088</td>\n",
       "    </tr>\n",
       "    <tr>\n",
       "      <th>id_14</th>\n",
       "      <td>0.951393</td>\n",
       "      <td>0.298472</td>\n",
       "      <td>0.313503</td>\n",
       "      <td>0.950955</td>\n",
       "    </tr>\n",
       "    <tr>\n",
       "      <th>id_15</th>\n",
       "      <td>0.205987</td>\n",
       "      <td>0.550975</td>\n",
       "      <td>0.012319</td>\n",
       "      <td>0.218627</td>\n",
       "    </tr>\n",
       "    <tr>\n",
       "      <th>id_16</th>\n",
       "      <td>0.821222</td>\n",
       "      <td>0.339861</td>\n",
       "      <td>0.259524</td>\n",
       "      <td>0.825369</td>\n",
       "    </tr>\n",
       "    <tr>\n",
       "      <th>id_17</th>\n",
       "      <td>0.568895</td>\n",
       "      <td>0.540584</td>\n",
       "      <td>0.248816</td>\n",
       "      <td>0.502518</td>\n",
       "    </tr>\n",
       "    <tr>\n",
       "      <th>id_18</th>\n",
       "      <td>0.749210</td>\n",
       "      <td>0.475568</td>\n",
       "      <td>0.316736</td>\n",
       "      <td>0.682359</td>\n",
       "    </tr>\n",
       "    <tr>\n",
       "      <th>id_19</th>\n",
       "      <td>0.886907</td>\n",
       "      <td>0.174204</td>\n",
       "      <td>0.176405</td>\n",
       "      <td>0.983092</td>\n",
       "    </tr>\n",
       "  </tbody>\n",
       "</table>\n",
       "</div>"
      ],
      "text/plain": [
       "              X         Y      xhat      yhat\n",
       "id_0   0.675688  0.762750  0.486812  0.439808\n",
       "id_1   0.025732  0.677999  0.000000  0.000000\n",
       "id_2   0.446321  0.317195  0.000000  0.554421\n",
       "id_3   0.319089  0.179965 -0.188908  0.546496\n",
       "id_4   0.786270  0.028683  0.000000  1.000601\n",
       "id_5   0.806248  0.735732  0.551538  0.556797\n",
       "id_6   0.977588  0.614492  0.570354  0.765331\n",
       "id_7   0.131568  0.250201 -0.257259  0.358045\n",
       "id_8   0.562461  0.500139  0.213948  0.523749\n",
       "id_9   0.869859  0.151116  0.147284  0.985047\n",
       "id_10  0.761635  0.327317  0.211004  0.788167\n",
       "id_11  0.332957  0.427000  0.003295  0.396604\n",
       "id_12  0.703810  0.604281  0.385023  0.563846\n",
       "id_13  0.107569  0.741611  0.101436  0.018088\n",
       "id_14  0.951393  0.298472  0.313503  0.950955\n",
       "id_15  0.205987  0.550975  0.012319  0.218627\n",
       "id_16  0.821222  0.339861  0.259524  0.825369\n",
       "id_17  0.568895  0.540584  0.248816  0.502518\n",
       "id_18  0.749210  0.475568  0.316736  0.682359\n",
       "id_19  0.886907  0.174204  0.176405  0.983092"
      ]
     },
     "execution_count": 238,
     "metadata": {},
     "output_type": "execute_result"
    },
    {
     "data": {
      "image/png": "[encoded data removed]",
      "text/plain": [
       "<Figure size 504x504 with 1 Axes>"
      ]
     },
     "metadata": {
      "needs_background": "light"
     },
     "output_type": "display_data"
    }
   ],
   "source": [
    "points=20\n",
    "data=generate_points(points)\n",
    "data =calculate_coordinates(data)\n",
    "points_plot(data)\n",
    "data"
   ]
  },
  {
   "cell_type": "markdown",
   "metadata": {},
   "source": [
    "В целом на этом где-то можно и закончить: задача выполнена, модель определяет относительное расположение точек. Нюанс есть в том, что иногда это происходит в левонаправленной системе координат, но в условиях задачи об этом ничего не сказано. "
   ]
  },
  {
   "cell_type": "markdown",
   "metadata": {},
   "source": [
    "Можно конечно двигаться дальше и сделать линейное преобразование координат, но это уже другая, не связанная с этой проблема."
   ]
  },
  {
   "cell_type": "markdown",
   "metadata": {},
   "source": [
    "Обученную модель можно загрузить по ссылке: http://gofile.me/6ncNu/RfKgsf1Ty"
   ]
  },
  {
   "cell_type": "code",
   "execution_count": null,
   "metadata": {},
   "outputs": [],
   "source": []
  }
 ],
 "metadata": {
  "kernelspec": {
   "display_name": "Python 3",
   "language": "python",
   "name": "python3"
  },
  "language_info": {
   "codemirror_mode": {
    "name": "ipython",
    "version": 3
   },
   "file_extension": ".py",
   "mimetype": "text/x-python",
   "name": "python",
   "nbconvert_exporter": "python",
   "pygments_lexer": "ipython3",
   "version": "3.7.4"
  },
  "toc": {
   "base_numbering": 1,
   "nav_menu": {},
   "number_sections": true,
   "sideBar": true,
   "skip_h1_title": false,
   "title_cell": "Table of Contents",
   "title_sidebar": "Contents",
   "toc_cell": false,
   "toc_position": {
    "height": "calc(100% - 180px)",
    "left": "10px",
    "top": "150px",
    "width": "384px"
   },
   "toc_section_display": true,
   "toc_window_display": true
  }
 },
 "nbformat": 4,
 "nbformat_minor": 2
}
