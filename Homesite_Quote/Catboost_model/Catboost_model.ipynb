{
 "cells": [
  {
   "cell_type": "markdown",
   "metadata": {},
   "source": [
    "# Обучение модели Catboost"
   ]
  },
  {
   "cell_type": "code",
   "execution_count": 1,
   "metadata": {},
   "outputs": [
    {
     "name": "stdout",
     "output_type": "stream",
     "text": [
      "Collecting catboost\n",
      "  Downloading catboost-0.24.4-cp37-none-manylinux1_x86_64.whl (65.7 MB)\n",
      "\u001b[K     |████████████████████████████████| 65.7 MB 8.4 kB/s  eta 0:00:01\n",
      "\u001b[?25hRequirement already satisfied: plotly in /usr/local/lib/python3.7/site-packages (from catboost) (4.7.1)\n",
      "Requirement already satisfied: numpy>=1.16.0 in /usr/local/lib/python3.7/site-packages (from catboost) (1.18.4)\n",
      "Requirement already satisfied: matplotlib in /usr/local/lib/python3.7/site-packages (from catboost) (3.2.1)\n",
      "Requirement already satisfied: six in /usr/local/lib/python3.7/site-packages (from catboost) (1.14.0)\n",
      "Requirement already satisfied: scipy in /usr/local/lib/python3.7/site-packages (from catboost) (1.4.1)\n",
      "Collecting graphviz\n",
      "  Downloading graphviz-0.16-py2.py3-none-any.whl (19 kB)\n",
      "Requirement already satisfied: pandas>=0.24.0 in /usr/local/lib/python3.7/site-packages (from catboost) (1.0.3)\n",
      "Requirement already satisfied: retrying>=1.3.3 in /usr/local/lib/python3.7/site-packages (from plotly->catboost) (1.3.3)\n",
      "Requirement already satisfied: cycler>=0.10 in /usr/local/lib/python3.7/site-packages (from matplotlib->catboost) (0.10.0)\n",
      "Requirement already satisfied: pyparsing!=2.0.4,!=2.1.2,!=2.1.6,>=2.0.1 in /usr/local/lib/python3.7/site-packages (from matplotlib->catboost) (2.4.7)\n",
      "Requirement already satisfied: kiwisolver>=1.0.1 in /usr/local/lib/python3.7/site-packages (from matplotlib->catboost) (1.2.0)\n",
      "Requirement already satisfied: python-dateutil>=2.1 in /usr/local/lib/python3.7/site-packages (from matplotlib->catboost) (2.8.1)\n",
      "Requirement already satisfied: pytz>=2017.2 in /usr/local/lib/python3.7/site-packages (from pandas>=0.24.0->catboost) (2020.1)\n",
      "Installing collected packages: graphviz, catboost\n",
      "Successfully installed catboost-0.24.4 graphviz-0.16\n",
      "\u001b[33mWARNING: You are using pip version 20.1; however, version 20.3.3 is available.\n",
      "You should consider upgrading via the '/usr/local/bin/python -m pip install --upgrade pip' command.\u001b[0m\n"
     ]
    }
   ],
   "source": [
    "!pip install catboost"
   ]
  },
  {
   "cell_type": "code",
   "execution_count": 2,
   "metadata": {},
   "outputs": [
    {
     "name": "stdout",
     "output_type": "stream",
     "text": [
      "Collecting optuna\n",
      "  Downloading optuna-2.4.0-py3-none-any.whl (282 kB)\n",
      "\u001b[K     |████████████████████████████████| 282 kB 9.9 MB/s eta 0:00:01\n",
      "\u001b[?25hCollecting cmaes>=0.6.0\n",
      "  Downloading cmaes-0.7.0-py3-none-any.whl (13 kB)\n",
      "Requirement already satisfied: tqdm in /usr/local/lib/python3.7/site-packages (from optuna) (4.46.0)\n",
      "Requirement already satisfied: packaging>=20.0 in /usr/local/lib/python3.7/site-packages (from optuna) (20.3)\n",
      "Collecting sqlalchemy>=1.1.0\n",
      "  Downloading SQLAlchemy-1.3.22-cp37-cp37m-manylinux2010_x86_64.whl (1.3 MB)\n",
      "\u001b[K     |████████████████████████████████| 1.3 MB 15.1 MB/s eta 0:00:01\n",
      "\u001b[?25hRequirement already satisfied: scipy!=1.4.0 in /usr/local/lib/python3.7/site-packages (from optuna) (1.4.1)\n",
      "Requirement already satisfied: joblib in /usr/local/lib/python3.7/site-packages (from optuna) (0.14.1)\n",
      "Requirement already satisfied: numpy in /usr/local/lib/python3.7/site-packages (from optuna) (1.18.4)\n",
      "Collecting alembic\n",
      "  Downloading alembic-1.5.1-py2.py3-none-any.whl (155 kB)\n",
      "\u001b[K     |████████████████████████████████| 155 kB 32.6 MB/s eta 0:00:01\n",
      "\u001b[?25hCollecting colorlog\n",
      "  Downloading colorlog-4.7.2-py2.py3-none-any.whl (10 kB)\n",
      "Collecting cliff\n",
      "  Downloading cliff-3.6.0-py3-none-any.whl (79 kB)\n",
      "\u001b[K     |████████████████████████████████| 79 kB 12.1 MB/s eta 0:00:01\n",
      "\u001b[?25hRequirement already satisfied: six in /usr/local/lib/python3.7/site-packages (from packaging>=20.0->optuna) (1.14.0)\n",
      "Requirement already satisfied: pyparsing>=2.0.2 in /usr/local/lib/python3.7/site-packages (from packaging>=20.0->optuna) (2.4.7)\n",
      "Collecting python-editor>=0.3\n",
      "  Downloading python_editor-1.0.4-py3-none-any.whl (4.9 kB)\n",
      "Collecting Mako\n",
      "  Downloading Mako-1.1.4.tar.gz (479 kB)\n",
      "\u001b[K     |████████████████████████████████| 479 kB 31.2 MB/s eta 0:00:01\n",
      "\u001b[?25hRequirement already satisfied: python-dateutil in /usr/local/lib/python3.7/site-packages (from alembic->optuna) (2.8.1)\n",
      "Requirement already satisfied: PyYAML>=3.12 in /usr/local/lib/python3.7/site-packages (from cliff->optuna) (5.3.1)\n",
      "Collecting cmd2!=0.8.3,>=0.8.0\n",
      "  Downloading cmd2-1.4.0-py3-none-any.whl (133 kB)\n",
      "\u001b[K     |████████████████████████████████| 133 kB 42.1 MB/s eta 0:00:01\n",
      "\u001b[?25hRequirement already satisfied: pbr!=2.1.0,>=2.0.0 in /usr/local/lib/python3.7/site-packages (from cliff->optuna) (5.4.5)\n",
      "Collecting PrettyTable<0.8,>=0.7.2\n",
      "  Downloading prettytable-0.7.2.tar.bz2 (21 kB)\n",
      "Collecting stevedore>=2.0.1\n",
      "  Downloading stevedore-3.3.0-py3-none-any.whl (49 kB)\n",
      "\u001b[K     |████████████████████████████████| 49 kB 11.6 MB/s eta 0:00:01\n",
      "\u001b[?25hRequirement already satisfied: MarkupSafe>=0.9.2 in /usr/local/lib/python3.7/site-packages (from Mako->alembic->optuna) (1.1.1)\n",
      "Collecting colorama>=0.3.7\n",
      "  Downloading colorama-0.4.4-py2.py3-none-any.whl (16 kB)\n",
      "Requirement already satisfied: attrs>=16.3.0 in /usr/local/lib/python3.7/site-packages (from cmd2!=0.8.3,>=0.8.0->cliff->optuna) (19.3.0)\n",
      "Requirement already satisfied: wcwidth>=0.1.7 in /usr/local/lib/python3.7/site-packages (from cmd2!=0.8.3,>=0.8.0->cliff->optuna) (0.1.9)\n",
      "Collecting pyperclip>=1.6\n",
      "  Downloading pyperclip-1.8.1.tar.gz (20 kB)\n",
      "Requirement already satisfied: importlib-metadata>=1.6.0; python_version < \"3.8\" in /usr/local/lib/python3.7/site-packages (from cmd2!=0.8.3,>=0.8.0->cliff->optuna) (1.6.0)\n",
      "Requirement already satisfied: zipp>=0.5 in /usr/local/lib/python3.7/site-packages (from importlib-metadata>=1.6.0; python_version < \"3.8\"->cmd2!=0.8.3,>=0.8.0->cliff->optuna) (3.1.0)\n",
      "Building wheels for collected packages: Mako, PrettyTable, pyperclip\n",
      "  Building wheel for Mako (setup.py) ... \u001b[?25ldone\n",
      "\u001b[?25h  Created wheel for Mako: filename=Mako-1.1.4-py2.py3-none-any.whl size=75675 sha256=d05976b222a7507a4bd9c5be332d6661e9ce6aa30998d8403cbcaa898902f933\n",
      "  Stored in directory: /root/.cache/pip/wheels/2a/60/32/02a16820f96c067f6161ef35c21559f8db52c4158d6602b438\n",
      "  Building wheel for PrettyTable (setup.py) ... \u001b[?25ldone\n",
      "\u001b[?25h  Created wheel for PrettyTable: filename=prettytable-0.7.2-py3-none-any.whl size=13698 sha256=99376d1bf93a66f895db5769b1d731421ad1b81ebbb833dd5cc7834d7215647c\n",
      "  Stored in directory: /root/.cache/pip/wheels/8c/76/0b/eb9eb3da7e2335e3577e3f96a0ae9f74f206e26457bd1a2bc8\n",
      "  Building wheel for pyperclip (setup.py) ... \u001b[?25ldone\n",
      "\u001b[?25h  Created wheel for pyperclip: filename=pyperclip-1.8.1-py3-none-any.whl size=11118 sha256=5155d563c0098b43e62d8ff9294d474a5613c654feb187017cb919a04a0aca84\n",
      "  Stored in directory: /root/.cache/pip/wheels/67/3f/92/2fae5a6ebb97a26aea363c444dcfa7c7b479feff12fcac6d0c\n",
      "Successfully built Mako PrettyTable pyperclip\n",
      "\u001b[31mERROR: stevedore 3.3.0 has requirement importlib-metadata>=1.7.0; python_version < \"3.8\", but you'll have importlib-metadata 1.6.0 which is incompatible.\u001b[0m\n",
      "Installing collected packages: cmaes, sqlalchemy, python-editor, Mako, alembic, colorlog, colorama, pyperclip, cmd2, PrettyTable, stevedore, cliff, optuna\n",
      "Successfully installed Mako-1.1.4 PrettyTable-0.7.2 alembic-1.5.1 cliff-3.6.0 cmaes-0.7.0 cmd2-1.4.0 colorama-0.4.4 colorlog-4.7.2 optuna-2.4.0 pyperclip-1.8.1 python-editor-1.0.4 sqlalchemy-1.3.22 stevedore-3.3.0\n",
      "\u001b[33mWARNING: You are using pip version 20.1; however, version 20.3.3 is available.\n",
      "You should consider upgrading via the '/usr/local/bin/python -m pip install --upgrade pip' command.\u001b[0m\n"
     ]
    }
   ],
   "source": [
    "!pip install optuna"
   ]
  },
  {
   "cell_type": "code",
   "execution_count": 4,
   "metadata": {},
   "outputs": [],
   "source": [
    "from itertools import chain\n",
    "import matplotlib.pyplot as plt\n",
    "from itertools import combinations\n",
    "import numpy as np\n",
    "import pandas as pd\n",
    "import xgboost as xgb\n",
    "import catboost as ctb\n",
    "import optuna\n",
    "from optuna.samplers import RandomSampler\n",
    "from optuna.integration import OptunaSearchCV\n",
    "from optuna.distributions import IntUniformDistribution, UniformDistribution\n",
    "from catboost import CatBoostClassifier, Pool\n",
    "from sklearn.model_selection import GridSearchCV\n",
    "from sklearn.model_selection import train_test_split\n",
    "from sklearn.metrics import roc_auc_score\n",
    "from PIL import Image\n",
    "from IPython.display import display\n",
    "from sklearn import preprocessing\n",
    "import warnings\n",
    "import pickle\n",
    "from itertools import compress\n",
    "#import xgbfir\n",
    "warnings.filterwarnings(\"ignore\")"
   ]
  },
  {
   "cell_type": "markdown",
   "metadata": {},
   "source": [
    "# Делаю предварительную обработку данных"
   ]
  },
  {
   "cell_type": "code",
   "execution_count": 4,
   "metadata": {},
   "outputs": [],
   "source": [
    "\n",
    "\n",
    "from itertools import chain\n",
    "\n",
    "import numpy as np\n",
    "import pandas as pd\n",
    "import xgboost as xgb\n",
    "from sklearn import preprocessing\n",
    "\n",
    "train_file = 'train.csv'\n",
    "test_file = 'test.csv'\n",
    "\n",
    "\n",
    "\n",
    "\n",
    "top111 = ['Field12', 'PersonalField52', 'PersonalField80', 'PersonalField44', 'Field9',\n",
    "          'PropertyField7', 'PropertyField12', 'CoverageField5B', 'PersonalField42', 'PersonalField45',\n",
    "          'PersonalField81', 'PropertyField8', 'PersonalField79', 'GeographicField45B', 'PropertyField22',\n",
    "          'PersonalField75', 'PersonalField31', 'PropertyField19', 'PropertyField31', 'GeographicField11A',\n",
    "          'PersonalField23', 'GeographicField21B', 'PersonalField4A', 'Field10', 'GeographicField16B',\n",
    "          'GeographicField20A', 'PersonalField25', 'PersonalField4B', 'PropertyField3', 'GeographicField17A',\n",
    "          'GeographicField59B', 'GeographicField7B', 'GeographicField8A', 'Year', 'GeographicField6B',\n",
    "          'PersonalField14',\n",
    "          'GeographicField45A', 'GeographicField14B', 'SalesField12', 'CoverageField11A', 'CoverageField5A', 'Month',\n",
    "          'PropertyField33', 'PersonalField5', 'CoverageField11B', 'GeographicField11B', 'GeographicField23B',\n",
    "          'PropertyField39B', 'CoverageField3A', 'GeographicField1B', 'GeographicField17B', 'PropertyField39A',\n",
    "          'GeographicField41B', 'CoverageField6A', 'SalesField9', 'PersonalField16', 'PersonalField26',\n",
    "          'PropertyField24A', 'Field8', 'GeographicField28A', 'CoverageField3B', 'SalesField2A', 'GeographicField19B',\n",
    "          'GeographicField43A', 'PropertyField16B', 'PropertyField16A', 'PropertyField1B', 'CoverageField1B',\n",
    "          'PropertyField1A', 'GeographicField48B', 'PersonalField11', 'CoverageField1A', 'PersonalField15',\n",
    "          'GeographicField5B', 'PropertyField34', 'CoverageField8', 'PersonalField82', 'SalesField2B',\n",
    "          'PropertyField35', 'CoverageField2B', 'SalesField10', 'PropertyField21A', 'SalesField3', 'CoverageField9',\n",
    "          'SalesField7', 'Weekday', 'PersonalField13', 'PropertyField21B', 'SalesField6', 'SalesField1A',\n",
    "          'PersonalField9', 'SalesField4', 'PersonalField12', 'PersonalField27', 'PersonalField10B', 'Field7',\n",
    "          'SalesField1B', 'PersonalField84', 'PersonalField2', 'PersonalField1', 'SalesField5', 'PersonalField10A',\n",
    "          'PropertyField37', 'PropertyField29', 'GeographicField4B', 'PropertyField2B', 'GeographicField1A',\n",
    "          'GeographicField61B', 'Field11', 'PersonalField76', 'PropertyField30']\n",
    "\n",
    "drop_out = ['GeographicField19B', 'PropertyField7', 'GeographicField17A', 'GeographicField28A',\n",
    "            'GeographicField21B', 'GeographicField7B', 'CoverageField11B', 'GeographicField6B', 'GeographicField45A',\n",
    "            'PersonalField25', 'Month', 'CoverageField5A', 'GeographicField8A', 'GeographicField1B',\n",
    "            'CoverageField6A_CoverageField6B', 'PersonalField23', 'Field11', 'PropertyField2B', 'SalesField12',\n",
    "            'GeographicField41B',\n",
    "            'PropertyField16A', 'Field10', 'PropertyField3', 'PropertyField16B', 'GeographicField1A',\n",
    "            'GeographicField20A', 'PersonalField81', 'GeographicField16B', 'GeographicField59B', 'PersonalField79',\n",
    "            'CoverageField1A_CoverageField3A', 'CoverageField3B_CoverageField4B', 'PropertyField22',\n",
    "            'GeographicField61B',\n",
    "            'CoverageField3A_PropertyField21A', 'PropertyField12', 'CoverageField2A_CoverageField3A',\n",
    "            'CoverageField2B_CoverageField3B', 'PropertyField8', 'PropertyField30', 'GeographicField14B',\n",
    "            'PersonalField31',\n",
    "            'PropertyField21A', 'CoverageField3A_CoverageField4A', 'PropertyField31', 'CoverageField11A',\n",
    "            'PropertyField19', 'GeographicField45B', 'CoverageField1A', 'PersonalField75',\n",
    "            'GeographicField8A_GeographicField13A', 'CoverageField3B_PropertyField21B',\n",
    "            'CoverageField1B_CoverageField3B', 'GeographicField6A_GeographicField13A', 'CoverageField5B',\n",
    "            'PersonalField42', 'PersonalField45', 'PersonalField76', 'GeographicField6A_GeographicField8A',\n",
    "            'PersonalField80', 'Field9', 'CoverageField3A', 'CoverageField3B',\n",
    "            'GeographicField8A_GeographicField11A', 'GeographicField11A_GeographicField13A',\n",
    "            'GeographicField4B',\n",
    "            'CoverageField2B', 'Field12', 'PropertyField21B', 'CoverageField1B', 'PersonalField44',\n",
    "            'GeographicField6A_GeographicField11A', 'PersonalField52']\n",
    "\n",
    "interactions2way = [\n",
    "    (\"CoverageField1B\", \"PropertyField21B\"),\n",
    "    (\"GeographicField6A\", \"GeographicField8A\"),\n",
    "    (\"GeographicField6A\", \"GeographicField13A\"),\n",
    "    (\"GeographicField8A\", \"GeographicField13A\"),\n",
    "    (\"GeographicField11A\", \"GeographicField13A\"),\n",
    "    (\"GeographicField8A\", \"GeographicField11A\"),\n",
    "    (\"GeographicField6A\", \"GeographicField11A\"),\n",
    "    (\"CoverageField6A\", \"CoverageField6B\"),\n",
    "    (\"CoverageField3A\", \"CoverageField4A\"),\n",
    "    (\"CoverageField2B\", \"CoverageField3B\"),\n",
    "    (\"CoverageField1A\", \"CoverageField3A\"),\n",
    "    (\"CoverageField3B\", \"CoverageField4B\"),\n",
    "    (\"CoverageField2A\", \"CoverageField3A\"),\n",
    "    (\"CoverageField1B\", \"CoverageField3B\"),\n",
    "    (\"CoverageField3B\", \"PropertyField21B\"),\n",
    "    (\"CoverageField3A\", \"PropertyField21A\"),\n",
    "    (\"CoverageField1B\", \"PropertyField16B\"),\n",
    "    (\"Weekday\", \"SalesField7\"),\n",
    "    (\"PersonalField9\", \"CoverageField6B\"),\n",
    "    (\"PersonalField12\", \"CoverageField6A\"),\n",
    "    (\"PropertyField16B\", \"PropertyField21A\"),\n",
    "    (\"PersonalField12\", \"Field8\"),\n",
    "    (\"PropertyField32\", \"PersonalField9\"),\n",
    "    (\"Field6\", \"CoverageField6A\"),\n",
    "    (\"PersonalField12\", \"CoverageField6A\"),\n",
    "    (\"CoverageField6A\", \"PropertyField34\"),\n",
    "    (\"PersonalField33\", \"PropertyField8\"),\n",
    "    (\"CoverageField2A\", \"CoverageField3B\")\n",
    "]\n",
    "\n",
    "interactions3way = [('PersonalField23', 'PersonalField9', 'PropertyField37'),\n",
    "                    ('CoverageField3A', 'PersonalField63', 'PropertyField21A'),\n",
    "                    ('CoverageField3A', 'CoverageField4A', 'PersonalField76'),\n",
    "                    ('CoverageField3A', 'CoverageField4A', 'GeographicField62A'),\n",
    "                    ('CoverageField6A', 'PersonalField69', 'PersonalField9'),\n",
    "                    ('CoverageField6A', 'PersonalField71', 'PersonalField9'),\n",
    "                    ('GeographicField10B', 'GeographicField13A', 'PersonalField9'),\n",
    "                    ('GeographicField8A', 'PersonalField71', 'PersonalField9'),\n",
    "                    ('CoverageField2B', 'PersonalField75', 'PropertyField16B'),\n",
    "                    ('CoverageField6A', 'PersonalField49', 'PropertyField29'),\n",
    "                    ('CoverageField4B', 'PersonalField39', 'PropertyField16B'),\n",
    "                    ('CoverageField11B', 'PersonalField6', 'SalesField2B'),\n",
    "                    ('CoverageField11B', 'PersonalField36', 'SalesField2B'),\n",
    "                    ('CoverageField2B', 'PropertyField16B', 'PropertyField8'),\n",
    "                    ('CoverageField3A', 'GeographicField21A', 'PropertyField21B'),\n",
    "                    ('GeographicField11A', 'PersonalField48', 'PersonalField9'),\n",
    "                    ('CoverageField11B', 'PersonalField26', 'SalesField2B'),\n",
    "                    ('CoverageField1B', 'CoverageField3A', 'PersonalField61'),\n",
    "                    ('CoverageField1A', 'PropertyField16A', 'PropertyField36'),\n",
    "                    ('PersonalField9', 'PropertyField10', 'PropertyField32'),\n",
    "                    ('GeographicField11A', 'GeographicField62A', 'PersonalField12'),\n",
    "                    ('Field10', 'PersonalField9', 'PropertyField34'),\n",
    "                    ('CoverageField2B', 'CoverageField3A', 'PersonalField8'),\n",
    "                    ('Field11', 'PropertyField34', 'SalesField6'),\n",
    "                    ('PersonalField19', 'PersonalField60', 'PropertyField8')]\n",
    "\n",
    "interactions4way = [('Field8', 'PersonalField12', 'PersonalField75', 'PropertyField37'),\n",
    "                    ('CoverageField6A', 'PersonalField12', 'PropertyField37', 'PropertyField8'),\n",
    "                    ('Field8', 'PersonalField9', 'PropertyField3', 'PropertyField37'),\n",
    "                    ('CoverageField6A', 'Field8', 'PersonalField84', 'PersonalField9'),\n",
    "                    ('CoverageField8', 'PersonalField12', 'PersonalField80', 'PropertyField37'),\n",
    "                    ('CoverageField8', 'Field8', 'PersonalField12', 'PersonalField84'),\n",
    "                    ('CoverageField5A', 'GeographicField11A', 'PersonalField9', 'PropertyField37'),\n",
    "                    ('CoverageField1B', 'CoverageField3B', 'CoverageField5A', 'PropertyField22'),\n",
    "                    ('CoverageField1A', 'CoverageField3A', 'PersonalField82', 'PropertyField19'),\n",
    "                    ('CoverageField1A', 'CoverageField3A', 'PersonalField11', 'PropertyField19'),\n",
    "                    ('CoverageField5A', 'Field8', 'PersonalField12', 'PersonalField42'),\n",
    "                    ('CoverageField6A', 'Field11', 'PersonalField9', 'PropertyField12'),\n",
    "                    ('CoverageField6A', 'CoverageField8', 'PropertyField35', 'SalesField3'),\n",
    "                    ('CoverageField3A', 'PersonalField82', 'PropertyField21A', 'Year'),\n",
    "                    ('CoverageField1B', 'CoverageField3B', 'PersonalField42', 'PropertyField8'),\n",
    "                    ('CoverageField1B', 'CoverageField3A', 'PersonalField1', 'PropertyField16A'),\n",
    "                    ('CoverageField1B', 'CoverageField3B', 'PropertyField22', 'PropertyField8'),\n",
    "                    ('CoverageField6A', 'PersonalField45', 'PersonalField9', 'PropertyField29'),\n",
    "                    ('CoverageField5A', 'PersonalField1', 'PropertyField35', 'SalesField3'),\n",
    "                    ('CoverageField1A', 'CoverageField3A', 'Field12', 'PersonalField27'),\n",
    "                    ('CoverageField5A', 'CoverageField8', 'Field11', 'PropertyField29'),\n",
    "                    ('CoverageField3B', 'PersonalField25', 'PersonalField45', 'PropertyField21B'),\n",
    "                    ('CoverageField2B', 'CoverageField3B', 'GeographicField17A', 'PersonalField5'),\n",
    "                    ('CoverageField1A', 'CoverageField3A', 'PersonalField75', 'Year'),\n",
    "                    ('Field11', 'PersonalField12', 'PersonalField25', 'PropertyField30')]\n",
    "\n",
    "interactions2way_list = list(np.unique(list(chain(*interactions2way))))\n",
    "interactions3way_list = list(np.unique(list(chain(*interactions3way))))\n",
    "interactions4way_list = list(np.unique(list(chain(*interactions4way))))\n",
    "\n",
    "interactions_list = interactions2way_list + interactions3way_list + interactions4way_list\n",
    "tmp_features = list(np.setdiff1d(interactions_list, top111))\n",
    "\n",
    "tc_features = []\n",
    "\n",
    "\n",
    "def get_data():\n",
    "    global tc_features\n",
    "\n",
    "    train = pd.read_csv(train_file)\n",
    "    test = pd.read_csv(test_file)\n",
    "\n",
    "    y_train = train.QuoteConversion_Flag\n",
    "\n",
    "    train = train.drop(['QuoteNumber', 'QuoteConversion_Flag'], axis=1)\n",
    "    test = test.drop('QuoteNumber', axis=1)\n",
    "\n",
    "    ntrain = train.shape[0]\n",
    "\n",
    "    train_test = pd.concat((train, test), axis=0)\n",
    "\n",
    "    train_test['Date'] = pd.to_datetime(train_test['Original_Quote_Date'])\n",
    "\n",
    "    train_test['Year'] = train_test['Date'].dt.year\n",
    "    train_test['Month'] = train_test['Date'].dt.month\n",
    "    train_test['Day'] = train_test['Date'].dt.day\n",
    "    train_test['Weekday'] = train_test['Date'].dt.dayofweek\n",
    "\n",
    "    train_test['Field10'] = train_test['Field10'].apply(lambda x: x.replace(',', '')).astype(np.int32)\n",
    "    train_test['PropertyField37'] = train_test['PropertyField37'].apply(lambda x: -1 if x == ' ' else x)\n",
    "    train_test['GeographicField63'] = train_test['GeographicField63'].apply(lambda x: -1 if x == ' ' else x)\n",
    "\n",
    "    train_test = train_test.drop(['Date', 'Original_Quote_Date'], axis=1)\n",
    "    train_test = train_test.fillna(-1)\n",
    "\n",
    "    categoricals = [x for x in train_test.columns if train_test[x].dtype == 'object']\n",
    "\n",
    "    for c in categoricals:\n",
    "        lbl = preprocessing.LabelEncoder()\n",
    "        lbl.fit(list(train_test[c].values))\n",
    "        train_test[c] = lbl.transform(list(train_test[c].values))\n",
    "\n",
    "    train = train_test.iloc[:ntrain, :].copy().reset_index(drop=True)\n",
    "    test = train_test.iloc[ntrain:, :].copy().reset_index(drop=True)\n",
    "\n",
    "    features = list(train.columns)\n",
    "    features = np.intersect1d(features, top111 + tmp_features)\n",
    "\n",
    "    x_train = train[features].copy()\n",
    "    x_test = test[features].copy()\n",
    "\n",
    "    x_train['NaNCount'] = x_train.apply(lambda x: np.sum(x == -1), axis=1)\n",
    "    x_test['NaNCount'] = x_test.apply(lambda x: np.sum(x == -1), axis=1)\n",
    "\n",
    "    for A, B in interactions2way:\n",
    "        feat = \"_\".join([A, B])\n",
    "        x_train[feat] = x_train[A] - x_train[B]\n",
    "        x_test[feat] = x_test[A] - x_test[B]\n",
    "\n",
    "    for A, B, C in interactions3way:\n",
    "        feat = \"_\".join([A, B, C])\n",
    "        tc_features += [feat]\n",
    "        x_train[feat] = x_train[A] - x_train[B] - x_train[C]\n",
    "        x_test[feat] = x_test[A] - x_test[B] - x_test[C]\n",
    "\n",
    "    for A, B, C, D in interactions4way:\n",
    "        feat = \"_\".join([A, B, C, D])\n",
    "        tc_features += [feat]\n",
    "        x_train[feat] = x_train[A] - x_train[B] - x_train[C] - x_train[D]\n",
    "        x_test[feat] = x_test[A] - x_test[B] - x_test[C] - x_test[D]\n",
    "\n",
    "    x_train.drop(tmp_features, axis=1, inplace=True)\n",
    "    x_test.drop(tmp_features, axis=1, inplace=True)\n",
    "\n",
    "    x_train.drop(drop_out[-25:], axis=1, inplace=True)\n",
    "    x_test.drop(drop_out[-25:], axis=1, inplace=True)\n",
    "\n",
    "    return np.array(x_train), np.array(y_train), np.array(x_test)\n",
    "\n",
    "\n"
   ]
  },
  {
   "cell_type": "code",
   "execution_count": 13,
   "metadata": {},
   "outputs": [
    {
     "name": "stdout",
     "output_type": "stream",
     "text": [
      "(260753, 164) (173836, 164)\n"
     ]
    }
   ],
   "source": [
    "x_train, y_train, x_test = get_data()\n",
    "print (x_train.shape, x_test.shape)"
   ]
  },
  {
   "cell_type": "markdown",
   "metadata": {},
   "source": [
    "# Поиск гиперпараметров модели"
   ]
  },
  {
   "cell_type": "code",
   "execution_count": 17,
   "metadata": {},
   "outputs": [],
   "source": [
    "x_tr,x_tst,y_tr,y_tst=train_test_split(x_train,y_train, test_size=0.33)"
   ]
  },
  {
   "cell_type": "code",
   "execution_count": 20,
   "metadata": {},
   "outputs": [],
   "source": [
    "catboost=CatBoostClassifier(n_estimators=300,\n",
    "                            loss_function='Logloss',\n",
    "                            learning_rate=0.05,\n",
    "                            logging_level='Silent',\n",
    "                            random_state=0)"
   ]
  },
  {
   "cell_type": "code",
   "execution_count": 21,
   "metadata": {},
   "outputs": [],
   "source": [
    "# задаю пространство поиска\n",
    "param_distributions={'max_depth': IntUniformDistribution(5,12),\n",
    "                     'rsm': UniformDistribution(0.7,0.9),\n",
    "                     'l2_leaf_reg': UniformDistribution(3.,60.),\n",
    "                     'random_strength': UniformDistribution(0.,5.),\n",
    "                     'border_count': IntUniformDistribution(64,254),\n",
    "                     'bagging_temperature': UniformDistribution(0.,5.)}"
   ]
  },
  {
   "cell_type": "code",
   "execution_count": 22,
   "metadata": {},
   "outputs": [],
   "source": [
    "optuna_search=OptunaSearchCV(catboost,\n",
    "                             param_distributions,\n",
    "                             scoring='roc_auc',\n",
    "                             random_state=0,\n",
    "                             n_trials=10,\n",
    "                             verbose=1,\n",
    "                             cv=5)"
   ]
  },
  {
   "cell_type": "code",
   "execution_count": 23,
   "metadata": {},
   "outputs": [
    {
     "name": "stderr",
     "output_type": "stream",
     "text": [
      "\u001b[32m[I 2021-01-20 10:05:54,443]\u001b[0m A new study created in memory with name: no-name-a9a606cc-38b5-4c5e-939f-1bd3f64ff650\u001b[0m\n",
      "\u001b[32m[I 2021-01-20 10:05:54,444]\u001b[0m Searching the best hyperparameters using 174704 samples...\u001b[0m\n",
      "\u001b[32m[I 2021-01-20 10:07:37,201]\u001b[0m Trial 0 finished with value: 0.9652550523151501 and parameters: {'max_depth': 9, 'rsm': 0.7792869205559974, 'l2_leaf_reg': 21.12281168384727, 'random_strength': 1.4550634918956606, 'border_count': 105, 'bagging_temperature': 2.91705836741812}. Best is trial 0 with value: 0.9652550523151501.\u001b[0m\n",
      "\u001b[32m[I 2021-01-20 10:13:00,374]\u001b[0m Trial 1 finished with value: 0.9652943524200939 and parameters: {'max_depth': 12, 'rsm': 0.8855124699778562, 'l2_leaf_reg': 29.473296634731533, 'random_strength': 2.319971578058211, 'border_count': 113, 'bagging_temperature': 3.983546476266599}. Best is trial 1 with value: 0.9652943524200939.\u001b[0m\n",
      "\u001b[32m[I 2021-01-20 10:18:29,756]\u001b[0m Trial 2 finished with value: 0.9652776284159883 and parameters: {'max_depth': 12, 'rsm': 0.8694028817378017, 'l2_leaf_reg': 25.95202968555808, 'random_strength': 2.635786134622503, 'border_count': 226, 'bagging_temperature': 0.7103305048698538}. Best is trial 1 with value: 0.9652943524200939.\u001b[0m\n",
      "\u001b[32m[I 2021-01-20 10:19:40,616]\u001b[0m Trial 3 finished with value: 0.9642676979287318 and parameters: {'max_depth': 6, 'rsm': 0.8117089388774705, 'l2_leaf_reg': 4.260249060220243, 'random_strength': 0.1392647012045517, 'border_count': 203, 'bagging_temperature': 4.827401617073057}. Best is trial 1 with value: 0.9652943524200939.\u001b[0m\n",
      "\u001b[32m[I 2021-01-20 10:21:23,026]\u001b[0m Trial 4 finished with value: 0.965170394804308 and parameters: {'max_depth': 9, 'rsm': 0.8313320620644294, 'l2_leaf_reg': 48.85107450660322, 'random_strength': 0.8457101202300799, 'border_count': 212, 'bagging_temperature': 2.528842091931511}. Best is trial 1 with value: 0.9652943524200939.\u001b[0m\n",
      "\u001b[32m[I 2021-01-20 10:24:28,200]\u001b[0m Trial 5 finished with value: 0.9652239164592455 and parameters: {'max_depth': 10, 'rsm': 0.8644270315613398, 'l2_leaf_reg': 3.0967354595504903, 'random_strength': 2.6464189067063564, 'border_count': 90, 'bagging_temperature': 0.4117929333094722}. Best is trial 1 with value: 0.9652943524200939.\u001b[0m\n",
      "\u001b[32m[I 2021-01-20 10:25:33,005]\u001b[0m Trial 6 finished with value: 0.9625621120402295 and parameters: {'max_depth': 5, 'rsm': 0.7056176706479124, 'l2_leaf_reg': 48.71822681800711, 'random_strength': 2.1006670992791534, 'border_count': 102, 'bagging_temperature': 4.700297600372224}. Best is trial 1 with value: 0.9652943524200939.\u001b[0m\n",
      "\u001b[32m[I 2021-01-20 10:30:55,208]\u001b[0m Trial 7 finished with value: 0.9654661328986325 and parameters: {'max_depth': 12, 'rsm': 0.7860379771139723, 'l2_leaf_reg': 16.71302894206979, 'random_strength': 2.025524436348438, 'border_count': 200, 'bagging_temperature': 1.0575784724614494}. Best is trial 7 with value: 0.9654661328986325.\u001b[0m\n",
      "\u001b[32m[I 2021-01-20 10:31:59,870]\u001b[0m Trial 8 finished with value: 0.9628854442095713 and parameters: {'max_depth': 5, 'rsm': 0.8910967671356047, 'l2_leaf_reg': 39.6998345914933, 'random_strength': 1.083125304189021, 'border_count': 173, 'bagging_temperature': 1.0380331869584354}. Best is trial 7 with value: 0.9654661328986325.\u001b[0m\n",
      "\u001b[32m[I 2021-01-20 10:33:44,231]\u001b[0m Trial 9 finished with value: 0.9643304443491921 and parameters: {'max_depth': 9, 'rsm': 0.8160701962840555, 'l2_leaf_reg': 37.68980288499037, 'random_strength': 3.49233135302875, 'border_count': 169, 'bagging_temperature': 0.9339410867334158}. Best is trial 7 with value: 0.9654661328986325.\u001b[0m\n",
      "\u001b[32m[I 2021-01-20 10:33:44,232]\u001b[0m Finished hyperparemeter search!\u001b[0m\n",
      "\u001b[32m[I 2021-01-20 10:33:44,232]\u001b[0m Refitting the estimator using 174704 samples...\u001b[0m\n",
      "\u001b[32m[I 2021-01-20 10:34:54,805]\u001b[0m Finished refitting! (elapsed time: 70.572 sec.)\u001b[0m\n"
     ]
    },
    {
     "data": {
      "text/plain": [
       "OptunaSearchCV(cv=5, enable_pruning=False, error_score=nan,\n",
       "               estimator=<catboost.core.CatBoostClassifier object at 0x7fbdd61c0e50>,\n",
       "               max_iter=1000, n_jobs=1, n_trials=10,\n",
       "               param_distributions={'bagging_temperature': UniformDistribution(high=5.0, low=0.0),\n",
       "                                    'border_count': IntUniformDistribution(high=254, low=64, step=1),\n",
       "                                    'l2_leaf_reg': UniformDistribution(high=60.0, low=3.0),\n",
       "                                    'max_depth': IntUniformDistribution(high=12, low=5, step=1),\n",
       "                                    'random_strength': UniformDistribution(high=5.0, low=0.0),\n",
       "                                    'rsm': UniformDistribution(high=0.9, low=0.7)},\n",
       "               random_state=0, refit=True, return_train_score=False,\n",
       "               scoring='roc_auc', study=None, subsample=1.0, timeout=None,\n",
       "               verbose=1)"
      ]
     },
     "execution_count": 23,
     "metadata": {},
     "output_type": "execute_result"
    }
   ],
   "source": [
    "optuna_search.fit(x_tr,y_tr)"
   ]
  },
  {
   "cell_type": "code",
   "execution_count": 24,
   "metadata": {},
   "outputs": [
    {
     "name": "stdout",
     "output_type": "stream",
     "text": [
      "Наилучшие значения гирепараметров: {'max_depth': 12, 'rsm': 0.7860379771139723, 'l2_leaf_reg': 16.71302894206979, 'random_strength': 2.025524436348438, 'border_count': 200, 'bagging_temperature': 1.0575784724614494}\n",
      "Наилучшие значения AUC: 0.9654661328986325\n",
      "AUC на тестовой выборке: 0.9670435158811965\n"
     ]
    }
   ],
   "source": [
    "# печатаем наилучшие значения гиперпараметров\n",
    "print('Наилучшие значения гирепараметров: {}'.format(optuna_search.best_params_))\n",
    "\n",
    "# печатаем наилучшие значения AUC\n",
    "print('Наилучшие значения AUC: {}'.format(optuna_search.best_score_))\n",
    "\n",
    "# смотрим значение AUC на тестовой выборке\n",
    "print('AUC на тестовой выборке: {}'.format(roc_auc_score(y_tst,optuna_search.predict_proba(x_tst)[:,1])))\n",
    "\n"
   ]
  },
  {
   "cell_type": "markdown",
   "metadata": {},
   "source": [
    "# Подбираю шаг обучения 'learning_rate'"
   ]
  },
  {
   "cell_type": "code",
   "execution_count": 28,
   "metadata": {},
   "outputs": [],
   "source": [
    "catboost2=CatBoostClassifier(n_estimators=2400,\n",
    "                            max_depth=12,\n",
    "                            rsm=0.786,\n",
    "                            l2_leaf_reg=16.71,\n",
    "                            random_strength=2,\n",
    "                            border_count=200,\n",
    "                            bagging_temperature=1.058,\n",
    "                            loss_function='Logloss',\n",
    "                            learning_rate=0.05,\n",
    "                            logging_level='Silent',\n",
    "                            random_state=0)"
   ]
  },
  {
   "cell_type": "code",
   "execution_count": 29,
   "metadata": {},
   "outputs": [],
   "source": [
    "# задаем новое пространство поиска\n",
    "param_distributions2={'learning_rate': UniformDistribution(0.01,.1)}"
   ]
  },
  {
   "cell_type": "code",
   "execution_count": 30,
   "metadata": {},
   "outputs": [],
   "source": [
    "optuna_search=OptunaSearchCV(catboost2,\n",
    "                             param_distributions2,\n",
    "                             scoring='roc_auc',\n",
    "                             random_state=0,\n",
    "                             n_trials=10,\n",
    "                             verbose=1,\n",
    "                             cv=5)"
   ]
  },
  {
   "cell_type": "code",
   "execution_count": 31,
   "metadata": {},
   "outputs": [
    {
     "name": "stderr",
     "output_type": "stream",
     "text": [
      "\u001b[32m[I 2021-01-20 11:04:02,291]\u001b[0m A new study created in memory with name: no-name-f4c40901-1f74-488f-8a3b-fc122c335199\u001b[0m\n",
      "\u001b[32m[I 2021-01-20 11:04:02,292]\u001b[0m Searching the best hyperparameters using 174704 samples...\u001b[0m\n",
      "\u001b[32m[I 2021-01-20 11:42:52,271]\u001b[0m Trial 0 finished with value: 0.9657993973893996 and parameters: {'learning_rate': 0.05374425907193954}. Best is trial 0 with value: 0.9657993973893996.\u001b[0m\n",
      "\u001b[32m[I 2021-01-20 12:21:23,278]\u001b[0m Trial 1 finished with value: 0.9655405144263527 and parameters: {'learning_rate': 0.07171410857599203}. Best is trial 0 with value: 0.9657993973893996.\u001b[0m\n",
      "\u001b[32m[I 2021-01-20 12:59:19,058]\u001b[0m Trial 2 finished with value: 0.9649734864501488 and parameters: {'learning_rate': 0.0987018445595439}. Best is trial 0 with value: 0.9657993973893996.\u001b[0m\n",
      "\u001b[32m[I 2021-01-20 13:38:36,999]\u001b[0m Trial 3 finished with value: 0.9666044522599421 and parameters: {'learning_rate': 0.027603676914600028}. Best is trial 3 with value: 0.9666044522599421.\u001b[0m\n",
      "\u001b[32m[I 2021-01-20 14:17:26,952]\u001b[0m Trial 4 finished with value: 0.9654013254558595 and parameters: {'learning_rate': 0.06250705061352617}. Best is trial 3 with value: 0.9666044522599421.\u001b[0m\n",
      "\u001b[32m[I 2021-01-20 14:55:19,743]\u001b[0m Trial 5 finished with value: 0.9648811562042731 and parameters: {'learning_rate': 0.09825239593893745}. Best is trial 3 with value: 0.9666044522599421.\u001b[0m\n",
      "\u001b[32m[I 2021-01-20 15:34:25,579]\u001b[0m Trial 6 finished with value: 0.9667698696464535 and parameters: {'learning_rate': 0.026243226765095752}. Best is trial 6 with value: 0.9667698696464535.\u001b[0m\n",
      "\u001b[32m[I 2021-01-20 16:12:47,806]\u001b[0m Trial 7 finished with value: 0.965291729607866 and parameters: {'learning_rate': 0.07313217715739823}. Best is trial 6 with value: 0.9667698696464535.\u001b[0m\n",
      "\u001b[32m[I 2021-01-20 16:51:14,267]\u001b[0m Trial 8 finished with value: 0.964977513614117 and parameters: {'learning_rate': 0.08616785910698015}. Best is trial 6 with value: 0.9667698696464535.\u001b[0m\n",
      "\u001b[32m[I 2021-01-20 17:29:42,702]\u001b[0m Trial 9 finished with value: 0.9651129058093995 and parameters: {'learning_rate': 0.08170383657279878}. Best is trial 6 with value: 0.9667698696464535.\u001b[0m\n",
      "\u001b[32m[I 2021-01-20 17:29:42,703]\u001b[0m Finished hyperparemeter search!\u001b[0m\n",
      "\u001b[32m[I 2021-01-20 17:29:42,704]\u001b[0m Refitting the estimator using 174704 samples...\u001b[0m\n",
      "\u001b[32m[I 2021-01-20 17:38:28,908]\u001b[0m Finished refitting! (elapsed time: 526.203 sec.)\u001b[0m\n"
     ]
    },
    {
     "data": {
      "text/plain": [
       "OptunaSearchCV(cv=5, enable_pruning=False, error_score=nan,\n",
       "               estimator=<catboost.core.CatBoostClassifier object at 0x7fbdef8c8b10>,\n",
       "               max_iter=1000, n_jobs=1, n_trials=10,\n",
       "               param_distributions={'learning_rate': UniformDistribution(high=0.1, low=0.01)},\n",
       "               random_state=0, refit=True, return_train_score=False,\n",
       "               scoring='roc_auc', study=None, subsample=1.0, timeout=None,\n",
       "               verbose=1)"
      ]
     },
     "execution_count": 31,
     "metadata": {},
     "output_type": "execute_result"
    }
   ],
   "source": [
    "optuna_search.fit(x_tr,y_tr)"
   ]
  },
  {
   "cell_type": "code",
   "execution_count": 32,
   "metadata": {},
   "outputs": [
    {
     "name": "stdout",
     "output_type": "stream",
     "text": [
      "Наилучшие значения гирепараметров: {'learning_rate': 0.026243226765095752}\n",
      "Наилучшие значения AUC: 0.9667698696464535\n",
      "AUC на тестовой выборке: 0.968257024306459\n"
     ]
    }
   ],
   "source": [
    "# печатаем наилучшие значения гиперпараметров\n",
    "print('Наилучшие значения гирепараметров: {}'.format(optuna_search.best_params_))\n",
    "\n",
    "# печатаем наилучшие значения AUC\n",
    "print('Наилучшие значения AUC: {}'.format(optuna_search.best_score_))\n",
    "\n",
    "# смотрим значение AUC на тестовой выборке\n",
    "print('AUC на тестовой выборке: {}'.format(roc_auc_score(y_tst,optuna_search.predict_proba(x_tst)[:,1])))\n",
    "\n"
   ]
  },
  {
   "cell_type": "markdown",
   "metadata": {},
   "source": [
    "# Обучаю модель Catboost"
   ]
  },
  {
   "cell_type": "code",
   "execution_count": 11,
   "metadata": {},
   "outputs": [],
   "source": [
    "\n",
    "\n",
    "train_file = \"train.csv\"\n",
    "test_file = \"test.csv\"\n",
    "sample_submission = \"sample_submission.csv\"\n",
    "submission_filename1 = \"catboost_1.csv\"\n",
    "submission_filename2 = \"catboost_2.csv\"\n",
    "\n",
    "\n",
    "ctb_params = {\n",
    "    'random_state': 0,\n",
    "    'rsm': 0.786,\n",
    "    'logging_level': 'Silent',\n",
    "    'l2_leaf_reg': 16.71,\n",
    "    'learning_rate': 0.0262,\n",
    "    'loss_function': 'Logloss',\n",
    "    'random_strength': 2,\n",
    "    'bagging_temperature': 1.058,\n",
    "    'max_depth': 12,\n",
    "    'border_count': 200,\n",
    "    'eval_metric': 'AUC',\n",
    "}\n",
    "\n",
    "top111 = ['Field12', 'PersonalField52', 'PersonalField80', 'PersonalField44', 'Field9',\n",
    "          'PropertyField7', 'PropertyField12', 'CoverageField5B', 'PersonalField42', 'PersonalField45',\n",
    "          'PersonalField81', 'PropertyField8', 'PersonalField79', 'GeographicField45B', 'PropertyField22',\n",
    "          'PersonalField75', 'PersonalField31', 'PropertyField19', 'PropertyField31', 'GeographicField11A',\n",
    "          'PersonalField23', 'GeographicField21B', 'PersonalField4A', 'Field10', 'GeographicField16B',\n",
    "          'GeographicField20A', 'PersonalField25', 'PersonalField4B', 'PropertyField3', 'GeographicField17A',\n",
    "          'GeographicField59B', 'GeographicField7B', 'GeographicField8A', 'Year', 'GeographicField6B',\n",
    "          'PersonalField14',\n",
    "          'GeographicField45A', 'GeographicField14B', 'SalesField12', 'CoverageField11A', 'CoverageField5A', 'Month',\n",
    "          'PropertyField33', 'PersonalField5', 'CoverageField11B', 'GeographicField11B', 'GeographicField23B',\n",
    "          'PropertyField39B', 'CoverageField3A', 'GeographicField1B', 'GeographicField17B', 'PropertyField39A',\n",
    "          'GeographicField41B', 'CoverageField6A', 'SalesField9', 'PersonalField16', 'PersonalField26',\n",
    "          'PropertyField24A', 'Field8', 'GeographicField28A', 'CoverageField3B', 'SalesField2A', 'GeographicField19B',\n",
    "          'GeographicField43A', 'PropertyField16B', 'PropertyField16A', 'PropertyField1B', 'CoverageField1B',\n",
    "          'PropertyField1A', 'GeographicField48B', 'PersonalField11', 'CoverageField1A', 'PersonalField15',\n",
    "          'GeographicField5B', 'PropertyField34', 'CoverageField8', 'PersonalField82', 'SalesField2B',\n",
    "          'PropertyField35', 'CoverageField2B', 'SalesField10', 'PropertyField21A', 'SalesField3', 'CoverageField9',\n",
    "          'SalesField7', 'Weekday', 'PersonalField13', 'PropertyField21B', 'SalesField6', 'SalesField1A',\n",
    "          'PersonalField9', 'SalesField4', 'PersonalField12', 'PersonalField27', 'PersonalField10B', 'Field7',\n",
    "          'SalesField1B', 'PersonalField84', 'PersonalField2', 'PersonalField1', 'SalesField5', 'PersonalField10A',\n",
    "          'PropertyField37', 'PropertyField29', 'GeographicField4B', 'PropertyField2B', 'GeographicField1A',\n",
    "          'GeographicField61B', 'Field11', 'PersonalField76', 'PropertyField30']\n",
    "\n",
    "drop_out = ['GeographicField19B', 'PropertyField7', 'GeographicField17A', 'GeographicField28A',\n",
    "            'GeographicField21B', 'GeographicField7B', 'CoverageField11B', 'GeographicField6B', 'GeographicField45A',\n",
    "            'PersonalField25', 'Month', 'CoverageField5A', 'GeographicField8A', 'GeographicField1B',\n",
    "            'CoverageField6A_CoverageField6B', 'PersonalField23', 'Field11', 'PropertyField2B', 'SalesField12',\n",
    "            'GeographicField41B',\n",
    "            'PropertyField16A', 'Field10', 'PropertyField3', 'PropertyField16B', 'GeographicField1A',\n",
    "            'GeographicField20A', 'PersonalField81', 'GeographicField16B', 'GeographicField59B', 'PersonalField79',\n",
    "            'CoverageField1A_CoverageField3A', 'CoverageField3B_CoverageField4B', 'PropertyField22',\n",
    "            'GeographicField61B',\n",
    "            'CoverageField3A_PropertyField21A', 'PropertyField12', 'CoverageField2A_CoverageField3A',\n",
    "            'CoverageField2B_CoverageField3B', 'PropertyField8', 'PropertyField30', 'GeographicField14B',\n",
    "            'PersonalField31',\n",
    "            'PropertyField21A', 'CoverageField3A_CoverageField4A', 'PropertyField31', 'CoverageField11A',\n",
    "            'PropertyField19', 'GeographicField45B', 'CoverageField1A', 'PersonalField75',\n",
    "            'GeographicField8A_GeographicField13A', 'CoverageField3B_PropertyField21B',\n",
    "            'CoverageField1B_CoverageField3B', 'GeographicField6A_GeographicField13A', 'CoverageField5B',\n",
    "            'PersonalField42', 'PersonalField45', 'PersonalField76', 'GeographicField6A_GeographicField8A',\n",
    "            'PersonalField80', 'Field9', 'CoverageField3A', 'CoverageField3B',\n",
    "            'GeographicField8A_GeographicField11A', 'GeographicField11A_GeographicField13A',\n",
    "            'GeographicField4B',\n",
    "            'CoverageField2B', 'Field12', 'PropertyField21B', 'CoverageField1B', 'PersonalField44',\n",
    "            'GeographicField6A_GeographicField11A', 'PersonalField52']\n",
    "\n",
    "interactions2way = [\n",
    "    (\"CoverageField1B\", \"PropertyField21B\"),\n",
    "    (\"GeographicField6A\", \"GeographicField8A\"),\n",
    "    (\"GeographicField6A\", \"GeographicField13A\"),\n",
    "    (\"GeographicField8A\", \"GeographicField13A\"),\n",
    "    (\"GeographicField11A\", \"GeographicField13A\"),\n",
    "    (\"GeographicField8A\", \"GeographicField11A\"),\n",
    "    (\"GeographicField6A\", \"GeographicField11A\"),\n",
    "    (\"CoverageField6A\", \"CoverageField6B\"),\n",
    "    (\"CoverageField3A\", \"CoverageField4A\"),\n",
    "    (\"CoverageField2B\", \"CoverageField3B\"),\n",
    "    (\"CoverageField1A\", \"CoverageField3A\"),\n",
    "    (\"CoverageField3B\", \"CoverageField4B\"),\n",
    "    (\"CoverageField2A\", \"CoverageField3A\"),\n",
    "    (\"CoverageField1B\", \"CoverageField3B\"),\n",
    "    (\"CoverageField3B\", \"PropertyField21B\"),\n",
    "    (\"CoverageField3A\", \"PropertyField21A\"),\n",
    "    (\"CoverageField1B\", \"PropertyField16B\"),\n",
    "    (\"Weekday\", \"SalesField7\"),\n",
    "    (\"PersonalField9\", \"CoverageField6B\"),\n",
    "    (\"PersonalField12\", \"CoverageField6A\"),\n",
    "    (\"PropertyField16B\", \"PropertyField21A\"),\n",
    "    (\"PersonalField12\", \"Field8\"),\n",
    "    (\"PropertyField32\", \"PersonalField9\"),\n",
    "    (\"Field6\", \"CoverageField6A\"),\n",
    "    (\"PersonalField12\", \"CoverageField6A\"),\n",
    "    (\"CoverageField6A\", \"PropertyField34\"),\n",
    "    (\"PersonalField33\", \"PropertyField8\"),\n",
    "    (\"CoverageField2A\", \"CoverageField3B\")\n",
    "]\n",
    "\n",
    "interactions3way = [('PersonalField23', 'PersonalField9', 'PropertyField37'),\n",
    "                    ('CoverageField3A', 'PersonalField63', 'PropertyField21A'),\n",
    "                    ('CoverageField3A', 'CoverageField4A', 'PersonalField76'),\n",
    "                    ('CoverageField3A', 'CoverageField4A', 'GeographicField62A'),\n",
    "                    ('CoverageField6A', 'PersonalField69', 'PersonalField9'),\n",
    "                    ('CoverageField6A', 'PersonalField71', 'PersonalField9'),\n",
    "                    ('GeographicField10B', 'GeographicField13A', 'PersonalField9'),\n",
    "                    ('GeographicField8A', 'PersonalField71', 'PersonalField9'),\n",
    "                    ('CoverageField2B', 'PersonalField75', 'PropertyField16B'),\n",
    "                    ('CoverageField6A', 'PersonalField49', 'PropertyField29'),\n",
    "                    ('CoverageField4B', 'PersonalField39', 'PropertyField16B'),\n",
    "                    ('CoverageField11B', 'PersonalField6', 'SalesField2B'),\n",
    "                    ('CoverageField11B', 'PersonalField36', 'SalesField2B'),\n",
    "                    ('CoverageField2B', 'PropertyField16B', 'PropertyField8'),\n",
    "                    ('CoverageField3A', 'GeographicField21A', 'PropertyField21B'),\n",
    "                    ('GeographicField11A', 'PersonalField48', 'PersonalField9'),\n",
    "                    ('CoverageField11B', 'PersonalField26', 'SalesField2B'),\n",
    "                    ('CoverageField1B', 'CoverageField3A', 'PersonalField61'),\n",
    "                    ('CoverageField1A', 'PropertyField16A', 'PropertyField36'),\n",
    "                    ('PersonalField9', 'PropertyField10', 'PropertyField32'),\n",
    "                    ('GeographicField11A', 'GeographicField62A', 'PersonalField12'),\n",
    "                    ('Field10', 'PersonalField9', 'PropertyField34'),\n",
    "                    ('CoverageField2B', 'CoverageField3A', 'PersonalField8'),\n",
    "                    ('Field11', 'PropertyField34', 'SalesField6'),\n",
    "                    ('PersonalField19', 'PersonalField60', 'PropertyField8')]\n",
    "\n",
    "interactions4way = [('Field8', 'PersonalField12', 'PersonalField75', 'PropertyField37'),\n",
    "                    ('CoverageField6A', 'PersonalField12', 'PropertyField37', 'PropertyField8'),\n",
    "                    ('Field8', 'PersonalField9', 'PropertyField3', 'PropertyField37'),\n",
    "                    ('CoverageField6A', 'Field8', 'PersonalField84', 'PersonalField9'),\n",
    "                    ('CoverageField8', 'PersonalField12', 'PersonalField80', 'PropertyField37'),\n",
    "                    ('CoverageField8', 'Field8', 'PersonalField12', 'PersonalField84'),\n",
    "                    ('CoverageField5A', 'GeographicField11A', 'PersonalField9', 'PropertyField37'),\n",
    "                    ('CoverageField1B', 'CoverageField3B', 'CoverageField5A', 'PropertyField22'),\n",
    "                    ('CoverageField1A', 'CoverageField3A', 'PersonalField82', 'PropertyField19'),\n",
    "                    ('CoverageField1A', 'CoverageField3A', 'PersonalField11', 'PropertyField19'),\n",
    "                    ('CoverageField5A', 'Field8', 'PersonalField12', 'PersonalField42'),\n",
    "                    ('CoverageField6A', 'Field11', 'PersonalField9', 'PropertyField12'),\n",
    "                    ('CoverageField6A', 'CoverageField8', 'PropertyField35', 'SalesField3'),\n",
    "                    ('CoverageField3A', 'PersonalField82', 'PropertyField21A', 'Year'),\n",
    "                    ('CoverageField1B', 'CoverageField3B', 'PersonalField42', 'PropertyField8'),\n",
    "                    ('CoverageField1B', 'CoverageField3A', 'PersonalField1', 'PropertyField16A'),\n",
    "                    ('CoverageField1B', 'CoverageField3B', 'PropertyField22', 'PropertyField8'),\n",
    "                    ('CoverageField6A', 'PersonalField45', 'PersonalField9', 'PropertyField29'),\n",
    "                    ('CoverageField5A', 'PersonalField1', 'PropertyField35', 'SalesField3'),\n",
    "                    ('CoverageField1A', 'CoverageField3A', 'Field12', 'PersonalField27'),\n",
    "                    ('CoverageField5A', 'CoverageField8', 'Field11', 'PropertyField29'),\n",
    "                    ('CoverageField3B', 'PersonalField25', 'PersonalField45', 'PropertyField21B'),\n",
    "                    ('CoverageField2B', 'CoverageField3B', 'GeographicField17A', 'PersonalField5'),\n",
    "                    ('CoverageField1A', 'CoverageField3A', 'PersonalField75', 'Year'),\n",
    "                    ('Field11', 'PersonalField12', 'PersonalField25', 'PropertyField30')]\n",
    "\n",
    "interactions2way_list = list(np.unique(list(chain(*interactions2way))))\n",
    "interactions3way_list = list(np.unique(list(chain(*interactions3way))))\n",
    "interactions4way_list = list(np.unique(list(chain(*interactions4way))))\n",
    "\n",
    "interactions_list = interactions2way_list + interactions3way_list + interactions4way_list\n",
    "tmp_features = list(np.setdiff1d(interactions_list, top111))\n",
    "\n",
    "tc_features = []\n",
    "\n",
    "\n",
    "def get_data():\n",
    "    global tc_features\n",
    "\n",
    "    train = pd.read_csv(train_file)\n",
    "    test = pd.read_csv(test_file)\n",
    "\n",
    "    y_train = train.QuoteConversion_Flag\n",
    "\n",
    "    train = train.drop(['QuoteNumber', 'QuoteConversion_Flag'], axis=1)\n",
    "    test = test.drop('QuoteNumber', axis=1)\n",
    "\n",
    "    ntrain = train.shape[0]\n",
    "\n",
    "    train_test = pd.concat((train, test), axis=0)\n",
    "\n",
    "    train_test['Date'] = pd.to_datetime(train_test['Original_Quote_Date'])\n",
    "\n",
    "    train_test['Year'] = train_test['Date'].dt.year\n",
    "    train_test['Month'] = train_test['Date'].dt.month\n",
    "    train_test['Day'] = train_test['Date'].dt.day\n",
    "    train_test['Weekday'] = train_test['Date'].dt.dayofweek\n",
    "\n",
    "    train_test['Field10'] = train_test['Field10'].apply(lambda x: x.replace(',', '')).astype(np.int32)\n",
    "    train_test['PropertyField37'] = train_test['PropertyField37'].apply(lambda x: -1 if x == ' ' else x)\n",
    "    train_test['GeographicField63'] = train_test['GeographicField63'].apply(lambda x: -1 if x == ' ' else x)\n",
    "\n",
    "    train_test = train_test.drop(['Date', 'Original_Quote_Date'], axis=1)\n",
    "    train_test = train_test.fillna(-1)\n",
    "\n",
    "    categoricals = [x for x in train_test.columns if train_test[x].dtype == 'object']\n",
    "\n",
    "    for c in categoricals:\n",
    "        lbl = preprocessing.LabelEncoder()\n",
    "        lbl.fit(list(train_test[c].values))\n",
    "        train_test[c] = lbl.transform(list(train_test[c].values))\n",
    "\n",
    "    train = train_test.iloc[:ntrain, :].copy().reset_index(drop=True)\n",
    "    test = train_test.iloc[ntrain:, :].copy().reset_index(drop=True)\n",
    "\n",
    "    features = list(train.columns)\n",
    "    features = np.intersect1d(features, top111 + tmp_features)\n",
    "\n",
    "    x_train = train[features].copy()\n",
    "    x_test = test[features].copy()\n",
    "\n",
    "    x_train['NaNCount'] = x_train.apply(lambda x: np.sum(x == -1), axis=1)\n",
    "    x_test['NaNCount'] = x_test.apply(lambda x: np.sum(x == -1), axis=1)\n",
    "\n",
    "    for A, B in interactions2way:\n",
    "        feat = \"_\".join([A, B])\n",
    "        x_train[feat] = x_train[A] - x_train[B]\n",
    "        x_test[feat] = x_test[A] - x_test[B]\n",
    "\n",
    "    for A, B, C in interactions3way:\n",
    "        feat = \"_\".join([A, B, C])\n",
    "        tc_features += [feat]\n",
    "        x_train[feat] = x_train[A] - x_train[B] - x_train[C]\n",
    "        x_test[feat] = x_test[A] - x_test[B] - x_test[C]\n",
    "\n",
    "    for A, B, C, D in interactions4way:\n",
    "        feat = \"_\".join([A, B, C, D])\n",
    "        tc_features += [feat]\n",
    "        x_train[feat] = x_train[A] - x_train[B] - x_train[C] - x_train[D]\n",
    "        x_test[feat] = x_test[A] - x_test[B] - x_test[C] - x_test[D]\n",
    "\n",
    "    x_train.drop(tmp_features, axis=1, inplace=True)\n",
    "    x_test.drop(tmp_features, axis=1, inplace=True)\n",
    "\n",
    "    x_train.drop(drop_out[-25:], axis=1, inplace=True)\n",
    "    x_test.drop(drop_out[-25:], axis=1, inplace=True)\n",
    "\n",
    "    return np.array(x_train), np.array(y_train), np.array(x_test)\n",
    "\n",
    "\n"
   ]
  },
  {
   "cell_type": "code",
   "execution_count": 12,
   "metadata": {},
   "outputs": [
    {
     "name": "stdout",
     "output_type": "stream",
     "text": [
      "(260753, 164) (173836, 164)\n"
     ]
    }
   ],
   "source": [
    "# проверяю размерность получившихся датасетов\n",
    "x_train, y_train, x_test = get_data()\n",
    "print (x_train.shape, x_test.shape)"
   ]
  },
  {
   "cell_type": "code",
   "execution_count": 13,
   "metadata": {},
   "outputs": [],
   "source": [
    "# подготавливаю датасеты для последовательного обучения\n",
    "x_train_tc = x_train.copy()\n",
    "ntcfeat = len(tc_features)\n",
    "\n",
    "x_train[:, -ntcfeat:] = 0\n",
    "\n",
    "ntrain = x_train.shape[0]\n",
    "iterations = 2500"
   ]
  },
  {
   "cell_type": "markdown",
   "metadata": {},
   "source": [
    "## Обучение первого этапа"
   ]
  },
  {
   "cell_type": "code",
   "execution_count": 16,
   "metadata": {},
   "outputs": [
    {
     "data": {
      "text/plain": [
       "array([[ 2.,  1., 13., ...,  0.,  0.,  0.],\n",
       "       [ 5.,  9., 13., ...,  0.,  0.,  0.],\n",
       "       [ 4.,  6., 25., ...,  0.,  0.,  0.],\n",
       "       ...,\n",
       "       [ 5.,  8., 13., ...,  0.,  0.,  0.],\n",
       "       [ 4.,  8., 13., ...,  0.,  0.,  0.],\n",
       "       [ 8., 16., 13., ...,  0.,  0.,  0.]])"
      ]
     },
     "execution_count": 16,
     "metadata": {},
     "output_type": "execute_result"
    }
   ],
   "source": [
    "x_train"
   ]
  },
  {
   "cell_type": "code",
   "execution_count": null,
   "metadata": {},
   "outputs": [],
   "source": [
    "# сначала обучаюсь на датасете с обнуленными взаимодействующими признаками\n",
    "pool = Pool(x_train, label=y_train)\n",
    "\n",
    "ctdt1 = ctb.train(pool=pool, params=ctb_params, iterations=iterations - 100)\n",
    "\n",
    "pool_test=Pool(x_test)"
   ]
  },
  {
   "cell_type": "code",
   "execution_count": null,
   "metadata": {},
   "outputs": [],
   "source": [
    "# проверяю результат\n",
    "submission = pd.read_csv(sample_submission)\n",
    "submission.iloc[:, 1] = ctdt.predict(pool_test, prediction_type='Probability')[:,1]\n",
    "submission.to_csv(submission_filename, index=False)"
   ]
  },
  {
   "cell_type": "code",
   "execution_count": 17,
   "metadata": {},
   "outputs": [
    {
     "name": "stdout",
     "output_type": "stream",
     "text": [
      "Warning: Looks like you're using an outdated API Version, please consider updating (server 1.5.10 / client 1.5.6)\n",
      "Successfully submitted to Homesite Quote Conversion\n"
     ]
    },
    {
     "name": "stderr",
     "output_type": "stream",
     "text": [
      "\n",
      "  0%|          | 0.00/4.57M [00:00<?, ?B/s]\n",
      "  0%|          | 8.00k/4.57M [00:00<01:01, 78.2kB/s]\n",
      " 16%|#5        | 728k/4.57M [00:00<00:36, 111kB/s]  \n",
      " 36%|###6      | 1.66M/4.57M [00:00<00:19, 158kB/s]\n",
      " 45%|####5     | 2.06M/4.57M [00:01<00:13, 198kB/s]\n",
      " 65%|######4   | 2.96M/4.57M [00:01<00:05, 281kB/s]\n",
      " 90%|######### | 4.12M/4.57M [00:01<00:01, 396kB/s]\n",
      "100%|##########| 4.57M/4.57M [00:03<00:00, 1.52MB/s]\n"
     ]
    }
   ],
   "source": [
    "!kaggle competitions submit -c homesite-quote-conversion -f catboost_1.csv -m catboost1"
   ]
  },
  {
   "cell_type": "code",
   "execution_count": 18,
   "metadata": {},
   "outputs": [
    {
     "name": "stdout",
     "output_type": "stream",
     "text": [
      "Warning: Looks like you're using an outdated API Version, please consider updating (server 1.5.10 / client 1.5.6)\n",
      "fileName                         date                 description             status    publicScore  privateScore  \n",
      "-------------------------------  -------------------  ----------------------  --------  -----------  ------------  \n",
      "catboost_1.csv                   2021-01-21 15:37:09  catboost1               complete  0.96876      0.96858       \n",
      "catboost.csv                     2021-01-21 15:19:31  catboost                complete  0.96870      0.96851       \n",
      "catboost.csv                     2021-01-21 15:03:59  catboost                complete  0.96863      0.96841       \n",
      "catboost.csv                     2021-01-21 14:43:37  catboost                complete  0.96874      0.96858       \n",
      "catboost_2.csv                   2021-01-21 14:05:08  catboost_2              complete  0.96874      0.96858       \n",
      "catboost_1.csv                   2021-01-21 13:42:18  catboost_1              complete  0.96876      0.96858       \n",
      "model_fs_26.csv                  2021-01-17 10:42:27  model_fs_26             complete  0.96713      0.96662       \n",
      "model_fs_25.csv                  2021-01-15 21:26:47  model_fs_25             complete  0.96698      0.96659       \n",
      "model_fs_24.csv                  2021-01-15 19:03:56  model_fs_24             complete  0.96639      0.96594       \n",
      "model_fs_23.csv                  2021-01-15 09:20:21  model_fs_23             complete  0.96735      0.96686       \n",
      "model_fs_22.csv                  2021-01-14 20:46:46  model_fs_22             complete  0.96721      0.96685       \n",
      "model_fs_21.csv                  2021-01-14 17:52:17  model_fs_21             complete  0.96736      0.96691       \n",
      "model_fs_20.csv                  2021-01-14 15:00:01  model_fs_20             complete  0.96672      0.96631       \n",
      "model_fs_19.csv                  2021-01-14 12:27:34  model_fs_19             complete  0.96725      0.96692       \n",
      "model_fs_18.csv                  2021-01-14 09:55:12  model_fs_18             complete  0.96735      0.96695       \n",
      "model_fs_17.csv                  2021-01-14 05:27:07  model_fs_17             complete  0.96710      0.96660       \n",
      "encoded_int_60_111.csv           2021-01-13 19:55:23  encoded_int_60_111      complete  0.96861      0.96817       \n",
      "encoded_int_60_110.csv           2021-01-13 17:03:21  encoded_int_60_110      complete  0.96792      0.96742       \n",
      "model_fs_16.csv                  2021-01-13 13:55:53  model_fs_16             complete  0.96566      0.96495       \n",
      "encoded_int_60_115.csv           2021-01-13 10:34:48  encoded_int_60_115      complete  0.96795      0.96743       \n",
      "model_fs_15.csv                  2021-01-13 09:49:42  model_fs_15             complete  0.96591      0.96524       \n",
      "model_fs_14.csv                  2021-01-13 06:38:38  model_fs_14             complete  0.96573      0.96509       \n",
      "encoded_int_40.csv               2021-01-13 06:35:11  encoded_int             complete  0.96792      0.96740       \n",
      "model_fs_13.csv                  2021-01-13 03:05:56  model_fs_13             complete  0.96555      0.96509       \n",
      "encoded_int.csv                  2021-01-12 19:45:55  encoded_int             complete  0.96793      0.96741       \n",
      "encoded_int.csv                  2021-01-12 19:41:36  encoded_int             error     None         None          \n",
      "model_fs_12.csv                  2021-01-12 18:16:41  model_fs_12             complete  0.96640      0.96564       \n",
      "bprobes2.csv                     2021-01-12 14:39:58  bprobes2                complete  0.95307      0.95270       \n",
      "bprobes.csv                      2021-01-12 14:30:02  bprobes                 complete  0.96497      0.96449       \n",
      "interactions.csv                 2021-01-12 14:13:05  model_interactions      complete  0.96115      0.96064       \n",
      "enc_interactions.csv             2021-01-12 14:03:19  model_enc_interactions  complete  0.95099      0.94997       \n",
      "model_fs_11.csv                  2021-01-12 12:00:35  model_fs_11             complete  0.96628      0.96564       \n",
      "model_fs_10.csv                  2021-01-12 08:10:28  model_fs_10             complete  0.96654      0.96591       \n",
      "model_fs_9.csv                   2021-01-12 04:17:51  model_fs_9              complete  0.96729      0.96674       \n",
      "model_fs_8.csv                   2021-01-12 00:23:37  model_fs_8              complete  0.96645      0.96586       \n",
      "model_fs_920127.csv              2021-01-11 19:18:43  model_fs_127            complete  0.96742      0.96680       \n",
      "model_fs_7.csv                   2021-01-11 15:28:48  model_fs_7              complete  0.96773      0.96725       \n",
      "model_fs_6my.csv                 2021-01-11 11:55:05  model_fs_6my            complete  0.96734      0.96676       \n",
      "xgb_benchmark_6.csv              2021-01-11 10:18:35  bench_rounded           complete  0.81738      0.81320       \n",
      "model_fs_5.csv                   2021-01-11 06:21:42  model_fs_5              complete  0.96610      0.96570       \n",
      "model_fs_4.csv                   2021-01-11 02:18:07  model_fs_4              complete  0.96642      0.96582       \n",
      "model_fs_3.csv                   2021-01-10 19:47:39  model_fs_3              complete  0.96603      0.96537       \n",
      "model_fs_2.csv                   2021-01-10 16:20:02  model_fs_2              complete  0.96607      0.96553       \n",
      "model_fs_1.csv                   2021-01-10 12:42:32  model_fs_1              complete  0.96616      0.96564       \n",
      "model_3_matrix.csv               2021-01-08 08:41:06  model_2_fl              complete  0.96819      0.96777       \n",
      "model_2_matrix.csv               2021-01-08 05:20:43  model_2_fl              complete  0.96818      0.96776       \n",
      "model_1_matrix.csv               2021-01-08 00:06:11  model_1_fl              complete  0.96812      0.96774       \n",
      "submission_model_1.csv           2021-01-07 19:30:30  model_1                 complete  0.77988      0.77857       \n",
      "god_of_overfitting_spare_us.csv  2021-01-03 18:20:09  spare_us                complete  0.96928      0.96897       \n",
      "god_of_overfitting_spare_us.csv  2021-01-02 15:24:21  spare_us                complete  0.96928      0.96897       \n",
      "xgb_benchmark_5.csv              2021-01-02 09:51:38  xgb_benchmark           complete  0.96057      0.95992       \n",
      "xgb_benchmark.csv                2021-01-02 08:25:12  xgb_benchmark           complete  0.96057      0.95992       \n",
      "xgb_benchmark.csv                2021-01-02 08:21:42  xgb_benchmark           complete  0.96057      0.95992       \n",
      "xgbr_benchmark.csv               2020-12-31 16:21:18  xgbr_benchmark          complete  0.73950      0.73853       \n",
      "xgb_benchmark.csv                2020-12-31 05:54:28  xgb_benchmark           complete  0.96181      0.96115       \n",
      "xgb_benchmark.csv                2020-12-31 05:00:51  xgb_benchmark           complete  0.96182      0.96115       \n"
     ]
    }
   ],
   "source": [
    "!kaggle competitions submissions homesite-quote-conversion"
   ]
  },
  {
   "cell_type": "markdown",
   "metadata": {},
   "source": [
    "Результат - 0.96858 на привате. Это где-то 20-е место. Напомню, что оригинальный результат победителя на одиночной модели - 0.96897 - это 4-е место. "
   ]
  },
  {
   "cell_type": "markdown",
   "metadata": {},
   "source": [
    "## Второй этап обучения на полном датасете с 300 итерациями"
   ]
  },
  {
   "cell_type": "code",
   "execution_count": 20,
   "metadata": {},
   "outputs": [],
   "source": [
    "pool_tc = Pool(x_train_tc, label=y_train)\n",
    "ctb_params['learning_rate'] = 0.01"
   ]
  },
  {
   "cell_type": "code",
   "execution_count": 21,
   "metadata": {},
   "outputs": [
    {
     "data": {
      "text/plain": [
       "array([[ 2.0000e+00,  1.0000e+00,  1.3000e+01, ..., -1.9000e+01,\n",
       "        -2.0120e+03, -9.8000e-01],\n",
       "       [ 5.0000e+00,  9.0000e+00,  1.3000e+01, ..., -8.0000e+00,\n",
       "        -2.0130e+03, -7.5670e-01],\n",
       "       [ 4.0000e+00,  6.0000e+00,  2.5000e+01, ..., -7.0000e+00,\n",
       "        -2.0130e+03, -7.5670e-01],\n",
       "       ...,\n",
       "       [ 5.0000e+00,  8.0000e+00,  1.3000e+01, ..., -7.0000e+00,\n",
       "        -2.0130e+03, -4.8114e+00],\n",
       "       [ 4.0000e+00,  8.0000e+00,  1.3000e+01, ..., -1.0000e+01,\n",
       "        -2.0190e+03, -7.5670e-01],\n",
       "       [ 8.0000e+00,  1.6000e+01,  1.3000e+01, ..., -8.0000e+00,\n",
       "        -2.0130e+03, -9.3300e-01]])"
      ]
     },
     "execution_count": 21,
     "metadata": {},
     "output_type": "execute_result"
    }
   ],
   "source": [
    "x_train_tc"
   ]
  },
  {
   "cell_type": "code",
   "execution_count": null,
   "metadata": {},
   "outputs": [],
   "source": [
    "ctdt2 = ctb.train(pool=pool_tc, params=ctb_params, iterations=300, init_model=ctdt1)"
   ]
  },
  {
   "cell_type": "code",
   "execution_count": null,
   "metadata": {},
   "outputs": [],
   "source": [
    "submission = pd.read_csv(sample_submission)\n",
    "submission.iloc[:, 1] = ctdt2.predict(pool_test, prediction_type='Probability')[:,1]\n",
    "submission.to_csv(submission_filename2, index=False)"
   ]
  },
  {
   "cell_type": "code",
   "execution_count": 22,
   "metadata": {},
   "outputs": [
    {
     "name": "stdout",
     "output_type": "stream",
     "text": [
      "Warning: Looks like you're using an outdated API Version, please consider updating (server 1.5.10 / client 1.5.6)\n",
      "Successfully submitted to Homesite Quote Conversion\n"
     ]
    },
    {
     "name": "stderr",
     "output_type": "stream",
     "text": [
      "\n",
      "  0%|          | 0.00/4.57M [00:00<?, ?B/s]\n",
      "  2%|1         | 80.0k/4.57M [00:00<00:06, 740kB/s]\n",
      " 14%|#4        | 672k/4.57M [00:00<00:04, 1.00MB/s]\n",
      " 35%|###5      | 1.60M/4.57M [00:00<00:02, 1.37MB/s]\n",
      " 46%|####5     | 2.09M/4.57M [00:01<00:02, 985kB/s] \n",
      " 61%|######1   | 2.80M/4.57M [00:01<00:01, 1.33MB/s]\n",
      " 84%|########3 | 3.82M/4.57M [00:01<00:00, 1.80MB/s]\n",
      "100%|##########| 4.57M/4.57M [00:03<00:00, 1.52MB/s]\n"
     ]
    }
   ],
   "source": [
    "!kaggle competitions submit -c homesite-quote-conversion -f catboost_2.csv -m catboost2"
   ]
  },
  {
   "cell_type": "code",
   "execution_count": 23,
   "metadata": {},
   "outputs": [
    {
     "name": "stdout",
     "output_type": "stream",
     "text": [
      "Warning: Looks like you're using an outdated API Version, please consider updating (server 1.5.10 / client 1.5.6)\n",
      "fileName                         date                 description             status    publicScore  privateScore  \n",
      "-------------------------------  -------------------  ----------------------  --------  -----------  ------------  \n",
      "catboost_2.csv                   2021-01-21 15:52:09  catboost2               complete  0.96874      0.96858       \n",
      "catboost_1.csv                   2021-01-21 15:37:09  catboost1               complete  0.96876      0.96858       \n",
      "catboost.csv                     2021-01-21 15:19:31  catboost                complete  0.96870      0.96851       \n",
      "catboost.csv                     2021-01-21 15:03:59  catboost                complete  0.96863      0.96841       \n",
      "catboost.csv                     2021-01-21 14:43:37  catboost                complete  0.96874      0.96858       \n",
      "catboost_2.csv                   2021-01-21 14:05:08  catboost_2              complete  0.96874      0.96858       \n",
      "catboost_1.csv                   2021-01-21 13:42:18  catboost_1              complete  0.96876      0.96858       \n",
      "model_fs_26.csv                  2021-01-17 10:42:27  model_fs_26             complete  0.96713      0.96662       \n",
      "model_fs_25.csv                  2021-01-15 21:26:47  model_fs_25             complete  0.96698      0.96659       \n",
      "model_fs_24.csv                  2021-01-15 19:03:56  model_fs_24             complete  0.96639      0.96594       \n",
      "model_fs_23.csv                  2021-01-15 09:20:21  model_fs_23             complete  0.96735      0.96686       \n",
      "model_fs_22.csv                  2021-01-14 20:46:46  model_fs_22             complete  0.96721      0.96685       \n",
      "model_fs_21.csv                  2021-01-14 17:52:17  model_fs_21             complete  0.96736      0.96691       \n",
      "model_fs_20.csv                  2021-01-14 15:00:01  model_fs_20             complete  0.96672      0.96631       \n",
      "model_fs_19.csv                  2021-01-14 12:27:34  model_fs_19             complete  0.96725      0.96692       \n",
      "model_fs_18.csv                  2021-01-14 09:55:12  model_fs_18             complete  0.96735      0.96695       \n",
      "model_fs_17.csv                  2021-01-14 05:27:07  model_fs_17             complete  0.96710      0.96660       \n",
      "encoded_int_60_111.csv           2021-01-13 19:55:23  encoded_int_60_111      complete  0.96861      0.96817       \n",
      "encoded_int_60_110.csv           2021-01-13 17:03:21  encoded_int_60_110      complete  0.96792      0.96742       \n",
      "model_fs_16.csv                  2021-01-13 13:55:53  model_fs_16             complete  0.96566      0.96495       \n",
      "encoded_int_60_115.csv           2021-01-13 10:34:48  encoded_int_60_115      complete  0.96795      0.96743       \n",
      "model_fs_15.csv                  2021-01-13 09:49:42  model_fs_15             complete  0.96591      0.96524       \n",
      "model_fs_14.csv                  2021-01-13 06:38:38  model_fs_14             complete  0.96573      0.96509       \n",
      "encoded_int_40.csv               2021-01-13 06:35:11  encoded_int             complete  0.96792      0.96740       \n",
      "model_fs_13.csv                  2021-01-13 03:05:56  model_fs_13             complete  0.96555      0.96509       \n",
      "encoded_int.csv                  2021-01-12 19:45:55  encoded_int             complete  0.96793      0.96741       \n",
      "encoded_int.csv                  2021-01-12 19:41:36  encoded_int             error     None         None          \n",
      "model_fs_12.csv                  2021-01-12 18:16:41  model_fs_12             complete  0.96640      0.96564       \n",
      "bprobes2.csv                     2021-01-12 14:39:58  bprobes2                complete  0.95307      0.95270       \n",
      "bprobes.csv                      2021-01-12 14:30:02  bprobes                 complete  0.96497      0.96449       \n",
      "interactions.csv                 2021-01-12 14:13:05  model_interactions      complete  0.96115      0.96064       \n",
      "enc_interactions.csv             2021-01-12 14:03:19  model_enc_interactions  complete  0.95099      0.94997       \n",
      "model_fs_11.csv                  2021-01-12 12:00:35  model_fs_11             complete  0.96628      0.96564       \n",
      "model_fs_10.csv                  2021-01-12 08:10:28  model_fs_10             complete  0.96654      0.96591       \n",
      "model_fs_9.csv                   2021-01-12 04:17:51  model_fs_9              complete  0.96729      0.96674       \n",
      "model_fs_8.csv                   2021-01-12 00:23:37  model_fs_8              complete  0.96645      0.96586       \n",
      "model_fs_920127.csv              2021-01-11 19:18:43  model_fs_127            complete  0.96742      0.96680       \n",
      "model_fs_7.csv                   2021-01-11 15:28:48  model_fs_7              complete  0.96773      0.96725       \n",
      "model_fs_6my.csv                 2021-01-11 11:55:05  model_fs_6my            complete  0.96734      0.96676       \n",
      "xgb_benchmark_6.csv              2021-01-11 10:18:35  bench_rounded           complete  0.81738      0.81320       \n",
      "model_fs_5.csv                   2021-01-11 06:21:42  model_fs_5              complete  0.96610      0.96570       \n",
      "model_fs_4.csv                   2021-01-11 02:18:07  model_fs_4              complete  0.96642      0.96582       \n",
      "model_fs_3.csv                   2021-01-10 19:47:39  model_fs_3              complete  0.96603      0.96537       \n",
      "model_fs_2.csv                   2021-01-10 16:20:02  model_fs_2              complete  0.96607      0.96553       \n",
      "model_fs_1.csv                   2021-01-10 12:42:32  model_fs_1              complete  0.96616      0.96564       \n",
      "model_3_matrix.csv               2021-01-08 08:41:06  model_2_fl              complete  0.96819      0.96777       \n",
      "model_2_matrix.csv               2021-01-08 05:20:43  model_2_fl              complete  0.96818      0.96776       \n",
      "model_1_matrix.csv               2021-01-08 00:06:11  model_1_fl              complete  0.96812      0.96774       \n",
      "submission_model_1.csv           2021-01-07 19:30:30  model_1                 complete  0.77988      0.77857       \n",
      "god_of_overfitting_spare_us.csv  2021-01-03 18:20:09  spare_us                complete  0.96928      0.96897       \n",
      "god_of_overfitting_spare_us.csv  2021-01-02 15:24:21  spare_us                complete  0.96928      0.96897       \n",
      "xgb_benchmark_5.csv              2021-01-02 09:51:38  xgb_benchmark           complete  0.96057      0.95992       \n",
      "xgb_benchmark.csv                2021-01-02 08:25:12  xgb_benchmark           complete  0.96057      0.95992       \n",
      "xgb_benchmark.csv                2021-01-02 08:21:42  xgb_benchmark           complete  0.96057      0.95992       \n",
      "xgbr_benchmark.csv               2020-12-31 16:21:18  xgbr_benchmark          complete  0.73950      0.73853       \n",
      "xgb_benchmark.csv                2020-12-31 05:54:28  xgb_benchmark           complete  0.96181      0.96115       \n",
      "xgb_benchmark.csv                2020-12-31 05:00:51  xgb_benchmark           complete  0.96182      0.96115       \n"
     ]
    }
   ],
   "source": [
    "!kaggle competitions submissions homesite-quote-conversion"
   ]
  },
  {
   "cell_type": "markdown",
   "metadata": {},
   "source": [
    "После дообучения результат не изменился, причем я пробовал менять learning rate, ставил и больше и меньше, результат только ухудшался"
   ]
  },
  {
   "cell_type": "markdown",
   "metadata": {},
   "source": [
    "Получается, что модель справилась с задачей и без взаимодействующих признаков."
   ]
  },
  {
   "cell_type": "markdown",
   "metadata": {},
   "source": [
    "Попробовал дообучить модель выбрав в параметрах для второй модели 'bootstrap_type': 'Bernoulli' и разное количество итераций: 300, 600, 1000, 2400 результат только ухудшился:"
   ]
  },
  {
   "cell_type": "code",
   "execution_count": null,
   "metadata": {},
   "outputs": [],
   "source": [
    "pool = Pool(x_train, label=y_train)\n",
    "pool_tc = Pool(x_train_tc, label=y_train)\n",
    "\n",
    "ctdt = ctb.train(pool=pool, params=ctb_params, iterations=iterations - 100)\n",
    "ctb_params2 = {'bootstrap_type': 'Bernoulli',\n",
    "    'random_state': 0,\n",
    "    'rsm': 0.786,\n",
    "    'logging_level': 'Silent',\n",
    "    'l2_leaf_reg': 16.71,\n",
    "    'learning_rate': 0.01,\n",
    "    'loss_function': 'Logloss',\n",
    "    'random_strength': 2,\n",
    "    'max_depth': 12,\n",
    "    'border_count': 200,\n",
    "    'eval_metric': 'AUC',\n",
    "}\n",
    "\n",
    "\n",
    "ctdt = ctb.train(pool=pool_tc, params=ctb_params2, iterations=2400, init_model=ctdt)\n",
    "\n",
    "pool_test=Pool(x_test)"
   ]
  },
  {
   "cell_type": "code",
   "execution_count": null,
   "metadata": {},
   "outputs": [],
   "source": [
    "submission = pd.read_csv(sample_submission)\n",
    "submission.iloc[:, 1] = ctdt.predict(pool_test, prediction_type='Probability')[:,1]\n",
    "submission.to_csv('catboost_8.csv', index=False)"
   ]
  },
  {
   "cell_type": "code",
   "execution_count": 25,
   "metadata": {},
   "outputs": [
    {
     "name": "stdout",
     "output_type": "stream",
     "text": [
      "Warning: Looks like you're using an outdated API Version, please consider updating (server 1.5.10 / client 1.5.6)\n",
      "fileName                         date                 description             status    publicScore  privateScore  \n",
      "-------------------------------  -------------------  ----------------------  --------  -----------  ------------  \n",
      "catboost_8.csv                   2021-01-21 21:03:57  catboost8               complete  0.96668      0.96621       \n",
      "catboost_7.csv                   2021-01-21 20:45:49  catboost7               complete  0.96487      0.96407       \n",
      "catboost_6.csv                   2021-01-21 20:23:57  catboost6               complete  0.95566      0.95408       \n",
      "catboost_5.csv                   2021-01-21 19:57:31  catboost5               complete  0.96078      0.95951       \n",
      "catboost_4.csv                   2021-01-21 19:25:05  catboost4               complete  0.96712      0.96713       \n",
      "catboost_4.csv                   2021-01-21 19:02:39  catboost4               complete  0.96871      0.96855       \n",
      "catboost_3.csv                   2021-01-21 16:08:24  catboost3               complete  0.95513      0.95531       \n",
      "catboost_2.csv                   2021-01-21 15:52:09  catboost2               complete  0.96874      0.96858       \n",
      "catboost_1.csv                   2021-01-21 15:37:09  catboost1               complete  0.96876      0.96858       \n",
      "catboost.csv                     2021-01-21 15:19:31  catboost                complete  0.96870      0.96851       \n",
      "catboost.csv                     2021-01-21 15:03:59  catboost                complete  0.96863      0.96841       \n",
      "catboost.csv                     2021-01-21 14:43:37  catboost                complete  0.96874      0.96858       \n",
      "catboost_2.csv                   2021-01-21 14:05:08  catboost_2              complete  0.96874      0.96858       \n",
      "catboost_1.csv                   2021-01-21 13:42:18  catboost_1              complete  0.96876      0.96858       \n",
      "model_fs_26.csv                  2021-01-17 10:42:27  model_fs_26             complete  0.96713      0.96662       \n",
      "model_fs_25.csv                  2021-01-15 21:26:47  model_fs_25             complete  0.96698      0.96659       \n",
      "model_fs_24.csv                  2021-01-15 19:03:56  model_fs_24             complete  0.96639      0.96594       \n",
      "model_fs_23.csv                  2021-01-15 09:20:21  model_fs_23             complete  0.96735      0.96686       \n",
      "model_fs_22.csv                  2021-01-14 20:46:46  model_fs_22             complete  0.96721      0.96685       \n",
      "model_fs_21.csv                  2021-01-14 17:52:17  model_fs_21             complete  0.96736      0.96691       \n",
      "model_fs_20.csv                  2021-01-14 15:00:01  model_fs_20             complete  0.96672      0.96631       \n",
      "model_fs_19.csv                  2021-01-14 12:27:34  model_fs_19             complete  0.96725      0.96692       \n",
      "model_fs_18.csv                  2021-01-14 09:55:12  model_fs_18             complete  0.96735      0.96695       \n",
      "model_fs_17.csv                  2021-01-14 05:27:07  model_fs_17             complete  0.96710      0.96660       \n",
      "encoded_int_60_111.csv           2021-01-13 19:55:23  encoded_int_60_111      complete  0.96861      0.96817       \n",
      "encoded_int_60_110.csv           2021-01-13 17:03:21  encoded_int_60_110      complete  0.96792      0.96742       \n",
      "model_fs_16.csv                  2021-01-13 13:55:53  model_fs_16             complete  0.96566      0.96495       \n",
      "encoded_int_60_115.csv           2021-01-13 10:34:48  encoded_int_60_115      complete  0.96795      0.96743       \n",
      "model_fs_15.csv                  2021-01-13 09:49:42  model_fs_15             complete  0.96591      0.96524       \n",
      "model_fs_14.csv                  2021-01-13 06:38:38  model_fs_14             complete  0.96573      0.96509       \n",
      "encoded_int_40.csv               2021-01-13 06:35:11  encoded_int             complete  0.96792      0.96740       \n",
      "model_fs_13.csv                  2021-01-13 03:05:56  model_fs_13             complete  0.96555      0.96509       \n",
      "encoded_int.csv                  2021-01-12 19:45:55  encoded_int             complete  0.96793      0.96741       \n",
      "encoded_int.csv                  2021-01-12 19:41:36  encoded_int             error     None         None          \n",
      "model_fs_12.csv                  2021-01-12 18:16:41  model_fs_12             complete  0.96640      0.96564       \n",
      "bprobes2.csv                     2021-01-12 14:39:58  bprobes2                complete  0.95307      0.95270       \n",
      "bprobes.csv                      2021-01-12 14:30:02  bprobes                 complete  0.96497      0.96449       \n",
      "interactions.csv                 2021-01-12 14:13:05  model_interactions      complete  0.96115      0.96064       \n",
      "enc_interactions.csv             2021-01-12 14:03:19  model_enc_interactions  complete  0.95099      0.94997       \n",
      "model_fs_11.csv                  2021-01-12 12:00:35  model_fs_11             complete  0.96628      0.96564       \n",
      "model_fs_10.csv                  2021-01-12 08:10:28  model_fs_10             complete  0.96654      0.96591       \n",
      "model_fs_9.csv                   2021-01-12 04:17:51  model_fs_9              complete  0.96729      0.96674       \n",
      "model_fs_8.csv                   2021-01-12 00:23:37  model_fs_8              complete  0.96645      0.96586       \n",
      "model_fs_920127.csv              2021-01-11 19:18:43  model_fs_127            complete  0.96742      0.96680       \n",
      "model_fs_7.csv                   2021-01-11 15:28:48  model_fs_7              complete  0.96773      0.96725       \n",
      "model_fs_6my.csv                 2021-01-11 11:55:05  model_fs_6my            complete  0.96734      0.96676       \n",
      "xgb_benchmark_6.csv              2021-01-11 10:18:35  bench_rounded           complete  0.81738      0.81320       \n",
      "model_fs_5.csv                   2021-01-11 06:21:42  model_fs_5              complete  0.96610      0.96570       \n",
      "model_fs_4.csv                   2021-01-11 02:18:07  model_fs_4              complete  0.96642      0.96582       \n",
      "model_fs_3.csv                   2021-01-10 19:47:39  model_fs_3              complete  0.96603      0.96537       \n",
      "model_fs_2.csv                   2021-01-10 16:20:02  model_fs_2              complete  0.96607      0.96553       \n",
      "model_fs_1.csv                   2021-01-10 12:42:32  model_fs_1              complete  0.96616      0.96564       \n",
      "model_3_matrix.csv               2021-01-08 08:41:06  model_2_fl              complete  0.96819      0.96777       \n",
      "model_2_matrix.csv               2021-01-08 05:20:43  model_2_fl              complete  0.96818      0.96776       \n",
      "model_1_matrix.csv               2021-01-08 00:06:11  model_1_fl              complete  0.96812      0.96774       \n",
      "submission_model_1.csv           2021-01-07 19:30:30  model_1                 complete  0.77988      0.77857       \n",
      "god_of_overfitting_spare_us.csv  2021-01-03 18:20:09  spare_us                complete  0.96928      0.96897       \n",
      "god_of_overfitting_spare_us.csv  2021-01-02 15:24:21  spare_us                complete  0.96928      0.96897       \n",
      "xgb_benchmark_5.csv              2021-01-02 09:51:38  xgb_benchmark           complete  0.96057      0.95992       \n",
      "xgb_benchmark.csv                2021-01-02 08:25:12  xgb_benchmark           complete  0.96057      0.95992       \n",
      "xgb_benchmark.csv                2021-01-02 08:21:42  xgb_benchmark           complete  0.96057      0.95992       \n",
      "xgbr_benchmark.csv               2020-12-31 16:21:18  xgbr_benchmark          complete  0.73950      0.73853       \n",
      "xgb_benchmark.csv                2020-12-31 05:54:28  xgb_benchmark           complete  0.96181      0.96115       \n",
      "xgb_benchmark.csv                2020-12-31 05:00:51  xgb_benchmark           complete  0.96182      0.96115       \n"
     ]
    }
   ],
   "source": [
    "!kaggle competitions submissions homesite-quote-conversion"
   ]
  },
  {
   "cell_type": "code",
   "execution_count": null,
   "metadata": {},
   "outputs": [],
   "source": []
  }
 ],
 "metadata": {
  "kernelspec": {
   "display_name": "Python 3",
   "language": "python",
   "name": "python3"
  },
  "language_info": {
   "codemirror_mode": {
    "name": "ipython",
    "version": 3
   },
   "file_extension": ".py",
   "mimetype": "text/x-python",
   "name": "python",
   "nbconvert_exporter": "python",
   "pygments_lexer": "ipython3",
   "version": "3.7.4"
  },
  "toc": {
   "base_numbering": 1,
   "nav_menu": {},
   "number_sections": true,
   "sideBar": true,
   "skip_h1_title": false,
   "title_cell": "Table of Contents",
   "title_sidebar": "Contents",
   "toc_cell": false,
   "toc_position": {},
   "toc_section_display": true,
   "toc_window_display": false
  }
 },
 "nbformat": 4,
 "nbformat_minor": 4
}
