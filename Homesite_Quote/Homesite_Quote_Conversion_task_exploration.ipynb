{
 "cells": [
  {
   "cell_type": "markdown",
   "metadata": {},
   "source": [
    "В данной работе разбирается и изучается соревнование на Kaggle.com\n",
    "[Homesite Quote Conversion](https://www.kaggle.com/c/homesite-quote-conversion/overview)"
   ]
  },
  {
   "cell_type": "markdown",
   "metadata": {},
   "source": [
    "Обзор данных и задач соревнования:\n",
    "цель соревнования - создать модель предложения страхования жилья, которая приведет к покупке страхового полиса."
   ]
  },
  {
   "cell_type": "markdown",
   "metadata": {},
   "source": [
    "Используя анонимизированную базу данных информации о деятельности клиентов и продаж, включая информацию об имуществе и издержках, Homesite бросает вам вызов, чтобы предсказать, какие клиенты будут покупать страховку. "
   ]
  },
  {
   "cell_type": "markdown",
   "metadata": {},
   "source": [
    "Разбор задачи основан на решении победителя конкурса Far0n и членов его команды:\n",
    "https://github.com/Far0n/kaggle-homesite  "
   ]
  },
  {
   "cell_type": "code",
   "execution_count": 62,
   "metadata": {},
   "outputs": [],
   "source": [
    "from itertools import chain\n",
    "import matplotlib.pyplot as plt\n",
    "from itertools import combinations\n",
    "import numpy as np\n",
    "import pandas as pd\n",
    "import xgboost as xgb\n",
    "from PIL import Image\n",
    "from IPython.display import display\n",
    "from sklearn import preprocessing\n",
    "import warnings\n",
    "warnings.filterwarnings(\"ignore\")\n",
    "\n",
    "\n",
    "# ссылки на данные\n",
    "train_file = \"train.csv\"\n",
    "test_file = \"test.csv\"\n",
    "sample_submission = \"sample_submission.csv\"\n",
    "submission_filename = \"god_of_overfitting_spare_us.csv\""
   ]
  },
  {
   "cell_type": "markdown",
   "metadata": {},
   "source": [
    "# Загрузка данных"
   ]
  },
  {
   "cell_type": "code",
   "execution_count": 10,
   "metadata": {},
   "outputs": [],
   "source": [
    "train = pd.read_csv(train_file)\n",
    "test = pd.read_csv(test_file)\n",
    "y_train = train.QuoteConversion_Flag"
   ]
  },
  {
   "cell_type": "code",
   "execution_count": 11,
   "metadata": {},
   "outputs": [
    {
     "data": {
      "text/html": [
       "<div>\n",
       "<style scoped>\n",
       "    .dataframe tbody tr th:only-of-type {\n",
       "        vertical-align: middle;\n",
       "    }\n",
       "\n",
       "    .dataframe tbody tr th {\n",
       "        vertical-align: top;\n",
       "    }\n",
       "\n",
       "    .dataframe thead th {\n",
       "        text-align: right;\n",
       "    }\n",
       "</style>\n",
       "<table border=\"1\" class=\"dataframe\">\n",
       "  <thead>\n",
       "    <tr style=\"text-align: right;\">\n",
       "      <th></th>\n",
       "      <th>QuoteNumber</th>\n",
       "      <th>Original_Quote_Date</th>\n",
       "      <th>QuoteConversion_Flag</th>\n",
       "      <th>Field6</th>\n",
       "      <th>Field7</th>\n",
       "      <th>Field8</th>\n",
       "      <th>Field9</th>\n",
       "      <th>Field10</th>\n",
       "      <th>Field11</th>\n",
       "      <th>Field12</th>\n",
       "      <th>...</th>\n",
       "      <th>GeographicField59A</th>\n",
       "      <th>GeographicField59B</th>\n",
       "      <th>GeographicField60A</th>\n",
       "      <th>GeographicField60B</th>\n",
       "      <th>GeographicField61A</th>\n",
       "      <th>GeographicField61B</th>\n",
       "      <th>GeographicField62A</th>\n",
       "      <th>GeographicField62B</th>\n",
       "      <th>GeographicField63</th>\n",
       "      <th>GeographicField64</th>\n",
       "    </tr>\n",
       "  </thead>\n",
       "  <tbody>\n",
       "    <tr>\n",
       "      <th>0</th>\n",
       "      <td>1</td>\n",
       "      <td>2013-08-16</td>\n",
       "      <td>0</td>\n",
       "      <td>B</td>\n",
       "      <td>23</td>\n",
       "      <td>0.9403</td>\n",
       "      <td>0.0006</td>\n",
       "      <td>965</td>\n",
       "      <td>1.0200</td>\n",
       "      <td>N</td>\n",
       "      <td>...</td>\n",
       "      <td>9</td>\n",
       "      <td>9</td>\n",
       "      <td>-1</td>\n",
       "      <td>8</td>\n",
       "      <td>-1</td>\n",
       "      <td>18</td>\n",
       "      <td>-1</td>\n",
       "      <td>10</td>\n",
       "      <td>N</td>\n",
       "      <td>CA</td>\n",
       "    </tr>\n",
       "    <tr>\n",
       "      <th>1</th>\n",
       "      <td>2</td>\n",
       "      <td>2014-04-22</td>\n",
       "      <td>0</td>\n",
       "      <td>F</td>\n",
       "      <td>7</td>\n",
       "      <td>1.0006</td>\n",
       "      <td>0.0040</td>\n",
       "      <td>548</td>\n",
       "      <td>1.2433</td>\n",
       "      <td>N</td>\n",
       "      <td>...</td>\n",
       "      <td>10</td>\n",
       "      <td>10</td>\n",
       "      <td>-1</td>\n",
       "      <td>11</td>\n",
       "      <td>-1</td>\n",
       "      <td>17</td>\n",
       "      <td>-1</td>\n",
       "      <td>20</td>\n",
       "      <td>N</td>\n",
       "      <td>NJ</td>\n",
       "    </tr>\n",
       "    <tr>\n",
       "      <th>2</th>\n",
       "      <td>4</td>\n",
       "      <td>2014-08-25</td>\n",
       "      <td>0</td>\n",
       "      <td>F</td>\n",
       "      <td>7</td>\n",
       "      <td>1.0006</td>\n",
       "      <td>0.0040</td>\n",
       "      <td>548</td>\n",
       "      <td>1.2433</td>\n",
       "      <td>N</td>\n",
       "      <td>...</td>\n",
       "      <td>15</td>\n",
       "      <td>18</td>\n",
       "      <td>-1</td>\n",
       "      <td>21</td>\n",
       "      <td>-1</td>\n",
       "      <td>11</td>\n",
       "      <td>-1</td>\n",
       "      <td>8</td>\n",
       "      <td>N</td>\n",
       "      <td>NJ</td>\n",
       "    </tr>\n",
       "    <tr>\n",
       "      <th>3</th>\n",
       "      <td>6</td>\n",
       "      <td>2013-04-15</td>\n",
       "      <td>0</td>\n",
       "      <td>J</td>\n",
       "      <td>10</td>\n",
       "      <td>0.9769</td>\n",
       "      <td>0.0004</td>\n",
       "      <td>1,165</td>\n",
       "      <td>1.2665</td>\n",
       "      <td>N</td>\n",
       "      <td>...</td>\n",
       "      <td>6</td>\n",
       "      <td>5</td>\n",
       "      <td>-1</td>\n",
       "      <td>10</td>\n",
       "      <td>-1</td>\n",
       "      <td>9</td>\n",
       "      <td>-1</td>\n",
       "      <td>21</td>\n",
       "      <td>N</td>\n",
       "      <td>TX</td>\n",
       "    </tr>\n",
       "    <tr>\n",
       "      <th>4</th>\n",
       "      <td>8</td>\n",
       "      <td>2014-01-25</td>\n",
       "      <td>0</td>\n",
       "      <td>E</td>\n",
       "      <td>23</td>\n",
       "      <td>0.9472</td>\n",
       "      <td>0.0006</td>\n",
       "      <td>1,487</td>\n",
       "      <td>1.3045</td>\n",
       "      <td>N</td>\n",
       "      <td>...</td>\n",
       "      <td>18</td>\n",
       "      <td>22</td>\n",
       "      <td>-1</td>\n",
       "      <td>10</td>\n",
       "      <td>-1</td>\n",
       "      <td>11</td>\n",
       "      <td>-1</td>\n",
       "      <td>12</td>\n",
       "      <td>N</td>\n",
       "      <td>IL</td>\n",
       "    </tr>\n",
       "  </tbody>\n",
       "</table>\n",
       "<p>5 rows × 299 columns</p>\n",
       "</div>"
      ],
      "text/plain": [
       "   QuoteNumber Original_Quote_Date  QuoteConversion_Flag Field6  Field7  \\\n",
       "0            1          2013-08-16                     0      B      23   \n",
       "1            2          2014-04-22                     0      F       7   \n",
       "2            4          2014-08-25                     0      F       7   \n",
       "3            6          2013-04-15                     0      J      10   \n",
       "4            8          2014-01-25                     0      E      23   \n",
       "\n",
       "   Field8  Field9 Field10  Field11 Field12  ...  GeographicField59A  \\\n",
       "0  0.9403  0.0006     965   1.0200       N  ...                   9   \n",
       "1  1.0006  0.0040     548   1.2433       N  ...                  10   \n",
       "2  1.0006  0.0040     548   1.2433       N  ...                  15   \n",
       "3  0.9769  0.0004   1,165   1.2665       N  ...                   6   \n",
       "4  0.9472  0.0006   1,487   1.3045       N  ...                  18   \n",
       "\n",
       "   GeographicField59B  GeographicField60A  GeographicField60B  \\\n",
       "0                   9                  -1                   8   \n",
       "1                  10                  -1                  11   \n",
       "2                  18                  -1                  21   \n",
       "3                   5                  -1                  10   \n",
       "4                  22                  -1                  10   \n",
       "\n",
       "   GeographicField61A  GeographicField61B  GeographicField62A  \\\n",
       "0                  -1                  18                  -1   \n",
       "1                  -1                  17                  -1   \n",
       "2                  -1                  11                  -1   \n",
       "3                  -1                   9                  -1   \n",
       "4                  -1                  11                  -1   \n",
       "\n",
       "   GeographicField62B  GeographicField63  GeographicField64  \n",
       "0                  10                  N                 CA  \n",
       "1                  20                  N                 NJ  \n",
       "2                   8                  N                 NJ  \n",
       "3                  21                  N                 TX  \n",
       "4                  12                  N                 IL  \n",
       "\n",
       "[5 rows x 299 columns]"
      ]
     },
     "execution_count": 11,
     "metadata": {},
     "output_type": "execute_result"
    }
   ],
   "source": [
    "train.head()"
   ]
  },
  {
   "cell_type": "code",
   "execution_count": 12,
   "metadata": {},
   "outputs": [
    {
     "name": "stdout",
     "output_type": "stream",
     "text": [
      "<class 'pandas.core.frame.DataFrame'>\n",
      "RangeIndex: 260753 entries, 0 to 260752\n",
      "Columns: 299 entries, QuoteNumber to GeographicField64\n",
      "dtypes: float64(6), int64(265), object(28)\n",
      "memory usage: 594.8+ MB\n"
     ]
    }
   ],
   "source": [
    "train.info()"
   ]
  },
  {
   "cell_type": "code",
   "execution_count": 13,
   "metadata": {},
   "outputs": [],
   "source": [
    "# удаляю ненужные поля: порядковый номер и целевой признак из \n",
    "# тренировочного датасета\n",
    "train = train.drop(['QuoteNumber', 'QuoteConversion_Flag'], axis=1)\n",
    "test = test.drop('QuoteNumber', axis=1)\n",
    "\n",
    "# определяю длину тренировочного датасета (кол-во строк)\n",
    "ntrain = train.shape[0]\n",
    "# объединяю тренировочный и тестовый набор данных вместе\n",
    "# для совместных преобразований данных\n",
    "train_test = pd.concat((train, test), axis=0)\n",
    "\n",
    "# преобразую строчные значения даты в вормат времени datetime\n",
    "train_test['Date'] = pd.to_datetime(train_test['Original_Quote_Date'])\n",
    "# добавляю новые числовые признаки связанные с датой\n",
    "train_test['Year'] = train_test['Date'].dt.year\n",
    "train_test['Month'] = train_test['Date'].dt.month\n",
    "train_test['Day'] = train_test['Date'].dt.day\n",
    "train_test['Weekday'] = train_test['Date'].dt.dayofweek\n",
    "\n",
    "# убираю запятую из строчного признака и конвертирую его в целое число\n",
    "train_test['Field10'] = train_test['Field10'].apply(lambda x:\n",
    "                                x.replace(',', '')).astype(np.int32)\n"
   ]
  },
  {
   "cell_type": "code",
   "execution_count": 14,
   "metadata": {},
   "outputs": [
    {
     "name": "stdout",
     "output_type": "stream",
     "text": [
      "> Original_Quote_Date, Missing: 0 (0.0%)\n",
      "> Field6, Missing: 0 (0.0%)\n",
      "> Field7, Missing: 0 (0.0%)\n",
      "> Field8, Missing: 0 (0.0%)\n",
      "> Field9, Missing: 0 (0.0%)\n",
      "> Field10, Missing: 0 (0.0%)\n",
      "> Field11, Missing: 0 (0.0%)\n",
      "> Field12, Missing: 0 (0.0%)\n",
      "> CoverageField1A, Missing: 0 (0.0%)\n",
      "> CoverageField1B, Missing: 0 (0.0%)\n",
      "> CoverageField2A, Missing: 0 (0.0%)\n",
      "> CoverageField2B, Missing: 0 (0.0%)\n",
      "> CoverageField3A, Missing: 0 (0.0%)\n",
      "> CoverageField3B, Missing: 0 (0.0%)\n",
      "> CoverageField4A, Missing: 0 (0.0%)\n",
      "> CoverageField4B, Missing: 0 (0.0%)\n",
      "> CoverageField5A, Missing: 0 (0.0%)\n",
      "> CoverageField5B, Missing: 0 (0.0%)\n",
      "> CoverageField6A, Missing: 0 (0.0%)\n",
      "> CoverageField6B, Missing: 0 (0.0%)\n",
      "> CoverageField8, Missing: 0 (0.0%)\n",
      "> CoverageField9, Missing: 0 (0.0%)\n",
      "> CoverageField11A, Missing: 0 (0.0%)\n",
      "> CoverageField11B, Missing: 0 (0.0%)\n",
      "> SalesField1A, Missing: 0 (0.0%)\n",
      "> SalesField1B, Missing: 0 (0.0%)\n",
      "> SalesField2A, Missing: 0 (0.0%)\n",
      "> SalesField2B, Missing: 0 (0.0%)\n",
      "> SalesField3, Missing: 0 (0.0%)\n",
      "> SalesField4, Missing: 0 (0.0%)\n",
      "> SalesField5, Missing: 0 (0.0%)\n",
      "> SalesField6, Missing: 0 (0.0%)\n",
      "> SalesField7, Missing: 0 (0.0%)\n",
      "> SalesField8, Missing: 0 (0.0%)\n",
      "> SalesField9, Missing: 0 (0.0%)\n",
      "> SalesField10, Missing: 0 (0.0%)\n",
      "> SalesField11, Missing: 0 (0.0%)\n",
      "> SalesField12, Missing: 0 (0.0%)\n",
      "> SalesField13, Missing: 0 (0.0%)\n",
      "> SalesField14, Missing: 0 (0.0%)\n",
      "> SalesField15, Missing: 0 (0.0%)\n",
      "> PersonalField1, Missing: 0 (0.0%)\n",
      "> PersonalField2, Missing: 0 (0.0%)\n",
      "> PersonalField4A, Missing: 0 (0.0%)\n",
      "> PersonalField4B, Missing: 0 (0.0%)\n",
      "> PersonalField5, Missing: 0 (0.0%)\n",
      "> PersonalField6, Missing: 0 (0.0%)\n",
      "> PersonalField7, Missing: 182 (0.0%)\n",
      "> PersonalField8, Missing: 0 (0.0%)\n",
      "> PersonalField9, Missing: 0 (0.0%)\n",
      "> PersonalField10A, Missing: 0 (0.0%)\n",
      "> PersonalField10B, Missing: 0 (0.0%)\n",
      "> PersonalField11, Missing: 0 (0.0%)\n",
      "> PersonalField12, Missing: 0 (0.0%)\n",
      "> PersonalField13, Missing: 0 (0.0%)\n",
      "> PersonalField14, Missing: 0 (0.0%)\n",
      "> PersonalField15, Missing: 0 (0.0%)\n",
      "> PersonalField16, Missing: 0 (0.0%)\n",
      "> PersonalField17, Missing: 0 (0.0%)\n",
      "> PersonalField18, Missing: 0 (0.0%)\n",
      "> PersonalField19, Missing: 0 (0.0%)\n",
      "> PersonalField22, Missing: 0 (0.0%)\n",
      "> PersonalField23, Missing: 0 (0.0%)\n",
      "> PersonalField24, Missing: 0 (0.0%)\n",
      "> PersonalField25, Missing: 0 (0.0%)\n",
      "> PersonalField26, Missing: 0 (0.0%)\n",
      "> PersonalField27, Missing: 0 (0.0%)\n",
      "> PersonalField28, Missing: 0 (0.0%)\n",
      "> PersonalField29, Missing: 0 (0.0%)\n",
      "> PersonalField30, Missing: 0 (0.0%)\n",
      "> PersonalField31, Missing: 0 (0.0%)\n",
      "> PersonalField32, Missing: 0 (0.0%)\n",
      "> PersonalField33, Missing: 0 (0.0%)\n",
      "> PersonalField34, Missing: 0 (0.0%)\n",
      "> PersonalField35, Missing: 0 (0.0%)\n",
      "> PersonalField36, Missing: 0 (0.0%)\n",
      "> PersonalField37, Missing: 0 (0.0%)\n",
      "> PersonalField38, Missing: 0 (0.0%)\n",
      "> PersonalField39, Missing: 0 (0.0%)\n",
      "> PersonalField40, Missing: 0 (0.0%)\n",
      "> PersonalField41, Missing: 0 (0.0%)\n",
      "> PersonalField42, Missing: 0 (0.0%)\n",
      "> PersonalField43, Missing: 0 (0.0%)\n",
      "> PersonalField44, Missing: 0 (0.0%)\n",
      "> PersonalField45, Missing: 0 (0.0%)\n",
      "> PersonalField46, Missing: 0 (0.0%)\n",
      "> PersonalField47, Missing: 0 (0.0%)\n",
      "> PersonalField48, Missing: 0 (0.0%)\n",
      "> PersonalField49, Missing: 0 (0.0%)\n",
      "> PersonalField50, Missing: 0 (0.0%)\n",
      "> PersonalField51, Missing: 0 (0.0%)\n",
      "> PersonalField52, Missing: 0 (0.0%)\n",
      "> PersonalField53, Missing: 0 (0.0%)\n",
      "> PersonalField54, Missing: 0 (0.0%)\n",
      "> PersonalField55, Missing: 0 (0.0%)\n",
      "> PersonalField56, Missing: 0 (0.0%)\n",
      "> PersonalField57, Missing: 0 (0.0%)\n",
      "> PersonalField58, Missing: 0 (0.0%)\n",
      "> PersonalField59, Missing: 0 (0.0%)\n",
      "> PersonalField60, Missing: 0 (0.0%)\n",
      "> PersonalField61, Missing: 0 (0.0%)\n",
      "> PersonalField62, Missing: 0 (0.0%)\n",
      "> PersonalField63, Missing: 0 (0.0%)\n",
      "> PersonalField64, Missing: 0 (0.0%)\n",
      "> PersonalField65, Missing: 0 (0.0%)\n",
      "> PersonalField66, Missing: 0 (0.0%)\n",
      "> PersonalField67, Missing: 0 (0.0%)\n",
      "> PersonalField68, Missing: 0 (0.0%)\n",
      "> PersonalField69, Missing: 0 (0.0%)\n",
      "> PersonalField70, Missing: 0 (0.0%)\n",
      "> PersonalField71, Missing: 0 (0.0%)\n",
      "> PersonalField72, Missing: 0 (0.0%)\n",
      "> PersonalField73, Missing: 0 (0.0%)\n",
      "> PersonalField74, Missing: 0 (0.0%)\n",
      "> PersonalField75, Missing: 0 (0.0%)\n",
      "> PersonalField76, Missing: 0 (0.0%)\n",
      "> PersonalField77, Missing: 0 (0.0%)\n",
      "> PersonalField78, Missing: 0 (0.0%)\n",
      "> PersonalField79, Missing: 0 (0.0%)\n",
      "> PersonalField80, Missing: 0 (0.0%)\n",
      "> PersonalField81, Missing: 0 (0.0%)\n",
      "> PersonalField82, Missing: 0 (0.0%)\n",
      "> PersonalField83, Missing: 0 (0.0%)\n",
      "> PersonalField84, Missing: 207020 (47.6%)\n",
      "> PropertyField1A, Missing: 0 (0.0%)\n",
      "> PropertyField1B, Missing: 0 (0.0%)\n",
      "> PropertyField2A, Missing: 0 (0.0%)\n",
      "> PropertyField2B, Missing: 0 (0.0%)\n",
      "> PropertyField3, Missing: 150 (0.0%)\n",
      "> PropertyField4, Missing: 115 (0.0%)\n",
      "> PropertyField5, Missing: 1 (0.0%)\n",
      "> PropertyField6, Missing: 0 (0.0%)\n",
      "> PropertyField7, Missing: 0 (0.0%)\n",
      "> PropertyField8, Missing: 0 (0.0%)\n",
      "> PropertyField9, Missing: 0 (0.0%)\n",
      "> PropertyField10, Missing: 0 (0.0%)\n",
      "> PropertyField11A, Missing: 0 (0.0%)\n",
      "> PropertyField11B, Missing: 0 (0.0%)\n",
      "> PropertyField12, Missing: 0 (0.0%)\n",
      "> PropertyField13, Missing: 0 (0.0%)\n",
      "> PropertyField14, Missing: 0 (0.0%)\n",
      "> PropertyField15, Missing: 0 (0.0%)\n",
      "> PropertyField16A, Missing: 0 (0.0%)\n",
      "> PropertyField16B, Missing: 0 (0.0%)\n",
      "> PropertyField17, Missing: 0 (0.0%)\n",
      "> PropertyField18, Missing: 0 (0.0%)\n",
      "> PropertyField19, Missing: 0 (0.0%)\n",
      "> PropertyField20, Missing: 0 (0.0%)\n",
      "> PropertyField21A, Missing: 0 (0.0%)\n",
      "> PropertyField21B, Missing: 0 (0.0%)\n",
      "> PropertyField22, Missing: 0 (0.0%)\n",
      "> PropertyField23, Missing: 0 (0.0%)\n",
      "> PropertyField24A, Missing: 0 (0.0%)\n",
      "> PropertyField24B, Missing: 0 (0.0%)\n",
      "> PropertyField25, Missing: 0 (0.0%)\n",
      "> PropertyField26A, Missing: 0 (0.0%)\n",
      "> PropertyField26B, Missing: 0 (0.0%)\n",
      "> PropertyField27, Missing: 0 (0.0%)\n",
      "> PropertyField28, Missing: 0 (0.0%)\n",
      "> PropertyField29, Missing: 334630 (77.0%)\n",
      "> PropertyField30, Missing: 1 (0.0%)\n",
      "> PropertyField31, Missing: 0 (0.0%)\n",
      "> PropertyField32, Missing: 111 (0.0%)\n",
      "> PropertyField33, Missing: 0 (0.0%)\n",
      "> PropertyField34, Missing: 111 (0.0%)\n",
      "> PropertyField35, Missing: 0 (0.0%)\n",
      "> PropertyField36, Missing: 180 (0.0%)\n",
      "> PropertyField37, Missing: 0 (0.0%)\n",
      "> PropertyField38, Missing: 2066 (0.5%)\n",
      "> PropertyField39A, Missing: 0 (0.0%)\n",
      "> PropertyField39B, Missing: 0 (0.0%)\n",
      "> GeographicField1A, Missing: 0 (0.0%)\n",
      "> GeographicField1B, Missing: 0 (0.0%)\n",
      "> GeographicField2A, Missing: 0 (0.0%)\n",
      "> GeographicField2B, Missing: 0 (0.0%)\n",
      "> GeographicField3A, Missing: 0 (0.0%)\n",
      "> GeographicField3B, Missing: 0 (0.0%)\n",
      "> GeographicField4A, Missing: 0 (0.0%)\n",
      "> GeographicField4B, Missing: 0 (0.0%)\n",
      "> GeographicField5A, Missing: 0 (0.0%)\n",
      "> GeographicField5B, Missing: 0 (0.0%)\n",
      "> GeographicField6A, Missing: 0 (0.0%)\n",
      "> GeographicField6B, Missing: 0 (0.0%)\n",
      "> GeographicField7A, Missing: 0 (0.0%)\n",
      "> GeographicField7B, Missing: 0 (0.0%)\n",
      "> GeographicField8A, Missing: 0 (0.0%)\n",
      "> GeographicField8B, Missing: 0 (0.0%)\n",
      "> GeographicField9A, Missing: 0 (0.0%)\n",
      "> GeographicField9B, Missing: 0 (0.0%)\n",
      "> GeographicField10A, Missing: 0 (0.0%)\n",
      "> GeographicField10B, Missing: 0 (0.0%)\n",
      "> GeographicField11A, Missing: 0 (0.0%)\n",
      "> GeographicField11B, Missing: 0 (0.0%)\n",
      "> GeographicField12A, Missing: 0 (0.0%)\n",
      "> GeographicField12B, Missing: 0 (0.0%)\n",
      "> GeographicField13A, Missing: 0 (0.0%)\n",
      "> GeographicField13B, Missing: 0 (0.0%)\n",
      "> GeographicField14A, Missing: 0 (0.0%)\n",
      "> GeographicField14B, Missing: 0 (0.0%)\n",
      "> GeographicField15A, Missing: 0 (0.0%)\n",
      "> GeographicField15B, Missing: 0 (0.0%)\n",
      "> GeographicField16A, Missing: 0 (0.0%)\n",
      "> GeographicField16B, Missing: 0 (0.0%)\n",
      "> GeographicField17A, Missing: 0 (0.0%)\n",
      "> GeographicField17B, Missing: 0 (0.0%)\n",
      "> GeographicField18A, Missing: 0 (0.0%)\n",
      "> GeographicField18B, Missing: 0 (0.0%)\n",
      "> GeographicField19A, Missing: 0 (0.0%)\n",
      "> GeographicField19B, Missing: 0 (0.0%)\n",
      "> GeographicField20A, Missing: 0 (0.0%)\n",
      "> GeographicField20B, Missing: 0 (0.0%)\n",
      "> GeographicField21A, Missing: 0 (0.0%)\n",
      "> GeographicField21B, Missing: 0 (0.0%)\n",
      "> GeographicField22A, Missing: 0 (0.0%)\n",
      "> GeographicField22B, Missing: 0 (0.0%)\n",
      "> GeographicField23A, Missing: 0 (0.0%)\n",
      "> GeographicField23B, Missing: 0 (0.0%)\n",
      "> GeographicField24A, Missing: 0 (0.0%)\n",
      "> GeographicField24B, Missing: 0 (0.0%)\n",
      "> GeographicField25A, Missing: 0 (0.0%)\n",
      "> GeographicField25B, Missing: 0 (0.0%)\n",
      "> GeographicField26A, Missing: 0 (0.0%)\n",
      "> GeographicField26B, Missing: 0 (0.0%)\n",
      "> GeographicField27A, Missing: 0 (0.0%)\n",
      "> GeographicField27B, Missing: 0 (0.0%)\n",
      "> GeographicField28A, Missing: 0 (0.0%)\n",
      "> GeographicField28B, Missing: 0 (0.0%)\n",
      "> GeographicField29A, Missing: 0 (0.0%)\n",
      "> GeographicField29B, Missing: 0 (0.0%)\n",
      "> GeographicField30A, Missing: 0 (0.0%)\n",
      "> GeographicField30B, Missing: 0 (0.0%)\n",
      "> GeographicField31A, Missing: 0 (0.0%)\n",
      "> GeographicField31B, Missing: 0 (0.0%)\n",
      "> GeographicField32A, Missing: 0 (0.0%)\n",
      "> GeographicField32B, Missing: 0 (0.0%)\n",
      "> GeographicField33A, Missing: 0 (0.0%)\n",
      "> GeographicField33B, Missing: 0 (0.0%)\n",
      "> GeographicField34A, Missing: 0 (0.0%)\n",
      "> GeographicField34B, Missing: 0 (0.0%)\n",
      "> GeographicField35A, Missing: 0 (0.0%)\n",
      "> GeographicField35B, Missing: 0 (0.0%)\n",
      "> GeographicField36A, Missing: 0 (0.0%)\n",
      "> GeographicField36B, Missing: 0 (0.0%)\n",
      "> GeographicField37A, Missing: 0 (0.0%)\n",
      "> GeographicField37B, Missing: 0 (0.0%)\n",
      "> GeographicField38A, Missing: 0 (0.0%)\n",
      "> GeographicField38B, Missing: 0 (0.0%)\n",
      "> GeographicField39A, Missing: 0 (0.0%)\n",
      "> GeographicField39B, Missing: 0 (0.0%)\n",
      "> GeographicField40A, Missing: 0 (0.0%)\n",
      "> GeographicField40B, Missing: 0 (0.0%)\n",
      "> GeographicField41A, Missing: 0 (0.0%)\n",
      "> GeographicField41B, Missing: 0 (0.0%)\n",
      "> GeographicField42A, Missing: 0 (0.0%)\n",
      "> GeographicField42B, Missing: 0 (0.0%)\n",
      "> GeographicField43A, Missing: 0 (0.0%)\n",
      "> GeographicField43B, Missing: 0 (0.0%)\n",
      "> GeographicField44A, Missing: 0 (0.0%)\n",
      "> GeographicField44B, Missing: 0 (0.0%)\n",
      "> GeographicField45A, Missing: 0 (0.0%)\n",
      "> GeographicField45B, Missing: 0 (0.0%)\n",
      "> GeographicField46A, Missing: 0 (0.0%)\n",
      "> GeographicField46B, Missing: 0 (0.0%)\n",
      "> GeographicField47A, Missing: 0 (0.0%)\n",
      "> GeographicField47B, Missing: 0 (0.0%)\n",
      "> GeographicField48A, Missing: 0 (0.0%)\n",
      "> GeographicField48B, Missing: 0 (0.0%)\n",
      "> GeographicField49A, Missing: 0 (0.0%)\n",
      "> GeographicField49B, Missing: 0 (0.0%)\n",
      "> GeographicField50A, Missing: 0 (0.0%)\n",
      "> GeographicField50B, Missing: 0 (0.0%)\n",
      "> GeographicField51A, Missing: 0 (0.0%)\n",
      "> GeographicField51B, Missing: 0 (0.0%)\n",
      "> GeographicField52A, Missing: 0 (0.0%)\n",
      "> GeographicField52B, Missing: 0 (0.0%)\n",
      "> GeographicField53A, Missing: 0 (0.0%)\n",
      "> GeographicField53B, Missing: 0 (0.0%)\n",
      "> GeographicField54A, Missing: 0 (0.0%)\n",
      "> GeographicField54B, Missing: 0 (0.0%)\n",
      "> GeographicField55A, Missing: 0 (0.0%)\n",
      "> GeographicField55B, Missing: 0 (0.0%)\n",
      "> GeographicField56A, Missing: 0 (0.0%)\n",
      "> GeographicField56B, Missing: 0 (0.0%)\n",
      "> GeographicField57A, Missing: 0 (0.0%)\n",
      "> GeographicField57B, Missing: 0 (0.0%)\n",
      "> GeographicField58A, Missing: 0 (0.0%)\n",
      "> GeographicField58B, Missing: 0 (0.0%)\n",
      "> GeographicField59A, Missing: 0 (0.0%)\n",
      "> GeographicField59B, Missing: 0 (0.0%)\n",
      "> GeographicField60A, Missing: 0 (0.0%)\n",
      "> GeographicField60B, Missing: 0 (0.0%)\n",
      "> GeographicField61A, Missing: 0 (0.0%)\n",
      "> GeographicField61B, Missing: 0 (0.0%)\n",
      "> GeographicField62A, Missing: 0 (0.0%)\n",
      "> GeographicField62B, Missing: 0 (0.0%)\n",
      "> GeographicField63, Missing: 0 (0.0%)\n",
      "> GeographicField64, Missing: 0 (0.0%)\n",
      "> Date, Missing: 0 (0.0%)\n",
      "> Year, Missing: 0 (0.0%)\n",
      "> Month, Missing: 0 (0.0%)\n",
      "> Day, Missing: 0 (0.0%)\n",
      "> Weekday, Missing: 0 (0.0%)\n"
     ]
    }
   ],
   "source": [
    "# проверяю пропуски в данных\n",
    "dataframe=train_test\n",
    "lst=[]\n",
    "for col in dataframe.columns:\n",
    "\t# count number of rows with missing values\n",
    "\tn_miss = dataframe[col].isnull().sum()\n",
    "\tperc = n_miss / dataframe.shape[0] * 100\n",
    "\tif n_miss>0:\n",
    "\t\tlst.append(col)        \n",
    "\tprint('> %s, Missing: %d (%.1f%%)' % (col, n_miss, perc))"
   ]
  },
  {
   "cell_type": "code",
   "execution_count": 15,
   "metadata": {},
   "outputs": [
    {
     "name": "stdout",
     "output_type": "stream",
     "text": [
      "Колонки с пропущенными значениями: \n"
     ]
    },
    {
     "data": {
      "text/plain": [
       "['PersonalField7',\n",
       " 'PersonalField84',\n",
       " 'PropertyField3',\n",
       " 'PropertyField4',\n",
       " 'PropertyField5',\n",
       " 'PropertyField29',\n",
       " 'PropertyField30',\n",
       " 'PropertyField32',\n",
       " 'PropertyField34',\n",
       " 'PropertyField36',\n",
       " 'PropertyField38']"
      ]
     },
     "execution_count": 15,
     "metadata": {},
     "output_type": "execute_result"
    }
   ],
   "source": [
    "print('Колонки с пропущенными значениями: ')\n",
    "lst"
   ]
  },
  {
   "cell_type": "code",
   "execution_count": 19,
   "metadata": {},
   "outputs": [
    {
     "name": "stdout",
     "output_type": "stream",
     "text": [
      "Значения поля PersonalField7:, ['N' 'Y' nan]\n",
      "Значения поля PersonalField84:, [ 2. nan  1.  5.  4.  7.  8.  3.]\n",
      "Значения поля PropertyField3:, ['N' 'Y' nan]\n",
      "Значения поля PropertyField4:, ['N' 'Y' nan]\n",
      "Значения поля PropertyField5:, ['Y' 'N' nan]\n",
      "Значения поля PropertyField29:, [ 0. nan  1. 10.]\n",
      "Значения поля PropertyField30:, ['N' 'Y' nan]\n",
      "Значения поля PropertyField32:, ['Y' 'N' nan]\n",
      "Значения поля PropertyField34:, ['Y' 'N' nan]\n",
      "Значения поля PropertyField36:, ['N' 'Y' nan]\n",
      "Значения поля PropertyField38:, ['N' 'Y' nan]\n"
     ]
    }
   ],
   "source": [
    "# смотрю, какие данные пропущены\n",
    "print('Значения поля {}:, {}'.format('PersonalField7', train_test['PersonalField7'].unique()))\n",
    "print('Значения поля {}:, {}'.format('PersonalField84', train_test['PersonalField84'].unique()))\n",
    "print('Значения поля {}:, {}'.format('PropertyField3', train_test['PropertyField3'].unique()))\n",
    "print('Значения поля {}:, {}'.format('PropertyField4', train_test['PropertyField4'].unique()))\n",
    "print('Значения поля {}:, {}'.format('PropertyField5', train_test['PropertyField5'].unique()))\n",
    "print('Значения поля {}:, {}'.format('PropertyField29', train_test['PropertyField29'].unique()))\n",
    "print('Значения поля {}:, {}'.format('PropertyField30', train_test['PropertyField30'].unique()))\n",
    "print('Значения поля {}:, {}'.format('PropertyField32', train_test['PropertyField32'].unique()))\n",
    "print('Значения поля {}:, {}'.format('PropertyField34', train_test['PropertyField34'].unique()))\n",
    "print('Значения поля {}:, {}'.format('PropertyField36', train_test['PropertyField36'].unique()))\n",
    "print('Значения поля {}:, {}'.format('PropertyField38', train_test['PropertyField38'].unique()))"
   ]
  },
  {
   "cell_type": "markdown",
   "metadata": {},
   "source": [
    "Видно что два поля имеют числовые значения, причем нехватка данных довольно значительная: 47-77%, остальные - строчные.\n",
    "Можно было бы удалить данные, где нехватает большинство значений и заменить отсутствующие строчные каким нибудь статистическим значением, но автор пошел другим путем: он присвоил пропущенным значениям -1 с целью использовать этот трюк для создания новых признаков в дальнейшем, по всей видимости, для оценки веса входящих значений. "
   ]
  },
  {
   "cell_type": "code",
   "execution_count": 20,
   "metadata": {},
   "outputs": [],
   "source": [
    "# заменяю пропуск на -1\n",
    "train_test['PropertyField37'] = train_test['PropertyField37'].apply(lambda x: -1 if x == ' ' else x)\n",
    "train_test['GeographicField10AraphicField63'] = train_test['GeographicField63'].apply(lambda x: -1 if x == ' ' else x)\n",
    "\n",
    "# удаляю временнЫе поля \n",
    "train_test = train_test.drop(['Date', 'Original_Quote_Date'], axis=1)\n",
    "# заменяю пропущенные значения -1\n",
    "train_test = train_test.fillna(-1)"
   ]
  },
  {
   "cell_type": "code",
   "execution_count": 21,
   "metadata": {},
   "outputs": [],
   "source": [
    "# определяю данные с категориального (строкового типа)\n",
    "# и делаю Label encoder\n",
    "categoricals = [x for x in train_test.columns if train_test[x].dtype == 'object']\n",
    "for c in categoricals:\n",
    "        lbl = preprocessing.LabelEncoder()\n",
    "        lbl.fit(list(train_test[c].values))\n",
    "        train_test[c] = lbl.transform(list(train_test[c].values))"
   ]
  },
  {
   "cell_type": "markdown",
   "metadata": {},
   "source": [
    "Некоторые участники соревнования делали здесь One Hot encoder, но так как в дальнейшем будет использоваться модель XGboost, которая не чувствительна к стандартизации и скалированию, это не столь важно."
   ]
  },
  {
   "cell_type": "code",
   "execution_count": 22,
   "metadata": {},
   "outputs": [],
   "source": [
    "# разделяю выборки опять на тренировочную и тестовую\n",
    "train = train_test.iloc[:ntrain, :].copy().reset_index(drop=True)\n",
    "test = train_test.iloc[ntrain:, :].copy().reset_index(drop=True)"
   ]
  },
  {
   "cell_type": "markdown",
   "metadata": {},
   "source": [
    "На этом как бы подготовительный этап почти закончен, далее начинаем работать с признаками. \n",
    "\n",
    "Как отмечала команда Faronа в обсуждениях к соревнованиям они потратили многие недели на обработку данных, создали более 600 моделей:\n",
    "  Xgbs, Nns(lasagne and keras), Rfs, Adaboosts, svms, ETs, Logits, Libfms , vowpal  \n",
    "Использовали различные входные типы данных: только числовые, только категориальные, смешанные.\n",
    "Использовали различный отбор признаков: прямой, обратный, смешанный.\n",
    "И множество субмоделей с половиной признаков: модели за каждую неделю, каждый год и так далее.\n",
    "После этого они применили метамодель (ансамбль) из 3-х уровней с различным отбором признаков и выбором моделей.\n",
    "\n",
    "Ну на этом всем останавливаться не будем, потому что задачи такой нет. А есть задача рассмотреть лучшую одиночную модель конкурса Farona."
   ]
  },
  {
   "cell_type": "markdown",
   "metadata": {},
   "source": [
    "# Выделение важных признаков и конструирование новых"
   ]
  },
  {
   "cell_type": "markdown",
   "metadata": {},
   "source": [
    "## Выделение важных признаков"
   ]
  },
  {
   "cell_type": "markdown",
   "metadata": {},
   "source": [
    "Так как эта задача будет решаться с помощью XGB бустинга начнем с выделения важнейших признаков."
   ]
  },
  {
   "cell_type": "markdown",
   "metadata": {},
   "source": [
    "Для наглядности и сокращения времени расчетов я не буду делать все вычесления на полном датасете, а возьму выборку из первых 10000 строк. \n",
    "Ибо из-за большого объема данных полный перебор ,бустингом может занять недели, как у автора."
   ]
  },
  {
   "cell_type": "markdown",
   "metadata": {},
   "source": [
    "Мое решение может несколько отличаться от решения автора, еще потому что Faron для выделения признаков, а именно конкретно их взаимодействия, пользовался собственной разработанной библиотекой, не все возможности которой публично доступны."
   ]
  },
  {
   "cell_type": "markdown",
   "metadata": {},
   "source": [
    "https://github.com/Far0n/xgbfi"
   ]
  },
  {
   "cell_type": "markdown",
   "metadata": {},
   "source": [
    "Но кое что от-туда можно поиметь для сравнения"
   ]
  },
  {
   "cell_type": "code",
   "execution_count": 23,
   "metadata": {},
   "outputs": [
    {
     "name": "stdout",
     "output_type": "stream",
     "text": [
      "Requirement already satisfied: xgbfir in c:\\users\\asus\\anaconda3\\lib\\site-packages (0.3.1)\n",
      "Requirement already satisfied: xlsxwriter>=0.9.3 in c:\\users\\asus\\anaconda3\\lib\\site-packages (from xgbfir) (1.2.1)\n"
     ]
    }
   ],
   "source": [
    "!pip install xgbfir"
   ]
  },
  {
   "cell_type": "code",
   "execution_count": 24,
   "metadata": {},
   "outputs": [],
   "source": [
    "import xgbfir"
   ]
  },
  {
   "cell_type": "code",
   "execution_count": 25,
   "metadata": {},
   "outputs": [],
   "source": [
    "X=train.iloc[:100000,:]\n",
    "Y=y_train[:100000]\n",
    "# здесь я беру параметры установленные автором\n",
    "xgb_params = {\n",
    "    'seed': 0,\n",
    "    'colsample_bytree': 0.8,\n",
    "    'silent': 1,\n",
    "    'subsample': .85,\n",
    "    'eta': 0.0275,\n",
    "    'objective': 'binary:logitraw',\n",
    "    'num_parallel_tree': 7,\n",
    "    'max_depth': 5,\n",
    "    'nthread': 22,\n",
    "    'eval_metric': 'auc',\n",
    "}"
   ]
  },
  {
   "cell_type": "markdown",
   "metadata": {},
   "source": [
    "Ищу первые 111 признаков наиболее важных в модели"
   ]
  },
  {
   "cell_type": "code",
   "execution_count": 29,
   "metadata": {},
   "outputs": [],
   "source": [
    "clf=xgb.XGBClassifier(xgb_params=xgb_params)\n",
    "clf.fit(X, Y)\n",
    "dict_scores=clf.get_booster().get_score(importance_type=\"gain\")\n",
    "# сортирую признаки\n",
    "sc_sorted={k: v for k, v in sorted(dict_scores.items(), \n",
    "                    key=lambda item: item[1], reverse=True)}\n",
    "list_best=list(sc_sorted)[:111]"
   ]
  },
  {
   "cell_type": "code",
   "execution_count": 30,
   "metadata": {},
   "outputs": [
    {
     "name": "stdout",
     "output_type": "stream",
     "text": [
      "Список первых 111 самых важных признаков ['PropertyField37', 'SalesField5', 'PersonalField2', 'PersonalField9', 'PropertyField29', 'PersonalField1', 'GeographicField8A', 'PersonalField82', 'PropertyField34', 'SalesField1B', 'SalesField1A', 'PersonalField13', 'CoverageField8', 'PersonalField26', 'PersonalField27', 'SalesField4', 'PropertyField35', 'PersonalField11', 'PersonalField84', 'SalesField10', 'PersonalField12', 'SalesField3', 'PersonalField10B', 'PersonalField28', 'GeographicField21B', 'PersonalField45', 'Field7', 'CoverageField6A', 'GeographicField14B', 'PropertyField3', 'GeographicField9A', 'SalesField9', 'SalesField6', 'GeographicField19B', 'GeographicField5B', 'SalesField2B', 'GeographicField11B', 'GeographicField21A', 'PropertyField33', 'PersonalField76', 'GeographicField8B', 'Field12', 'PersonalField24', 'PersonalField75', 'PersonalField57', 'PropertyField32', 'GeographicField6B', 'PropertyField1B', 'GeographicField13B', 'PropertyField39B', 'PersonalField79', 'SalesField7', 'PropertyField8', 'GeographicField23B', 'Field6', 'GeographicField19A', 'PersonalField10A', 'PropertyField38', 'GeographicField38B', 'PropertyField4', 'CoverageField1B', 'GeographicField13A', 'GeographicField24B', 'CoverageField11B', 'SalesField13', 'SalesField12', 'GeographicField53B', 'PropertyField21B', 'GeographicField11A', 'PropertyField1A', 'Field9', 'PersonalField25', 'PropertyField31', 'GeographicField1B', 'PersonalField5', 'PersonalField59', 'Field8', 'PropertyField18', 'CoverageField11A', 'GeographicField43A', 'GeographicField62B', 'GeographicField46B', 'GeographicField30A', 'GeographicField28B', 'GeographicField2A', 'PropertyField12', 'CoverageField1A', 'GeographicField41B', 'GeographicField40A', 'GeographicField26A', 'PropertyField39A', 'PropertyField24B', 'SalesField2A', 'GeographicField17B', 'GeographicField32B', 'GeographicField51A', 'GeographicField25B', 'GeographicField52B', 'CoverageField2B', 'PropertyField16B', 'PersonalField15', 'SalesField15', 'PropertyField16A', 'GeographicField30B', 'PersonalField22', 'GeographicField44B', 'PersonalField4B', 'CoverageField4A', 'CoverageField5A', 'GeographicField12B', 'GeographicField45A']\n"
     ]
    }
   ],
   "source": [
    "print('Список первых 111 самых важных признаков',list_best)"
   ]
  },
  {
   "cell_type": "markdown",
   "metadata": {},
   "source": [
    "Здесь стоит обратить внимание на параметр 'gain' в важности признака, это информациионный параметр, который применяется в классификации, в регрессии учитывается 'weight'."
   ]
  },
  {
   "cell_type": "markdown",
   "metadata": {},
   "source": [
    "Теперь посмотрим, что получится выделить с помощью авторской оригинальной программы."
   ]
  },
  {
   "cell_type": "code",
   "execution_count": 34,
   "metadata": {},
   "outputs": [],
   "source": [
    "# используя уже обученную модель сохраняем важнейшие признаки в excel файл на диске\n",
    "xgbfir.saveXgbFI(clf, feature_names=np.array(list(X.columns)), OutputXlsxFile='housingFI.xlsx')"
   ]
  },
  {
   "cell_type": "code",
   "execution_count": 35,
   "metadata": {},
   "outputs": [
    {
     "data": {
      "text/html": [
       "<div>\n",
       "<style scoped>\n",
       "    .dataframe tbody tr th:only-of-type {\n",
       "        vertical-align: middle;\n",
       "    }\n",
       "\n",
       "    .dataframe tbody tr th {\n",
       "        vertical-align: top;\n",
       "    }\n",
       "\n",
       "    .dataframe thead th {\n",
       "        text-align: right;\n",
       "    }\n",
       "</style>\n",
       "<table border=\"1\" class=\"dataframe\">\n",
       "  <thead>\n",
       "    <tr style=\"text-align: right;\">\n",
       "      <th></th>\n",
       "      <th>Interaction</th>\n",
       "      <th>Gain</th>\n",
       "      <th>FScore</th>\n",
       "      <th>wFScore</th>\n",
       "      <th>Average wFScore</th>\n",
       "      <th>Average Gain</th>\n",
       "      <th>Expected Gain</th>\n",
       "      <th>Gain Rank</th>\n",
       "      <th>FScore Rank</th>\n",
       "      <th>wFScore Rank</th>\n",
       "      <th>Avg wFScore Rank</th>\n",
       "      <th>Avg Gain Rank</th>\n",
       "      <th>Expected Gain Rank</th>\n",
       "      <th>Average Rank</th>\n",
       "      <th>Average Tree Index</th>\n",
       "      <th>Average Tree Depth</th>\n",
       "    </tr>\n",
       "  </thead>\n",
       "  <tbody>\n",
       "    <tr>\n",
       "      <th>0</th>\n",
       "      <td>PropertyField37</td>\n",
       "      <td>33011.889971</td>\n",
       "      <td>32</td>\n",
       "      <td>18.246878</td>\n",
       "      <td>0.570215</td>\n",
       "      <td>1031.621562</td>\n",
       "      <td>12657.462360</td>\n",
       "      <td>1</td>\n",
       "      <td>30</td>\n",
       "      <td>4</td>\n",
       "      <td>2</td>\n",
       "      <td>1</td>\n",
       "      <td>2</td>\n",
       "      <td>6.666667</td>\n",
       "      <td>17.500000</td>\n",
       "      <td>2.500000</td>\n",
       "    </tr>\n",
       "    <tr>\n",
       "      <th>1</th>\n",
       "      <td>SalesField5</td>\n",
       "      <td>26603.265052</td>\n",
       "      <td>64</td>\n",
       "      <td>16.022700</td>\n",
       "      <td>0.250355</td>\n",
       "      <td>415.676016</td>\n",
       "      <td>26040.697781</td>\n",
       "      <td>2</td>\n",
       "      <td>4</td>\n",
       "      <td>5</td>\n",
       "      <td>15</td>\n",
       "      <td>2</td>\n",
       "      <td>1</td>\n",
       "      <td>4.833333</td>\n",
       "      <td>35.734375</td>\n",
       "      <td>3.062500</td>\n",
       "    </tr>\n",
       "    <tr>\n",
       "      <th>2</th>\n",
       "      <td>PersonalField9</td>\n",
       "      <td>17597.970709</td>\n",
       "      <td>83</td>\n",
       "      <td>34.606145</td>\n",
       "      <td>0.416942</td>\n",
       "      <td>212.023743</td>\n",
       "      <td>8603.239747</td>\n",
       "      <td>3</td>\n",
       "      <td>2</td>\n",
       "      <td>1</td>\n",
       "      <td>5</td>\n",
       "      <td>4</td>\n",
       "      <td>3</td>\n",
       "      <td>3.000000</td>\n",
       "      <td>19.843373</td>\n",
       "      <td>2.746988</td>\n",
       "    </tr>\n",
       "    <tr>\n",
       "      <th>3</th>\n",
       "      <td>PropertyField29</td>\n",
       "      <td>8878.179081</td>\n",
       "      <td>51</td>\n",
       "      <td>22.288530</td>\n",
       "      <td>0.437030</td>\n",
       "      <td>174.081943</td>\n",
       "      <td>5487.555948</td>\n",
       "      <td>4</td>\n",
       "      <td>8</td>\n",
       "      <td>3</td>\n",
       "      <td>4</td>\n",
       "      <td>5</td>\n",
       "      <td>4</td>\n",
       "      <td>4.666667</td>\n",
       "      <td>9.000000</td>\n",
       "      <td>1.764706</td>\n",
       "    </tr>\n",
       "    <tr>\n",
       "      <th>4</th>\n",
       "      <td>PersonalField2</td>\n",
       "      <td>5765.212870</td>\n",
       "      <td>15</td>\n",
       "      <td>5.115948</td>\n",
       "      <td>0.341063</td>\n",
       "      <td>384.347525</td>\n",
       "      <td>1270.362493</td>\n",
       "      <td>5</td>\n",
       "      <td>92</td>\n",
       "      <td>27</td>\n",
       "      <td>7</td>\n",
       "      <td>3</td>\n",
       "      <td>7</td>\n",
       "      <td>23.500000</td>\n",
       "      <td>27.400000</td>\n",
       "      <td>3.466667</td>\n",
       "    </tr>\n",
       "  </tbody>\n",
       "</table>\n",
       "</div>"
      ],
      "text/plain": [
       "       Interaction          Gain  FScore    wFScore  Average wFScore  \\\n",
       "0  PropertyField37  33011.889971      32  18.246878         0.570215   \n",
       "1      SalesField5  26603.265052      64  16.022700         0.250355   \n",
       "2   PersonalField9  17597.970709      83  34.606145         0.416942   \n",
       "3  PropertyField29   8878.179081      51  22.288530         0.437030   \n",
       "4   PersonalField2   5765.212870      15   5.115948         0.341063   \n",
       "\n",
       "   Average Gain  Expected Gain  Gain Rank  FScore Rank  wFScore Rank  \\\n",
       "0   1031.621562   12657.462360          1           30             4   \n",
       "1    415.676016   26040.697781          2            4             5   \n",
       "2    212.023743    8603.239747          3            2             1   \n",
       "3    174.081943    5487.555948          4            8             3   \n",
       "4    384.347525    1270.362493          5           92            27   \n",
       "\n",
       "   Avg wFScore Rank  Avg Gain Rank  Expected Gain Rank  Average Rank  \\\n",
       "0                 2              1                   2      6.666667   \n",
       "1                15              2                   1      4.833333   \n",
       "2                 5              4                   3      3.000000   \n",
       "3                 4              5                   4      4.666667   \n",
       "4                 7              3                   7     23.500000   \n",
       "\n",
       "   Average Tree Index  Average Tree Depth  \n",
       "0           17.500000            2.500000  \n",
       "1           35.734375            3.062500  \n",
       "2           19.843373            2.746988  \n",
       "3            9.000000            1.764706  \n",
       "4           27.400000            3.466667  "
      ]
     },
     "execution_count": 35,
     "metadata": {},
     "output_type": "execute_result"
    }
   ],
   "source": [
    "data=pd.read_excel('housingFI.xlsx')\n",
    "data.head()"
   ]
  },
  {
   "cell_type": "markdown",
   "metadata": {},
   "source": [
    "Проверяю совпадение признаков в двух списках:"
   ]
  },
  {
   "cell_type": "code",
   "execution_count": 36,
   "metadata": {},
   "outputs": [
    {
     "data": {
      "text/plain": [
       "56"
      ]
     },
     "execution_count": 36,
     "metadata": {},
     "output_type": "execute_result"
    }
   ],
   "source": [
    "top111fir=list(data.Interaction)\n",
    "sum([x in top111fir for x in list_best])"
   ]
  },
  {
   "cell_type": "markdown",
   "metadata": {},
   "source": [
    "Видно, что не все совпало, очевидно, что автор использует другие подходы."
   ]
  },
  {
   "cell_type": "markdown",
   "metadata": {},
   "source": [
    "Таким же образом выделяю 73 самых слабых признака:\n",
    "    "
   ]
  },
  {
   "cell_type": "code",
   "execution_count": 37,
   "metadata": {},
   "outputs": [
    {
     "name": "stdout",
     "output_type": "stream",
     "text": [
      "Список последних 73 по важности признаков ['PropertyField37', 'SalesField5', 'PersonalField2', 'PersonalField9', 'PropertyField29', 'PersonalField1', 'GeographicField8A', 'PersonalField82', 'PropertyField34', 'SalesField1B', 'SalesField1A', 'PersonalField13', 'CoverageField8', 'PersonalField26', 'PersonalField27', 'SalesField4', 'PropertyField35', 'PersonalField11', 'PersonalField84', 'SalesField10', 'PersonalField12', 'SalesField3', 'PersonalField10B', 'PersonalField28', 'GeographicField21B', 'PersonalField45', 'Field7', 'CoverageField6A', 'GeographicField14B', 'PropertyField3', 'GeographicField9A', 'SalesField9', 'SalesField6', 'GeographicField19B', 'GeographicField5B', 'SalesField2B', 'GeographicField11B', 'GeographicField21A', 'PropertyField33', 'PersonalField76', 'GeographicField8B', 'Field12', 'PersonalField24', 'PersonalField75', 'PersonalField57', 'PropertyField32', 'GeographicField6B', 'PropertyField1B', 'GeographicField13B', 'PropertyField39B', 'PersonalField79', 'SalesField7', 'PropertyField8', 'GeographicField23B', 'Field6', 'GeographicField19A', 'PersonalField10A', 'PropertyField38', 'GeographicField38B', 'PropertyField4', 'CoverageField1B', 'GeographicField13A', 'GeographicField24B', 'CoverageField11B', 'SalesField13', 'SalesField12', 'GeographicField53B', 'PropertyField21B', 'GeographicField11A', 'PropertyField1A', 'Field9', 'PersonalField25', 'PropertyField31', 'GeographicField1B', 'PersonalField5', 'PersonalField59', 'Field8', 'PropertyField18', 'CoverageField11A', 'GeographicField43A', 'GeographicField62B', 'GeographicField46B', 'GeographicField30A', 'GeographicField28B', 'GeographicField2A', 'PropertyField12', 'CoverageField1A', 'GeographicField41B', 'GeographicField40A', 'GeographicField26A', 'PropertyField39A', 'PropertyField24B', 'SalesField2A', 'GeographicField17B', 'GeographicField32B', 'GeographicField51A', 'GeographicField25B', 'GeographicField52B', 'CoverageField2B', 'PropertyField16B', 'PersonalField15', 'SalesField15', 'PropertyField16A', 'GeographicField30B', 'PersonalField22', 'GeographicField44B', 'PersonalField4B', 'CoverageField4A', 'CoverageField5A', 'GeographicField12B', 'GeographicField45A', 'GeographicField27A', 'PersonalField19', 'GeographicField25A', 'PropertyField24A', 'GeographicField32A', 'GeographicField1A', 'GeographicField29B', 'GeographicField2B', 'GeographicField47B', 'GeographicField51B', 'GeographicField61B', 'PropertyField28', 'GeographicField59B', 'GeographicField35A', 'CoverageField3A', 'PropertyField30', 'PropertyField23', 'GeographicField33B', 'GeographicField16A', 'PersonalField4A', 'GeographicField35B', 'GeographicField36B', 'GeographicField57B', 'GeographicField27B', 'PersonalField16', 'PersonalField18', 'GeographicField26B', 'Year', 'GeographicField61A', 'GeographicField54B', 'GeographicField50A', 'GeographicField29A', 'GeographicField56B', 'GeographicField49B', 'GeographicField18B', 'GeographicField20B', 'GeographicField48A', 'PropertyField22', 'GeographicField38A', 'GeographicField3A', 'GeographicField55B', 'GeographicField57A', 'GeographicField9B', 'GeographicField53A', 'Weekday', 'SalesField8', 'GeographicField39B', 'GeographicField55A', 'GeographicField4B', 'PersonalField31', 'PersonalField17', 'GeographicField28A', 'GeographicField54A', 'GeographicField3B', 'GeographicField40B', 'GeographicField50B', 'PersonalField81']\n"
     ]
    }
   ],
   "source": [
    "list_dropout=list(sc_sorted)[:-73]\n",
    "print('Список последних 73 по важности признаков',list_dropout)"
   ]
  },
  {
   "cell_type": "markdown",
   "metadata": {},
   "source": [
    "## Конструирование новых признаков"
   ]
  },
  {
   "cell_type": "markdown",
   "metadata": {},
   "source": [
    "Участники соревнования использовали разные подходы для конструирования признаков:\n",
    "    1. Добавляли log(x), sqrt(x), 1/x (где х был в топе важных признаков)\n",
    "    2. Добавляли x+y, x-y, x*y, x/y (где х и у были в топе важных признаков или сильно коррелировали между собой)\n",
    "    3. Делали более сложные комбинации: x+((1/w)*(y-z))) ."
   ]
  },
  {
   "cell_type": "markdown",
   "metadata": {},
   "source": [
    "В целом задача состояла в том, чтобы уловить взаимное влияние признаков в их комбинации, а так как данных было очень много, то это можно было достич либо с помощю случайного перебора, либо бустинга признаков."
   ]
  },
  {
   "cell_type": "markdown",
   "metadata": {},
   "source": [
    "Автор же уделил внимание только в основном вычитанию комбинации признаков в так назывемом k-way взаимодействии (interraction)."
   ]
  },
  {
   "cell_type": "markdown",
   "metadata": {},
   "source": [
    "Вот что он пишет: основание этому в том, что древовидная модель не фиксирует такого рода взаимодействия"
   ]
  },
  {
   "cell_type": "code",
   "execution_count": 38,
   "metadata": {},
   "outputs": [
    {
     "data": {
      "image/png": "[encoded data removed]",
      "text/plain": [
       "<PIL.PngImagePlugin.PngImageFile image mode=RGBA size=646x353 at 0x208EC98FF88>"
      ]
     },
     "metadata": {},
     "output_type": "display_data"
    }
   ],
   "source": [
    "\n",
    "\n",
    "im=Image.open('pic1.PNG')\n",
    "display(im)"
   ]
  },
  {
   "cell_type": "markdown",
   "metadata": {},
   "source": [
    "Опять таки, делал он это все бутстрапом признаков используя свою библиотеку, возможности которой в этом плане пока не доступны. По-этому попробую реализовать принцип самостоятельно."
   ]
  },
  {
   "cell_type": "markdown",
   "metadata": {},
   "source": [
    "Но сначала опять хочу обратить внимание на параметр 'gain', который в xgb.feature_importance_ по умолчанию не доступен (там возвращается 'weight')"
   ]
  },
  {
   "cell_type": "markdown",
   "metadata": {},
   "source": [
    "Поэтому используем несколько приемов, чтобы вытянуть его. Сначала опять обучим модель:"
   ]
  },
  {
   "cell_type": "code",
   "execution_count": 40,
   "metadata": {},
   "outputs": [
    {
     "data": {
      "text/plain": [
       "XGBClassifier(base_score=0.5, booster=None, colsample_bylevel=1,\n",
       "              colsample_bynode=1, colsample_bytree=1, gamma=0, gpu_id=-1,\n",
       "              importance_type='gain', interaction_constraints=None,\n",
       "              learning_rate=0.300000012, max_delta_step=0, max_depth=6,\n",
       "              min_child_weight=1, missing=nan, monotone_constraints=None,\n",
       "              n_estimators=100, n_jobs=0, num_parallel_tree=1, random_state=0,\n",
       "              reg_alpha=0, reg_lambda=1, scale_pos_weight=1, subsample=1,\n",
       "              tree_method=None, validate_parameters=False, verbosity=None,\n",
       "              xgb_params={'colsample_bytree': 0.8, 'eta': 0.0275,\n",
       "                          'eval_metric': 'auc', 'max_depth': 5, 'nthread': 22,\n",
       "                          'num_parallel_tree': 7,\n",
       "                          'objective': 'binary:logitraw', 'seed': 0,\n",
       "                          'silent': 1, 'subsample': 0.85})"
      ]
     },
     "execution_count": 40,
     "metadata": {},
     "output_type": "execute_result"
    }
   ],
   "source": [
    "X=train.iloc[:10000,:]\n",
    "Y=y_train[:10000]\n",
    "clf=xgb.XGBClassifier(xgb_params=xgb_params)\n",
    "clf.fit(X, Y)"
   ]
  },
  {
   "cell_type": "code",
   "execution_count": 42,
   "metadata": {},
   "outputs": [
    {
     "data": {
      "text/html": [
       "<div>\n",
       "<style scoped>\n",
       "    .dataframe tbody tr th:only-of-type {\n",
       "        vertical-align: middle;\n",
       "    }\n",
       "\n",
       "    .dataframe tbody tr th {\n",
       "        vertical-align: top;\n",
       "    }\n",
       "\n",
       "    .dataframe thead th {\n",
       "        text-align: right;\n",
       "    }\n",
       "</style>\n",
       "<table border=\"1\" class=\"dataframe\">\n",
       "  <thead>\n",
       "    <tr style=\"text-align: right;\">\n",
       "      <th></th>\n",
       "      <th>fscore</th>\n",
       "      <th>feature_importance_gain</th>\n",
       "    </tr>\n",
       "    <tr>\n",
       "      <th>Feature</th>\n",
       "      <th></th>\n",
       "      <th></th>\n",
       "    </tr>\n",
       "  </thead>\n",
       "  <tbody>\n",
       "    <tr>\n",
       "      <th>CoverageField11A</th>\n",
       "      <td>23</td>\n",
       "      <td>4.375525</td>\n",
       "    </tr>\n",
       "    <tr>\n",
       "      <th>CoverageField11B</th>\n",
       "      <td>24</td>\n",
       "      <td>4.092871</td>\n",
       "    </tr>\n",
       "    <tr>\n",
       "      <th>CoverageField1A</th>\n",
       "      <td>7</td>\n",
       "      <td>1.422412</td>\n",
       "    </tr>\n",
       "    <tr>\n",
       "      <th>CoverageField1B</th>\n",
       "      <td>1</td>\n",
       "      <td>5.231568</td>\n",
       "    </tr>\n",
       "    <tr>\n",
       "      <th>CoverageField2A</th>\n",
       "      <td>7</td>\n",
       "      <td>2.666376</td>\n",
       "    </tr>\n",
       "    <tr>\n",
       "      <th>...</th>\n",
       "      <td>...</td>\n",
       "      <td>...</td>\n",
       "    </tr>\n",
       "    <tr>\n",
       "      <th>SalesField7</th>\n",
       "      <td>19</td>\n",
       "      <td>1.977527</td>\n",
       "    </tr>\n",
       "    <tr>\n",
       "      <th>SalesField8</th>\n",
       "      <td>65</td>\n",
       "      <td>1.915175</td>\n",
       "    </tr>\n",
       "    <tr>\n",
       "      <th>SalesField9</th>\n",
       "      <td>1</td>\n",
       "      <td>0.809745</td>\n",
       "    </tr>\n",
       "    <tr>\n",
       "      <th>Weekday</th>\n",
       "      <td>19</td>\n",
       "      <td>2.341913</td>\n",
       "    </tr>\n",
       "    <tr>\n",
       "      <th>Year</th>\n",
       "      <td>7</td>\n",
       "      <td>3.261549</td>\n",
       "    </tr>\n",
       "  </tbody>\n",
       "</table>\n",
       "<p>215 rows × 2 columns</p>\n",
       "</div>"
      ],
      "text/plain": [
       "                  fscore  feature_importance_gain\n",
       "Feature                                          \n",
       "CoverageField11A      23                 4.375525\n",
       "CoverageField11B      24                 4.092871\n",
       "CoverageField1A        7                 1.422412\n",
       "CoverageField1B        1                 5.231568\n",
       "CoverageField2A        7                 2.666376\n",
       "...                  ...                      ...\n",
       "SalesField7           19                 1.977527\n",
       "SalesField8           65                 1.915175\n",
       "SalesField9            1                 0.809745\n",
       "Weekday               19                 2.341913\n",
       "Year                   7                 3.261549\n",
       "\n",
       "[215 rows x 2 columns]"
      ]
     },
     "execution_count": 42,
     "metadata": {},
     "output_type": "execute_result"
    }
   ],
   "source": [
    "k = clf.get_booster().trees_to_dataframe()\n",
    "group = k[k['Feature']!='Leaf'].groupby('Feature').agg(fscore = ('Gain', 'count'),\n",
    "                                                       feature_importance_gain = ('Gain', 'mean'))\n",
    "group"
   ]
  },
  {
   "cell_type": "markdown",
   "metadata": {},
   "source": [
    "И отсюда уже можно получить значения  'gain'."
   ]
  },
  {
   "cell_type": "code",
   "execution_count": 43,
   "metadata": {},
   "outputs": [
    {
     "data": {
      "text/plain": [
       "(10000, 301)"
      ]
     },
     "execution_count": 43,
     "metadata": {},
     "output_type": "execute_result"
    }
   ],
   "source": [
    "X.shape"
   ]
  },
  {
   "cell_type": "markdown",
   "metadata": {},
   "source": [
    "Единственно, что важно, признаки, значение которых равно нулю в этой табличке не отражаются, поэтому их и меньше чем изначальном датасете. Чтобы показать их, нужно выполнить следующие действие:"
   ]
  },
  {
   "cell_type": "code",
   "execution_count": 44,
   "metadata": {},
   "outputs": [
    {
     "data": {
      "text/plain": [
       "Index(['CoverageField5B', 'CoverageField6B', 'SalesField14', 'PersonalField6',\n",
       "       'PersonalField7', 'PersonalField8', 'PersonalField23',\n",
       "       'PersonalField24', 'PersonalField25', 'PersonalField30',\n",
       "       'PersonalField32', 'PersonalField33', 'PersonalField34',\n",
       "       'PersonalField35', 'PersonalField36', 'PersonalField37',\n",
       "       'PersonalField38', 'PersonalField39', 'PersonalField40',\n",
       "       'PersonalField41', 'PersonalField42', 'PersonalField43',\n",
       "       'PersonalField45', 'PersonalField48', 'PersonalField49',\n",
       "       'PersonalField50', 'PersonalField51', 'PersonalField52',\n",
       "       'PersonalField53', 'PersonalField54', 'PersonalField55',\n",
       "       'PersonalField56', 'PersonalField57', 'PersonalField58',\n",
       "       'PersonalField59', 'PersonalField60', 'PersonalField61',\n",
       "       'PersonalField62', 'PersonalField63', 'PersonalField64',\n",
       "       'PersonalField65', 'PersonalField66', 'PersonalField67',\n",
       "       'PersonalField68', 'PersonalField69', 'PersonalField70',\n",
       "       'PersonalField71', 'PersonalField72', 'PersonalField73',\n",
       "       'PersonalField74', 'PersonalField75', 'PersonalField76',\n",
       "       'PersonalField77', 'PersonalField78', 'PersonalField79',\n",
       "       'PersonalField80', 'PersonalField81', 'PersonalField83',\n",
       "       'PropertyField2A', 'PropertyField5', 'PropertyField6', 'PropertyField9',\n",
       "       'PropertyField11A', 'PropertyField20', 'PropertyField22',\n",
       "       'PropertyField30', 'PropertyField38', 'GeographicField5A',\n",
       "       'GeographicField6A', 'GeographicField8A', 'GeographicField10A',\n",
       "       'GeographicField10B', 'GeographicField12A', 'GeographicField14A',\n",
       "       'GeographicField18A', 'GeographicField21A', 'GeographicField22A',\n",
       "       'GeographicField23A', 'GeographicField41A', 'GeographicField56A',\n",
       "       'GeographicField60A', 'GeographicField61A', 'GeographicField62A',\n",
       "       'GeographicField63', 'GeographicField64',\n",
       "       'GeographicField10AraphicField63'],\n",
       "      dtype='object')"
      ]
     },
     "execution_count": 44,
     "metadata": {},
     "output_type": "execute_result"
    }
   ],
   "source": [
    "X.columns[[ x not in k['Feature'].unique() for x in X.columns]]"
   ]
  },
  {
   "cell_type": "markdown",
   "metadata": {},
   "source": [
    "Далее, пишу программу бустинга признаков для 2-way взаимодействия:"
   ]
  },
  {
   "cell_type": "code",
   "execution_count": 45,
   "metadata": {},
   "outputs": [],
   "source": [
    "# it - количество итераций\n",
    "# size - количество пар-признаков образующих новый признак,\n",
    "# рандомно выбираемых из списка пар признаков\n",
    "# xtrain,ytrain - загружаемые данные\n",
    "def interactions(xtrain,ytrain,it,size):\n",
    "    # составляю список пар признаков\n",
    "    lst2way=list(combinations(xtrain.columns, 2))\n",
    "    df=pd.DataFrame()\n",
    "    # создаю словарь, который буду заполнять значениями - пара признаков: их значимость\n",
    "    fdict={}\n",
    "    for i in range(it):\n",
    "        # генерирую случайным образом индексы из списка пар признаков\n",
    "        var=np.random.randint(0,len(lst2way),size=size)\n",
    "        for ix in var:\n",
    "            # значение нового признака будет равно разности двух выбранных\n",
    "            series = xtrain[lst2way[ix][0]]-xtrain[lst2way[ix][1]]\n",
    "            # генерирую имя для этого признака и добавляю его в датасет\n",
    "            name=lst2way[ix][0]+' '+lst2way[ix][1]\n",
    "            df[name]=series\n",
    "        # тренирую классификатор на полученном датасете\n",
    "        clf=xgb.XGBClassifier()\n",
    "        data1 = df\n",
    "        data2 = ytrain\n",
    "        clf.fit(data1, data2)\n",
    "        # извлекаю важность признака\n",
    "        k = clf.get_booster().trees_to_dataframe()\n",
    "        group = k[k['Feature']!='Leaf'].groupby('Feature').agg(fscore = ('Gain', 'count'),\n",
    "                                                       feature_importance_gain = ('Gain', 'mean'))\n",
    "        col_pairs=list(group.index)\n",
    "        impotances=list(group.feature_importance_gain)\n",
    "        # добавляю признак и его важность в словарь\n",
    "        for n, x in zip(impotances, col_pairs):\n",
    "            x=tuple(x.split())\n",
    "            # если признак уже есть в словаре, добавляю счетчик, \n",
    "            # чтобы потом посчитать его среднее значение\n",
    "            if x in fdict:\n",
    "                fdict[x]=(n+fdict.get(x)[0],\n",
    "                                             fdict.get(x)[1]+1)\n",
    "            else:   \n",
    "                fdict[x]=(n,1)\n",
    "    # считаю средние значения пар признаков\n",
    "    for k in fdict.keys():\n",
    "        fdict[k]=fdict.get(k)[0]/(fdict.get(k)[1])\n",
    "    # сортирую признаки\n",
    "    fdict_sorted={k: v for k, v in sorted(fdict.items(), \n",
    "                    key=lambda item: item[1], reverse=True)}\n",
    "    # вывожу 28 пар самых значимых\n",
    "    list2way=list(fdict_sorted)[:28]\n",
    "    return list2way"
   ]
  },
  {
   "cell_type": "code",
   "execution_count": 46,
   "metadata": {},
   "outputs": [],
   "source": [
    "X=train.iloc[:10000,:]\n",
    "Y=y_train[:10000]\n",
    "res=interactions(X,Y,10,40)"
   ]
  },
  {
   "cell_type": "code",
   "execution_count": 48,
   "metadata": {},
   "outputs": [
    {
     "name": "stdout",
     "output_type": "stream",
     "text": [
      "28 пар значимых признаков:  [('PersonalField1', 'PersonalField66'), ('GeographicField12A', 'GeographicField64'), ('SalesField5', 'PropertyField5'), ('PersonalField24', 'GeographicField12A'), ('PersonalField10A', 'PersonalField57'), ('PropertyField29', 'GeographicField22B'), ('PersonalField2', 'PropertyField36'), ('SalesField1A', 'PropertyField36'), ('SalesField1A', 'PropertyField28'), ('PersonalField67', 'PersonalField82'), ('PersonalField44', 'PropertyField36'), ('PersonalField27', 'GeographicField6A'), ('PropertyField34', 'GeographicField22A'), ('PersonalField1', 'PersonalField42'), ('PersonalField22', 'PropertyField36'), ('PersonalField29', 'PropertyField29'), ('CoverageField11A', 'PropertyField30'), ('PersonalField23', 'PersonalField81'), ('PersonalField10A', 'PropertyField11B'), ('PersonalField65', 'PersonalField81'), ('SalesField1A', 'PropertyField1B'), ('SalesField2A', 'GeographicField37A'), ('PersonalField1', 'PersonalField60'), ('PersonalField9', 'PropertyField36'), ('PersonalField29', 'PersonalField61'), ('PersonalField4A', 'PropertyField32'), ('Field7', 'PersonalField55'), ('PersonalField25', 'PersonalField82')]\n"
     ]
    }
   ],
   "source": [
    "print('28 пар значимых признаков: ',res)"
   ]
  },
  {
   "cell_type": "markdown",
   "metadata": {},
   "source": [
    "Таким же образом, немного модифицировав программу, можно посчитать комбинации признаков для 3-way и 4-way взаимодействия.\n",
    "Здесь я этот шаг опущу и вернусь обратно к работе автора."
   ]
  },
  {
   "cell_type": "markdown",
   "metadata": {},
   "source": [
    "# Работа с признаками 2"
   ]
  },
  {
   "cell_type": "markdown",
   "metadata": {},
   "source": [
    "Итак, выделим списки признаков, найденные автором и параметры модели:"
   ]
  },
  {
   "cell_type": "code",
   "execution_count": 50,
   "metadata": {},
   "outputs": [],
   "source": [
    "xgb_params = {\n",
    "    'seed': 0,\n",
    "    'colsample_bytree': 0.8,\n",
    "    'silent': 1,\n",
    "    'subsample': .85,\n",
    "    'eta': 0.0275,\n",
    "    'objective': 'binary:logitraw',\n",
    "    'num_parallel_tree': 7,\n",
    "    'max_depth': 5,\n",
    "    'nthread': 22,\n",
    "    'eval_metric': 'auc',\n",
    "}\n",
    "\n",
    "top111 = ['Field12', 'PersonalField52', 'PersonalField80', 'PersonalField44', 'Field9',\n",
    "          'PropertyField7', 'PropertyField12', 'CoverageField5B', 'PersonalField42', 'PersonalField45',\n",
    "          'PersonalField81', 'PropertyField8', 'PersonalField79', 'GeographicField45B', 'PropertyField22',\n",
    "          'PersonalField75', 'PersonalField31', 'PropertyField19', 'PropertyField31', 'GeographicField11A',\n",
    "          'PersonalField23', 'GeographicField21B', 'PersonalField4A', 'Field10', 'GeographicField16B',\n",
    "          'GeographicField20A', 'PersonalField25', 'PersonalField4B', 'PropertyField3', 'GeographicField17A',\n",
    "          'GeographicField59B', 'GeographicField7B', 'GeographicField8A', 'Year', 'GeographicField6B',\n",
    "          'PersonalField14',\n",
    "          'GeographicField45A', 'GeographicField14B', 'SalesField12', 'CoverageField11A', 'CoverageField5A', 'Month',\n",
    "          'PropertyField33', 'PersonalField5', 'CoverageField11B', 'GeographicField11B', 'GeographicField23B',\n",
    "          'PropertyField39B', 'CoverageField3A', 'GeographicField1B', 'GeographicField17B', 'PropertyField39A',\n",
    "          'GeographicField41B', 'CoverageField6A', 'SalesField9', 'PersonalField16', 'PersonalField26',\n",
    "          'PropertyField24A', 'Field8', 'GeographicField28A', 'CoverageField3B', 'SalesField2A', 'GeographicField19B',\n",
    "          'GeographicField43A', 'PropertyField16B', 'PropertyField16A', 'PropertyField1B', 'CoverageField1B',\n",
    "          'PropertyField1A', 'GeographicField48B', 'PersonalField11', 'CoverageField1A', 'PersonalField15',\n",
    "          'GeographicField5B', 'PropertyField34', 'CoverageField8', 'PersonalField82', 'SalesField2B',\n",
    "          'PropertyField35', 'CoverageField2B', 'SalesField10', 'PropertyField21A', 'SalesField3', 'CoverageField9',\n",
    "          'SalesField7', 'Weekday', 'PersonalField13', 'PropertyField21B', 'SalesField6', 'SalesField1A',\n",
    "          'PersonalField9', 'SalesField4', 'PersonalField12', 'PersonalField27', 'PersonalField10B', 'Field7',\n",
    "          'SalesField1B', 'PersonalField84', 'PersonalField2', 'PersonalField1', 'SalesField5', 'PersonalField10A',\n",
    "          'PropertyField37', 'PropertyField29', 'GeographicField4B', 'PropertyField2B', 'GeographicField1A',\n",
    "          'GeographicField61B', 'Field11', 'PersonalField76', 'PropertyField30']\n",
    "\n",
    "drop_out = ['GeographicField19B', 'PropertyField7', 'GeographicField17A', 'GeographicField28A',\n",
    "            'GeographicField21B', 'GeographicField7B', 'CoverageField11B', 'GeographicField6B', 'GeographicField45A',\n",
    "            'PersonalField25', 'Month', 'CoverageField5A', 'GeographicField8A', 'GeographicField1B',\n",
    "            'CoverageField6A_CoverageField6B', 'PersonalField23', 'Field11', 'PropertyField2B', 'SalesField12',\n",
    "            'GeographicField41B',\n",
    "            'PropertyField16A', 'Field10', 'PropertyField3', 'PropertyField16B', 'GeographicField1A',\n",
    "            'GeographicField20A', 'PersonalField81', 'GeographicField16B', 'GeographicField59B', 'PersonalField79',\n",
    "            'CoverageField1A_CoverageField3A', 'CoverageField3B_CoverageField4B', 'PropertyField22',\n",
    "            'GeographicField61B',\n",
    "            'CoverageField3A_PropertyField21A', 'PropertyField12', 'CoverageField2A_CoverageField3A',\n",
    "            'CoverageField2B_CoverageField3B', 'PropertyField8', 'PropertyField30', 'GeographicField14B',\n",
    "            'PersonalField31',\n",
    "            'PropertyField21A', 'CoverageField3A_CoverageField4A', 'PropertyField31', 'CoverageField11A',\n",
    "            'PropertyField19', 'GeographicField45B', 'CoverageField1A', 'PersonalField75',\n",
    "            'GeographicField8A_GeographicField13A', 'CoverageField3B_PropertyField21B',\n",
    "            'CoverageField1B_CoverageField3B', 'GeographicField6A_GeographicField13A', 'CoverageField5B',\n",
    "            'PersonalField42', 'PersonalField45', 'PersonalField76', 'GeographicField6A_GeographicField8A',\n",
    "            'PersonalField80', 'Field9', 'CoverageField3A', 'CoverageField3B',\n",
    "            'GeographicField8A_GeographicField11A', 'GeographicField11A_GeographicField13A',\n",
    "            'GeographicField4B',\n",
    "            'CoverageField2B', 'Field12', 'PropertyField21B', 'CoverageField1B', 'PersonalField44',\n",
    "            'GeographicField6A_GeographicField11A', 'PersonalField52']\n",
    "\n",
    "interactions2way = [\n",
    "    (\"CoverageField1B\", \"PropertyField21B\"),\n",
    "    (\"GeographicField6A\", \"GeographicField8A\"),\n",
    "    (\"GeographicField6A\", \"GeographicField13A\"),\n",
    "    (\"GeographicField8A\", \"GeographicField13A\"),\n",
    "    (\"GeographicField11A\", \"GeographicField13A\"),\n",
    "    (\"GeographicField8A\", \"GeographicField11A\"),\n",
    "    (\"GeographicField6A\", \"GeographicField11A\"),\n",
    "    (\"CoverageField6A\", \"CoverageField6B\"),\n",
    "    (\"CoverageField3A\", \"CoverageField4A\"),\n",
    "    (\"CoverageField2B\", \"CoverageField3B\"),\n",
    "    (\"CoverageField1A\", \"CoverageField3A\"),\n",
    "    (\"CoverageField3B\", \"CoverageField4B\"),\n",
    "    (\"CoverageField2A\", \"CoverageField3A\"),\n",
    "    (\"CoverageField1B\", \"CoverageField3B\"),\n",
    "    (\"CoverageField3B\", \"PropertyField21B\"),\n",
    "    (\"CoverageField3A\", \"PropertyField21A\"),\n",
    "    (\"CoverageField1B\", \"PropertyField16B\"),\n",
    "    (\"Weekday\", \"SalesField7\"),\n",
    "    (\"PersonalField9\", \"CoverageField6B\"),\n",
    "    (\"PersonalField12\", \"CoverageField6A\"),\n",
    "    (\"PropertyField16B\", \"PropertyField21A\"),\n",
    "    (\"PersonalField12\", \"Field8\"),\n",
    "    (\"PropertyField32\", \"PersonalField9\"),\n",
    "    (\"Field6\", \"CoverageField6A\"),\n",
    "    (\"PersonalField12\", \"CoverageField6A\"),\n",
    "    (\"CoverageField6A\", \"PropertyField34\"),\n",
    "    (\"PersonalField33\", \"PropertyField8\"),\n",
    "    (\"CoverageField2A\", \"CoverageField3B\")\n",
    "]\n",
    "\n",
    "interactions3way = [('PersonalField23', 'PersonalField9', 'PropertyField37'),\n",
    "                    ('CoverageField3A', 'PersonalField63', 'PropertyField21A'),\n",
    "                    ('CoverageField3A', 'CoverageField4A', 'PersonalField76'),\n",
    "                    ('CoverageField3A', 'CoverageField4A', 'GeographicField62A'),\n",
    "                    ('CoverageField6A', 'PersonalField69', 'PersonalField9'),\n",
    "                    ('CoverageField6A', 'PersonalField71', 'PersonalField9'),\n",
    "                    ('GeographicField10B', 'GeographicField13A', 'PersonalField9'),\n",
    "                    ('GeographicField8A', 'PersonalField71', 'PersonalField9'),\n",
    "                    ('CoverageField2B', 'PersonalField75', 'PropertyField16B'),\n",
    "                    ('CoverageField6A', 'PersonalField49', 'PropertyField29'),\n",
    "                    ('CoverageField4B', 'PersonalField39', 'PropertyField16B'),\n",
    "                    ('CoverageField11B', 'PersonalField6', 'SalesField2B'),\n",
    "                    ('CoverageField11B', 'PersonalField36', 'SalesField2B'),\n",
    "                    ('CoverageField2B', 'PropertyField16B', 'PropertyField8'),\n",
    "                    ('CoverageField3A', 'GeographicField21A', 'PropertyField21B'),\n",
    "                    ('GeographicField11A', 'PersonalField48', 'PersonalField9'),\n",
    "                    ('CoverageField11B', 'PersonalField26', 'SalesField2B'),\n",
    "                    ('CoverageField1B', 'CoverageField3A', 'PersonalField61'),\n",
    "                    ('CoverageField1A', 'PropertyField16A', 'PropertyField36'),\n",
    "                    ('PersonalField9', 'PropertyField10', 'PropertyField32'),\n",
    "                    ('GeographicField11A', 'GeographicField62A', 'PersonalField12'),\n",
    "                    ('Field10', 'PersonalField9', 'PropertyField34'),\n",
    "                    ('CoverageField2B', 'CoverageField3A', 'PersonalField8'),\n",
    "                    ('Field11', 'PropertyField34', 'SalesField6'),\n",
    "                    ('PersonalField19', 'PersonalField60', 'PropertyField8')]\n",
    "\n",
    "interactions4way = [('Field8', 'PersonalField12', 'PersonalField75', 'PropertyField37'),\n",
    "                    ('CoverageField6A', 'PersonalField12', 'PropertyField37', 'PropertyField8'),\n",
    "                    ('Field8', 'PersonalField9', 'PropertyField3', 'PropertyField37'),\n",
    "                    ('CoverageField6A', 'Field8', 'PersonalField84', 'PersonalField9'),\n",
    "                    ('CoverageField8', 'PersonalField12', 'PersonalField80', 'PropertyField37'),\n",
    "                    ('CoverageField8', 'Field8', 'PersonalField12', 'PersonalField84'),\n",
    "                    ('CoverageField5A', 'GeographicField11A', 'PersonalField9', 'PropertyField37'),\n",
    "                    ('CoverageField1B', 'CoverageField3B', 'CoverageField5A', 'PropertyField22'),\n",
    "                    ('CoverageField1A', 'CoverageField3A', 'PersonalField82', 'PropertyField19'),\n",
    "                    ('CoverageField1A', 'CoverageField3A', 'PersonalField11', 'PropertyField19'),\n",
    "                    ('CoverageField5A', 'Field8', 'PersonalField12', 'PersonalField42'),\n",
    "                    ('CoverageField6A', 'Field11', 'PersonalField9', 'PropertyField12'),\n",
    "                    ('CoverageField6A', 'CoverageField8', 'PropertyField35', 'SalesField3'),\n",
    "                    ('CoverageField3A', 'PersonalField82', 'PropertyField21A', 'Year'),\n",
    "                    ('CoverageField1B', 'CoverageField3B', 'PersonalField42', 'PropertyField8'),\n",
    "                    ('CoverageField1B', 'CoverageField3A', 'PersonalField1', 'PropertyField16A'),\n",
    "                    ('CoverageField1B', 'CoverageField3B', 'PropertyField22', 'PropertyField8'),\n",
    "                    ('CoverageField6A', 'PersonalField45', 'PersonalField9', 'PropertyField29'),\n",
    "                    ('CoverageField5A', 'PersonalField1', 'PropertyField35', 'SalesField3'),\n",
    "                    ('CoverageField1A', 'CoverageField3A', 'Field12', 'PersonalField27'),\n",
    "                    ('CoverageField5A', 'CoverageField8', 'Field11', 'PropertyField29'),\n",
    "                    ('CoverageField3B', 'PersonalField25', 'PersonalField45', 'PropertyField21B'),\n",
    "                    ('CoverageField2B', 'CoverageField3B', 'GeographicField17A', 'PersonalField5'),\n",
    "                    ('CoverageField1A', 'CoverageField3A', 'PersonalField75', 'Year'),\n",
    "                    ('Field11', 'PersonalField12', 'PersonalField25', 'PropertyField30')]\n"
   ]
  },
  {
   "cell_type": "code",
   "execution_count": 51,
   "metadata": {},
   "outputs": [],
   "source": [
    "# здесь автор удаляет повторяющиеся поля в разных списках и подготавливает их\n",
    "# для генерации новых признаков - разности полей\n",
    "interactions2way_list = list(np.unique(list(chain(*interactions2way))))\n",
    "interactions3way_list = list(np.unique(list(chain(*interactions3way))))\n",
    "interactions4way_list = list(np.unique(list(chain(*interactions4way))))\n",
    "\n",
    "interactions_list = interactions2way_list + interactions3way_list + interactions4way_list\n",
    "tmp_features = list(np.setdiff1d(interactions_list, top111))\n",
    "\n",
    "tc_features = []\n"
   ]
  },
  {
   "cell_type": "code",
   "execution_count": 52,
   "metadata": {},
   "outputs": [],
   "source": [
    "features = list(train.columns)\n",
    "features = np.intersect1d(features, top111 + tmp_features)\n",
    "\n",
    "x_train = train[features].copy()\n",
    "x_test = test[features].copy()\n",
    "# создание признака подсчета пропущенных значений\n",
    "x_train['NaNCount'] = x_train.apply(lambda x: np.sum(x == -1), axis=1)\n",
    "x_test['NaNCount'] = x_test.apply(lambda x: np.sum(x == -1), axis=1)"
   ]
  },
  {
   "cell_type": "code",
   "execution_count": 53,
   "metadata": {},
   "outputs": [],
   "source": [
    "# создание взаимодействующих признаков и удаление не нужных\n",
    "for A, B in interactions2way:\n",
    "        feat = \"_\".join([A, B])\n",
    "        x_train[feat] = x_train[A] - x_train[B]\n",
    "        x_test[feat] = x_test[A] - x_test[B]\n",
    "\n",
    "for A, B, C in interactions3way:\n",
    "    feat = \"_\".join([A, B, C])\n",
    "    tc_features += [feat]\n",
    "    x_train[feat] = x_train[A] - x_train[B] - x_train[C]\n",
    "    x_test[feat] = x_test[A] - x_test[B] - x_test[C]\n",
    "\n",
    "for A, B, C, D in interactions4way:\n",
    "    feat = \"_\".join([A, B, C, D])\n",
    "    tc_features += [feat]\n",
    "    x_train[feat] = x_train[A] - x_train[B] - x_train[C] - x_train[D]\n",
    "    x_test[feat] = x_test[A] - x_test[B] - x_test[C] - x_test[D]\n",
    "\n",
    "x_train.drop(tmp_features, axis=1, inplace=True)\n",
    "x_test.drop(tmp_features, axis=1, inplace=True)\n",
    "\n",
    "x_train.drop(drop_out[-25:], axis=1, inplace=True)\n",
    "x_test.drop(drop_out[-25:], axis=1, inplace=True)"
   ]
  },
  {
   "cell_type": "code",
   "execution_count": 56,
   "metadata": {},
   "outputs": [
    {
     "name": "stdout",
     "output_type": "stream",
     "text": [
      "(260753, 164) (173836, 164)\n"
     ]
    }
   ],
   "source": [
    "\n",
    "print (x_train.shape, x_test.shape)"
   ]
  },
  {
   "cell_type": "markdown",
   "metadata": {},
   "source": [
    "# Соединяю все вместе и обучаю модель"
   ]
  },
  {
   "cell_type": "code",
   "execution_count": 58,
   "metadata": {},
   "outputs": [],
   "source": [
    "xgb_params = {\n",
    "    'seed': 0,\n",
    "    'colsample_bytree': 0.8,\n",
    "    'silent': 1,\n",
    "    'subsample': .85,\n",
    "    'eta': 0.0275,\n",
    "    'objective': 'binary:logitraw',\n",
    "    'num_parallel_tree': 7,\n",
    "    'max_depth': 5,\n",
    "    'nthread': 22,\n",
    "    'eval_metric': 'auc',\n",
    "}\n",
    "\n",
    "top111 = ['Field12', 'PersonalField52', 'PersonalField80', 'PersonalField44', 'Field9',\n",
    "          'PropertyField7', 'PropertyField12', 'CoverageField5B', 'PersonalField42', 'PersonalField45',\n",
    "          'PersonalField81', 'PropertyField8', 'PersonalField79', 'GeographicField45B', 'PropertyField22',\n",
    "          'PersonalField75', 'PersonalField31', 'PropertyField19', 'PropertyField31', 'GeographicField11A',\n",
    "          'PersonalField23', 'GeographicField21B', 'PersonalField4A', 'Field10', 'GeographicField16B',\n",
    "          'GeographicField20A', 'PersonalField25', 'PersonalField4B', 'PropertyField3', 'GeographicField17A',\n",
    "          'GeographicField59B', 'GeographicField7B', 'GeographicField8A', 'Year', 'GeographicField6B',\n",
    "          'PersonalField14',\n",
    "          'GeographicField45A', 'GeographicField14B', 'SalesField12', 'CoverageField11A', 'CoverageField5A', 'Month',\n",
    "          'PropertyField33', 'PersonalField5', 'CoverageField11B', 'GeographicField11B', 'GeographicField23B',\n",
    "          'PropertyField39B', 'CoverageField3A', 'GeographicField1B', 'GeographicField17B', 'PropertyField39A',\n",
    "          'GeographicField41B', 'CoverageField6A', 'SalesField9', 'PersonalField16', 'PersonalField26',\n",
    "          'PropertyField24A', 'Field8', 'GeographicField28A', 'CoverageField3B', 'SalesField2A', 'GeographicField19B',\n",
    "          'GeographicField43A', 'PropertyField16B', 'PropertyField16A', 'PropertyField1B', 'CoverageField1B',\n",
    "          'PropertyField1A', 'GeographicField48B', 'PersonalField11', 'CoverageField1A', 'PersonalField15',\n",
    "          'GeographicField5B', 'PropertyField34', 'CoverageField8', 'PersonalField82', 'SalesField2B',\n",
    "          'PropertyField35', 'CoverageField2B', 'SalesField10', 'PropertyField21A', 'SalesField3', 'CoverageField9',\n",
    "          'SalesField7', 'Weekday', 'PersonalField13', 'PropertyField21B', 'SalesField6', 'SalesField1A',\n",
    "          'PersonalField9', 'SalesField4', 'PersonalField12', 'PersonalField27', 'PersonalField10B', 'Field7',\n",
    "          'SalesField1B', 'PersonalField84', 'PersonalField2', 'PersonalField1', 'SalesField5', 'PersonalField10A',\n",
    "          'PropertyField37', 'PropertyField29', 'GeographicField4B', 'PropertyField2B', 'GeographicField1A',\n",
    "          'GeographicField61B', 'Field11', 'PersonalField76', 'PropertyField30']\n",
    "\n",
    "drop_out = ['GeographicField19B', 'PropertyField7', 'GeographicField17A', 'GeographicField28A',\n",
    "            'GeographicField21B', 'GeographicField7B', 'CoverageField11B', 'GeographicField6B', 'GeographicField45A',\n",
    "            'PersonalField25', 'Month', 'CoverageField5A', 'GeographicField8A', 'GeographicField1B',\n",
    "            'CoverageField6A_CoverageField6B', 'PersonalField23', 'Field11', 'PropertyField2B', 'SalesField12',\n",
    "            'GeographicField41B',\n",
    "            'PropertyField16A', 'Field10', 'PropertyField3', 'PropertyField16B', 'GeographicField1A',\n",
    "            'GeographicField20A', 'PersonalField81', 'GeographicField16B', 'GeographicField59B', 'PersonalField79',\n",
    "            'CoverageField1A_CoverageField3A', 'CoverageField3B_CoverageField4B', 'PropertyField22',\n",
    "            'GeographicField61B',\n",
    "            'CoverageField3A_PropertyField21A', 'PropertyField12', 'CoverageField2A_CoverageField3A',\n",
    "            'CoverageField2B_CoverageField3B', 'PropertyField8', 'PropertyField30', 'GeographicField14B',\n",
    "            'PersonalField31',\n",
    "            'PropertyField21A', 'CoverageField3A_CoverageField4A', 'PropertyField31', 'CoverageField11A',\n",
    "            'PropertyField19', 'GeographicField45B', 'CoverageField1A', 'PersonalField75',\n",
    "            'GeographicField8A_GeographicField13A', 'CoverageField3B_PropertyField21B',\n",
    "            'CoverageField1B_CoverageField3B', 'GeographicField6A_GeographicField13A', 'CoverageField5B',\n",
    "            'PersonalField42', 'PersonalField45', 'PersonalField76', 'GeographicField6A_GeographicField8A',\n",
    "            'PersonalField80', 'Field9', 'CoverageField3A', 'CoverageField3B',\n",
    "            'GeographicField8A_GeographicField11A', 'GeographicField11A_GeographicField13A',\n",
    "            'GeographicField4B',\n",
    "            'CoverageField2B', 'Field12', 'PropertyField21B', 'CoverageField1B', 'PersonalField44',\n",
    "            'GeographicField6A_GeographicField11A', 'PersonalField52']\n",
    "\n",
    "interactions2way = [\n",
    "    (\"CoverageField1B\", \"PropertyField21B\"),\n",
    "    (\"GeographicField6A\", \"GeographicField8A\"),\n",
    "    (\"GeographicField6A\", \"GeographicField13A\"),\n",
    "    (\"GeographicField8A\", \"GeographicField13A\"),\n",
    "    (\"GeographicField11A\", \"GeographicField13A\"),\n",
    "    (\"GeographicField8A\", \"GeographicField11A\"),\n",
    "    (\"GeographicField6A\", \"GeographicField11A\"),\n",
    "    (\"CoverageField6A\", \"CoverageField6B\"),\n",
    "    (\"CoverageField3A\", \"CoverageField4A\"),\n",
    "    (\"CoverageField2B\", \"CoverageField3B\"),\n",
    "    (\"CoverageField1A\", \"CoverageField3A\"),\n",
    "    (\"CoverageField3B\", \"CoverageField4B\"),\n",
    "    (\"CoverageField2A\", \"CoverageField3A\"),\n",
    "    (\"CoverageField1B\", \"CoverageField3B\"),\n",
    "    (\"CoverageField3B\", \"PropertyField21B\"),\n",
    "    (\"CoverageField3A\", \"PropertyField21A\"),\n",
    "    (\"CoverageField1B\", \"PropertyField16B\"),\n",
    "    (\"Weekday\", \"SalesField7\"),\n",
    "    (\"PersonalField9\", \"CoverageField6B\"),\n",
    "    (\"PersonalField12\", \"CoverageField6A\"),\n",
    "    (\"PropertyField16B\", \"PropertyField21A\"),\n",
    "    (\"PersonalField12\", \"Field8\"),\n",
    "    (\"PropertyField32\", \"PersonalField9\"),\n",
    "    (\"Field6\", \"CoverageField6A\"),\n",
    "    (\"PersonalField12\", \"CoverageField6A\"),\n",
    "    (\"CoverageField6A\", \"PropertyField34\"),\n",
    "    (\"PersonalField33\", \"PropertyField8\"),\n",
    "    (\"CoverageField2A\", \"CoverageField3B\")\n",
    "]\n",
    "\n",
    "interactions3way = [('PersonalField23', 'PersonalField9', 'PropertyField37'),\n",
    "                    ('CoverageField3A', 'PersonalField63', 'PropertyField21A'),\n",
    "                    ('CoverageField3A', 'CoverageField4A', 'PersonalField76'),\n",
    "                    ('CoverageField3A', 'CoverageField4A', 'GeographicField62A'),\n",
    "                    ('CoverageField6A', 'PersonalField69', 'PersonalField9'),\n",
    "                    ('CoverageField6A', 'PersonalField71', 'PersonalField9'),\n",
    "                    ('GeographicField10B', 'GeographicField13A', 'PersonalField9'),\n",
    "                    ('GeographicField8A', 'PersonalField71', 'PersonalField9'),\n",
    "                    ('CoverageField2B', 'PersonalField75', 'PropertyField16B'),\n",
    "                    ('CoverageField6A', 'PersonalField49', 'PropertyField29'),\n",
    "                    ('CoverageField4B', 'PersonalField39', 'PropertyField16B'),\n",
    "                    ('CoverageField11B', 'PersonalField6', 'SalesField2B'),\n",
    "                    ('CoverageField11B', 'PersonalField36', 'SalesField2B'),\n",
    "                    ('CoverageField2B', 'PropertyField16B', 'PropertyField8'),\n",
    "                    ('CoverageField3A', 'GeographicField21A', 'PropertyField21B'),\n",
    "                    ('GeographicField11A', 'PersonalField48', 'PersonalField9'),\n",
    "                    ('CoverageField11B', 'PersonalField26', 'SalesField2B'),\n",
    "                    ('CoverageField1B', 'CoverageField3A', 'PersonalField61'),\n",
    "                    ('CoverageField1A', 'PropertyField16A', 'PropertyField36'),\n",
    "                    ('PersonalField9', 'PropertyField10', 'PropertyField32'),\n",
    "                    ('GeographicField11A', 'GeographicField62A', 'PersonalField12'),\n",
    "                    ('Field10', 'PersonalField9', 'PropertyField34'),\n",
    "                    ('CoverageField2B', 'CoverageField3A', 'PersonalField8'),\n",
    "                    ('Field11', 'PropertyField34', 'SalesField6'),\n",
    "                    ('PersonalField19', 'PersonalField60', 'PropertyField8')]\n",
    "\n",
    "interactions4way = [('Field8', 'PersonalField12', 'PersonalField75', 'PropertyField37'),\n",
    "                    ('CoverageField6A', 'PersonalField12', 'PropertyField37', 'PropertyField8'),\n",
    "                    ('Field8', 'PersonalField9', 'PropertyField3', 'PropertyField37'),\n",
    "                    ('CoverageField6A', 'Field8', 'PersonalField84', 'PersonalField9'),\n",
    "                    ('CoverageField8', 'PersonalField12', 'PersonalField80', 'PropertyField37'),\n",
    "                    ('CoverageField8', 'Field8', 'PersonalField12', 'PersonalField84'),\n",
    "                    ('CoverageField5A', 'GeographicField11A', 'PersonalField9', 'PropertyField37'),\n",
    "                    ('CoverageField1B', 'CoverageField3B', 'CoverageField5A', 'PropertyField22'),\n",
    "                    ('CoverageField1A', 'CoverageField3A', 'PersonalField82', 'PropertyField19'),\n",
    "                    ('CoverageField1A', 'CoverageField3A', 'PersonalField11', 'PropertyField19'),\n",
    "                    ('CoverageField5A', 'Field8', 'PersonalField12', 'PersonalField42'),\n",
    "                    ('CoverageField6A', 'Field11', 'PersonalField9', 'PropertyField12'),\n",
    "                    ('CoverageField6A', 'CoverageField8', 'PropertyField35', 'SalesField3'),\n",
    "                    ('CoverageField3A', 'PersonalField82', 'PropertyField21A', 'Year'),\n",
    "                    ('CoverageField1B', 'CoverageField3B', 'PersonalField42', 'PropertyField8'),\n",
    "                    ('CoverageField1B', 'CoverageField3A', 'PersonalField1', 'PropertyField16A'),\n",
    "                    ('CoverageField1B', 'CoverageField3B', 'PropertyField22', 'PropertyField8'),\n",
    "                    ('CoverageField6A', 'PersonalField45', 'PersonalField9', 'PropertyField29'),\n",
    "                    ('CoverageField5A', 'PersonalField1', 'PropertyField35', 'SalesField3'),\n",
    "                    ('CoverageField1A', 'CoverageField3A', 'Field12', 'PersonalField27'),\n",
    "                    ('CoverageField5A', 'CoverageField8', 'Field11', 'PropertyField29'),\n",
    "                    ('CoverageField3B', 'PersonalField25', 'PersonalField45', 'PropertyField21B'),\n",
    "                    ('CoverageField2B', 'CoverageField3B', 'GeographicField17A', 'PersonalField5'),\n",
    "                    ('CoverageField1A', 'CoverageField3A', 'PersonalField75', 'Year'),\n",
    "                    ('Field11', 'PersonalField12', 'PersonalField25', 'PropertyField30')]\n",
    "\n",
    "\n",
    "def get_data():\n",
    "    global tc_features\n",
    "\n",
    "    train = pd.read_csv(train_file)\n",
    "    test = pd.read_csv(test_file)\n",
    "\n",
    "    y_train = train.QuoteConversion_Flag\n",
    "\n",
    "    train = train.drop(['QuoteNumber', 'QuoteConversion_Flag'], axis=1)\n",
    "    test = test.drop('QuoteNumber', axis=1)\n",
    "\n",
    "    ntrain = train.shape[0]\n",
    "\n",
    "    train_test = pd.concat((train, test), axis=0)\n",
    "\n",
    "    train_test['Date'] = pd.to_datetime(train_test['Original_Quote_Date'])\n",
    "\n",
    "    train_test['Year'] = train_test['Date'].dt.year\n",
    "    train_test['Month'] = train_test['Date'].dt.month\n",
    "    train_test['Day'] = train_test['Date'].dt.day\n",
    "    train_test['Weekday'] = train_test['Date'].dt.dayofweek\n",
    "\n",
    "    train_test['Field10'] = train_test['Field10'].apply(lambda x: x.replace(',', '')).astype(np.int32)\n",
    "    train_test['PropertyField37'] = train_test['PropertyField37'].apply(lambda x: -1 if x == ' ' else x)\n",
    "    train_test['GeographicField63'] = train_test['GeographicField63'].apply(lambda x: -1 if x == ' ' else x)\n",
    "\n",
    "    train_test = train_test.drop(['Date', 'Original_Quote_Date'], axis=1)\n",
    "    train_test = train_test.fillna(-1)\n",
    "\n",
    "    categoricals = [x for x in train_test.columns if train_test[x].dtype == 'object']\n",
    "\n",
    "    for c in categoricals:\n",
    "        lbl = preprocessing.LabelEncoder()\n",
    "        lbl.fit(list(train_test[c].values))\n",
    "        train_test[c] = lbl.transform(list(train_test[c].values))\n",
    "\n",
    "    train = train_test.iloc[:ntrain, :].copy().reset_index(drop=True)\n",
    "    test = train_test.iloc[ntrain:, :].copy().reset_index(drop=True)\n",
    "\n",
    "    features = list(train.columns)\n",
    "    features = np.intersect1d(features, top111 + tmp_features)\n",
    "\n",
    "    x_train = train[features].copy()\n",
    "    x_test = test[features].copy()\n",
    "\n",
    "    x_train['NaNCount'] = x_train.apply(lambda x: np.sum(x == -1), axis=1)\n",
    "    x_test['NaNCount'] = x_test.apply(lambda x: np.sum(x == -1), axis=1)\n",
    "\n",
    "    for A, B in interactions2way:\n",
    "        feat = \"_\".join([A, B])\n",
    "        x_train[feat] = x_train[A] - x_train[B]\n",
    "        x_test[feat] = x_test[A] - x_test[B]\n",
    "\n",
    "    for A, B, C in interactions3way:\n",
    "        feat = \"_\".join([A, B, C])\n",
    "        tc_features += [feat]\n",
    "        x_train[feat] = x_train[A] - x_train[B] - x_train[C]\n",
    "        x_test[feat] = x_test[A] - x_test[B] - x_test[C]\n",
    "\n",
    "    for A, B, C, D in interactions4way:\n",
    "        feat = \"_\".join([A, B, C, D])\n",
    "        tc_features += [feat]\n",
    "        x_train[feat] = x_train[A] - x_train[B] - x_train[C] - x_train[D]\n",
    "        x_test[feat] = x_test[A] - x_test[B] - x_test[C] - x_test[D]\n",
    "\n",
    "    x_train.drop(tmp_features, axis=1, inplace=True)\n",
    "    x_test.drop(tmp_features, axis=1, inplace=True)\n",
    "\n",
    "    x_train.drop(drop_out[-25:], axis=1, inplace=True)\n",
    "    x_test.drop(drop_out[-25:], axis=1, inplace=True)\n",
    "\n",
    "    return np.array(x_train), np.array(y_train), np.array(x_test)\n",
    "\n",
    "\n"
   ]
  },
  {
   "cell_type": "code",
   "execution_count": 59,
   "metadata": {},
   "outputs": [
    {
     "name": "stdout",
     "output_type": "stream",
     "text": [
      "(260753, 164) (173836, 164)\n"
     ]
    }
   ],
   "source": [
    "x_train, y_train, x_test = get_data()\n",
    "print (x_train.shape, x_test.shape)\n"
   ]
  },
  {
   "cell_type": "code",
   "execution_count": 60,
   "metadata": {},
   "outputs": [],
   "source": [
    "x_train_tc = x_train.copy()\n",
    "ntcfeat = len(tc_features)\n",
    "\n",
    "x_train[:, -ntcfeat:] = 0\n",
    "\n",
    "ntrain = x_train.shape[0]\n",
    "best_nrounds = 2500"
   ]
  },
  {
   "cell_type": "code",
   "execution_count": null,
   "metadata": {},
   "outputs": [],
   "source": [
    "dtrain = xgb.DMatrix(x_train, label=y_train)\n",
    "dtrain_tc = xgb.DMatrix(x_train_tc, label=y_train)\n",
    "\n",
    "gbdt = xgb.train(xgb_params, dtrain, best_nrounds - 100)\n",
    "xgb_params['eta'] = 0.01\n",
    "\n",
    "gbdt = xgb.train(xgb_params, dtrain_tc, 300, xgb_model=gbdt)\n",
    "\n",
    "dtest = xgb.DMatrix(x_test)\n",
    "dtest = xgb.DMatrix(x_test)\n",
    "submission = pd.read_csv(sample_submission)\n",
    "submission.iloc[:, 1] = gbdt.predict(dtest).reshape((-1, 1))\n",
    "submission.to_csv(submission_filename, index=False)"
   ]
  },
  {
   "cell_type": "markdown",
   "metadata": {},
   "source": [
    "# Проверяю результат"
   ]
  },
  {
   "cell_type": "code",
   "execution_count": 63,
   "metadata": {},
   "outputs": [
    {
     "name": "stdout",
     "output_type": "stream",
     "text": [
      "Warning: Looks like you're using an outdated API Version, please consider updating (server 1.5.10 / client 1.5.6)\n",
      "Successfully submitted to Homesite Quote Conversion\n"
     ]
    },
    {
     "name": "stderr",
     "output_type": "stream",
     "text": [
      "\n",
      "  0%|          | 0.00/4.31M [00:00<?, ?B/s]\n",
      "  8%|8         | 368k/4.31M [00:00<00:01, 3.53MB/s]\n",
      " 38%|###7      | 1.63M/4.31M [00:00<00:00, 4.52MB/s]\n",
      " 48%|####8     | 2.08M/4.31M [00:01<00:02, 828kB/s] \n",
      " 74%|#######4  | 3.21M/4.31M [00:01<00:01, 1.15MB/s]\n",
      " 99%|#########8| 4.27M/4.31M [00:02<00:00, 1.57MB/s]\n",
      "100%|##########| 4.31M/4.31M [00:03<00:00, 1.21MB/s]\n"
     ]
    }
   ],
   "source": [
    "!kaggle competitions submit -c homesite-quote-conversion -f god_of_overfitting_spare_us.csv -m spare_us"
   ]
  },
  {
   "cell_type": "code",
   "execution_count": 64,
   "metadata": {},
   "outputs": [
    {
     "name": "stdout",
     "output_type": "stream",
     "text": [
      "Warning: Looks like you're using an outdated API Version, please consider updating (server 1.5.10 / client 1.5.6)\n",
      "fileName                         date                 description     status    publicScore  privateScore  \n",
      "-------------------------------  -------------------  --------------  --------  -----------  ------------  \n",
      "god_of_overfitting_spare_us.csv  2021-01-03 18:20:09  spare_us        complete  0.96928      0.96897       \n",
      "god_of_overfitting_spare_us.csv  2021-01-02 15:24:21  spare_us        complete  0.96928      0.96897       \n",
      "xgb_benchmark_5.csv              2021-01-02 09:51:38  xgb_benchmark   complete  0.96057      0.95992       \n",
      "xgb_benchmark.csv                2021-01-02 08:25:12  xgb_benchmark   complete  0.96057      0.95992       \n",
      "xgb_benchmark.csv                2021-01-02 08:21:42  xgb_benchmark   complete  0.96057      0.95992       \n",
      "xgbr_benchmark.csv               2020-12-31 16:21:18  xgbr_benchmark  complete  0.73950      0.73853       \n",
      "xgb_benchmark.csv                2020-12-31 05:54:28  xgb_benchmark   complete  0.96181      0.96115       \n",
      "xgb_benchmark.csv                2020-12-31 05:00:51  xgb_benchmark   complete  0.96182      0.96115       \n"
     ]
    }
   ],
   "source": [
    "!kaggle competitions submissions homesite-quote-conversion"
   ]
  },
  {
   "cell_type": "markdown",
   "metadata": {},
   "source": [
    "Итак, полученный результат: 0.96928"
   ]
  },
  {
   "cell_type": "code",
   "execution_count": null,
   "metadata": {},
   "outputs": [],
   "source": []
  }
 ],
 "metadata": {
  "kernelspec": {
   "display_name": "Python 3",
   "language": "python",
   "name": "python3"
  },
  "language_info": {
   "codemirror_mode": {
    "name": "ipython",
    "version": 3
   },
   "file_extension": ".py",
   "mimetype": "text/x-python",
   "name": "python",
   "nbconvert_exporter": "python",
   "pygments_lexer": "ipython3",
   "version": "3.7.4"
  },
  "toc": {
   "base_numbering": 1,
   "nav_menu": {},
   "number_sections": true,
   "sideBar": true,
   "skip_h1_title": false,
   "title_cell": "Table of Contents",
   "title_sidebar": "Contents",
   "toc_cell": false,
   "toc_position": {},
   "toc_section_display": true,
   "toc_window_display": false
  }
 },
 "nbformat": 4,
 "nbformat_minor": 2
}
