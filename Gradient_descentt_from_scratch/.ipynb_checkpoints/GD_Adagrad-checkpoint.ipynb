{
 "cells": [
  {
   "cell_type": "code",
   "execution_count": 1,
   "metadata": {},
   "outputs": [],
   "source": [
    "import pandas as pd\n",
    "import numpy as np\n",
    "from math import sqrt\n",
    "path=r\"C:\\Users\\Asus\\Downloads\\advertising.csv\"\n",
    "adver_data = pd.read_csv(path)"
   ]
  },
  {
   "cell_type": "code",
   "execution_count": 2,
   "metadata": {},
   "outputs": [],
   "source": [
    "X2=np.array(adver_data[['TV', 'Radio', 'Newspaper']])\n",
    "X = adver_data[['TV', 'Radio', 'Newspaper']].values\n",
    "y = adver_data[['Sales']].values\n",
    "means, stds = X.mean(axis=0), X.std(axis=0)\n",
    "X = (X - means) / stds\n",
    "X = np.hstack( (X, np.ones((X.shape[0], 1))) )\n",
    "def mserror(y, y_pred):\n",
    "    return np.sum((y - y_pred) ** 2) / y.shape[0]\n",
    "def linear_prediction(X, w):\n",
    "    return np.dot(X, w)\n",
    "\n",
    "\n"
   ]
  },
  {
   "cell_type": "code",
   "execution_count": 3,
   "metadata": {},
   "outputs": [],
   "source": [
    "def stochastic_gradient_step2(X, y, w, train_ind, eta=0.01): \n",
    "    grad0 = 2*X[train_ind][0]*(linear_prediction(X[train_ind], w)-y[train_ind])/len(y)\n",
    "    grad1 = 2*X[train_ind][1]*(linear_prediction(X[train_ind], w)-y[train_ind])/len(y)\n",
    "    grad2 = 2*X[train_ind][2]*(linear_prediction(X[train_ind], w)-y[train_ind])/len(y)\n",
    "    grad3 = 2*X[train_ind][3]*(linear_prediction(X[train_ind], w)-y[train_ind])/len(y)\n",
    "    return  eta * np.array([grad0, grad1, grad2, grad3])\n",
    "\n",
    "def stochastic_gradient_descent(X, y, w_init,eta=1e-2, max_iter=1e4,\n",
    "            max_weight_dist=1e-8, seed=42, verbose=False):\n",
    "    # Инициализируем расстояние между векторами весов на соседних\n",
    "    # итерациях большим числом. \n",
    "    weight_dist = np.inf\n",
    "    # Инициализируем вектор весов\n",
    "    w = w_init\n",
    "    # Сюда будем записывать ошибки на каждой итерации\n",
    "    errors = []\n",
    "    # Счетчик итераций\n",
    "    iter_num = 0\n",
    "    # list of the sum square gradients for each variable\n",
    "    sq_grad_sums = [0.0 for _ in range(w_init.shape[0])]\n",
    "    lst_range_iter=[100,1000,20000,50000,70000]\n",
    "    # Будем порождать псевдослучайные числа \n",
    "    # (номер объекта, который будет менять веса), а для воспроизводимости\n",
    "    # этой последовательности псевдослучайных чисел используем seed.\n",
    "    np.random.seed(seed)\n",
    "        \n",
    "    # Основной цикл\n",
    "    while  weight_dist > max_weight_dist and iter_num < max_iter:\n",
    "        # порождаем псевдослучайный \n",
    "        # индекс объекта обучающей выборки\n",
    "        random_ind = np.random.randint(X.shape[0])\n",
    "        \n",
    "        #вычисляем значение весов на следующей итерации\n",
    "        wOld = w\n",
    "        gradient=stochastic_gradient_step2(X, y, w, random_ind, eta=eta)\n",
    "        for i in range(gradient.shape[0]):\n",
    "            sq_grad_sums[i] += (gradient[i]/1)**2.0\n",
    "        for i in range(gradient.shape[0]):\n",
    "            gradient[i]=gradient[i]/(1e-8 + sqrt(sq_grad_sums[i]))\n",
    "        w=w-gradient\n",
    "#         if iter_num in lst_range_iter:\n",
    "#             print(gradient)\n",
    "        #расстояние между векторами весов на соседних итерациях\n",
    "        weight_dist = np.linalg.norm(wOld - w)\n",
    "        \n",
    "        #среднеквадратичная ошибка для найденного вектора весов\n",
    "        err = mserror( y, linear_prediction(X, w) )\n",
    "        errors.append(err)\n",
    "        \n",
    "        #счётчик итераций\n",
    "        iter_num += 1\n",
    "    \n",
    "    return w, errors"
   ]
  },
  {
   "cell_type": "code",
   "execution_count": 4,
   "metadata": {},
   "outputs": [
    {
     "name": "stdout",
     "output_type": "stream",
     "text": [
      "[[ 3.90869177]\n",
      " [ 2.83454924]\n",
      " [-0.021539  ]\n",
      " [14.05912218]]\n",
      "118518\n",
      "Wall time: 9.74 s\n"
     ]
    }
   ],
   "source": [
    "%%time\n",
    "stoch_grad_desc_weights, stoch_errors_by_iter = stochastic_gradient_descent(X, y, np.zeros( (X.shape[1], 1) ), max_iter=1e6)\n",
    "print(stoch_grad_desc_weights)\n",
    "print(len(stoch_errors_by_iter))"
   ]
  },
  {
   "cell_type": "markdown",
   "metadata": {},
   "source": [
    "**Посмотрим, чему равна ошибка на первых 50 итерациях стохастического градиентного спуска. Видим, что ошибка не обязательно уменьшается на каждой итерации.**"
   ]
  },
  {
   "cell_type": "code",
   "execution_count": 5,
   "metadata": {},
   "outputs": [
    {
     "name": "stdout",
     "output_type": "stream",
     "text": [
      "Populating the interactive namespace from numpy and matplotlib\n"
     ]
    },
    {
     "name": "stderr",
     "output_type": "stream",
     "text": [
      "C:\\Users\\Asus\\Anaconda3\\lib\\site-packages\\IPython\\core\\magics\\pylab.py:159: UserWarning: pylab import has clobbered these variables: ['sqrt']\n",
      "`%matplotlib` prevents importing * from pylab and numpy\n",
      "  warn(\"pylab import has clobbered these variables: %s\"  % clobbered +\n"
     ]
    },
    {
     "data": {
      "text/plain": [
       "Text(0, 0.5, 'MSE')"
      ]
     },
     "execution_count": 5,
     "metadata": {},
     "output_type": "execute_result"
    },
    {
     "data": {
      "image/png": "[encoded data removed]",
      "text/plain": [
       "<Figure size 432x288 with 1 Axes>"
      ]
     },
     "metadata": {
      "needs_background": "light"
     },
     "output_type": "display_data"
    }
   ],
   "source": [
    "# from matplotlib.pyplot import plot\n",
    "# %matplotlib inline\n",
    "%pylab inline\n",
    "plot(range(200), stoch_errors_by_iter[:200])\n",
    "xlabel('Iteration number')\n",
    "ylabel('MSE')"
   ]
  },
  {
   "cell_type": "markdown",
   "metadata": {},
   "source": [
    "**Теперь посмотрим на зависимость ошибки от номера итерации для $10^5$ итераций стохастического градиентного спуска. Видим, что алгоритм сходится.**"
   ]
  },
  {
   "cell_type": "code",
   "execution_count": 6,
   "metadata": {},
   "outputs": [
    {
     "name": "stdout",
     "output_type": "stream",
     "text": [
      "Populating the interactive namespace from numpy and matplotlib\n"
     ]
    },
    {
     "data": {
      "text/plain": [
       "Text(0, 0.5, 'MSE')"
      ]
     },
     "execution_count": 6,
     "metadata": {},
     "output_type": "execute_result"
    },
    {
     "data": {
      "image/png": "[encoded data removed]",
      "text/plain": [
       "<Figure size 432x288 with 1 Axes>"
      ]
     },
     "metadata": {
      "needs_background": "light"
     },
     "output_type": "display_data"
    }
   ],
   "source": [
    "%pylab inline\n",
    "plot(range(len(stoch_errors_by_iter)), stoch_errors_by_iter)\n",
    "axis([0, 1e5, 0, 250])\n",
    "grid(True)\n",
    "xlabel('Iteration number')\n",
    "ylabel('MSE')"
   ]
  },
  {
   "cell_type": "markdown",
   "metadata": {},
   "source": [
    "**Посмотрим на вектор весов, к которому сошелся метод.**"
   ]
  },
  {
   "cell_type": "code",
   "execution_count": 7,
   "metadata": {},
   "outputs": [
    {
     "data": {
      "text/plain": [
       "array([[ 3.90869177],\n",
       "       [ 2.83454924],\n",
       "       [-0.021539  ],\n",
       "       [14.05912218]])"
      ]
     },
     "execution_count": 7,
     "metadata": {},
     "output_type": "execute_result"
    }
   ],
   "source": [
    "stoch_grad_desc_weights"
   ]
  },
  {
   "cell_type": "markdown",
   "metadata": {},
   "source": [
    "**Посмотрим на среднеквадратичную ошибку на последней итерации.**"
   ]
  },
  {
   "cell_type": "code",
   "execution_count": 165,
   "metadata": {},
   "outputs": [
    {
     "data": {
      "text/plain": [
       "2.7873648449529616"
      ]
     },
     "execution_count": 165,
     "metadata": {},
     "output_type": "execute_result"
    }
   ],
   "source": [
    "stoch_errors_by_iter[-1]"
   ]
  },
  {
   "cell_type": "code",
   "execution_count": null,
   "metadata": {},
   "outputs": [],
   "source": []
  }
 ],
 "metadata": {
  "kernelspec": {
   "display_name": "Python 3",
   "language": "python",
   "name": "python3"
  },
  "language_info": {
   "codemirror_mode": {
    "name": "ipython",
    "version": 3
   },
   "file_extension": ".py",
   "mimetype": "text/x-python",
   "name": "python",
   "nbconvert_exporter": "python",
   "pygments_lexer": "ipython3",
   "version": "3.8.8"
  },
  "toc": {
   "base_numbering": 1,
   "nav_menu": {},
   "number_sections": true,
   "sideBar": true,
   "skip_h1_title": false,
   "title_cell": "Table of Contents",
   "title_sidebar": "Contents",
   "toc_cell": false,
   "toc_position": {},
   "toc_section_display": true,
   "toc_window_display": false
  }
 },
 "nbformat": 4,
 "nbformat_minor": 1
}
