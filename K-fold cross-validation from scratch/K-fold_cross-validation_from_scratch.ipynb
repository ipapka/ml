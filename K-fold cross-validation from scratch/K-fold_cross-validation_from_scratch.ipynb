{
 "cells": [
  {
   "cell_type": "markdown",
   "metadata": {},
   "source": [
    "# Scikit-learn k-fold cross-validation"
   ]
  },
  {
   "cell_type": "code",
   "execution_count": 2,
   "metadata": {},
   "outputs": [
    {
     "name": "stdout",
     "output_type": "stream",
     "text": [
      "train: [0.3 0.4 0.5 0.6], test: [0.1 0.2]\n",
      "train: [0.1 0.2 0.4 0.5 0.6], test: [0.3]\n",
      "train: [0.1 0.2 0.3 0.5 0.6], test: [0.4]\n",
      "train: [0.1 0.2 0.3 0.4 0.6], test: [0.5]\n",
      "train: [0.1 0.2 0.3 0.4 0.5], test: [0.6]\n"
     ]
    }
   ],
   "source": [
    "# scikit-learn k-fold cross-validation\n",
    "from numpy import array\n",
    "from sklearn.model_selection import KFold\n",
    "# data sample\n",
    "data = array([0.1, 0.2, 0.3, 0.4, 0.5, 0.6])\n",
    "# prepare cross validation\n",
    "kfold = KFold(5,shuffle=False)\n",
    "# enumerate splits\n",
    "for train, test in kfold.split(data):\n",
    "    print('train: %s, test: %s' % (data[train], data[test]))"
   ]
  },
  {
   "cell_type": "markdown",
   "metadata": {},
   "source": [
    "# K-fold cross-validation from scratch"
   ]
  },
  {
   "cell_type": "code",
   "execution_count": 5,
   "metadata": {},
   "outputs": [
    {
     "name": "stdout",
     "output_type": "stream",
     "text": [
      "train: [0.3, 0.4, 0.5, 0.6], test: [0.1, 0.2]\n",
      "train: [0.1, 0.2, 0.4, 0.5, 0.6], test: [0.3]\n",
      "train: [0.1, 0.2, 0.3, 0.5, 0.6], test: [0.4]\n",
      "train: [0.1, 0.2, 0.3, 0.4, 0.6], test: [0.5]\n",
      "train: [0.1, 0.2, 0.3, 0.4, 0.5], test: [0.6]\n"
     ]
    }
   ],
   "source": [
    "# K-fold cross-validation from scratch\n",
    "from random import randint\n",
    "\n",
    "# define function\n",
    "def slice_list(data, size):\n",
    "    input_size = len(data)\n",
    "    slice_size = int(input_size / size)\n",
    "    remain = input_size % size\n",
    "    result = []\n",
    "    iterator = iter(data)\n",
    "    for i in range(size):\n",
    "        result.append([])\n",
    "        for j in range(slice_size):\n",
    "            result[i].append(next(iterator))\n",
    "        if remain:\n",
    "            result[i].append(next(iterator))\n",
    "            remain -= 1\n",
    "    splitted=list()\n",
    "    for i in range(size):\n",
    "        test=result[i]\n",
    "        x=result.copy()\n",
    "        x.remove(result[i])\n",
    "        train=[j for i in x for j in i]\n",
    "        #print test\n",
    "        splitted.append([train, test])\n",
    "    return splitted\n",
    "\n",
    "# number of observations in sample\n",
    "n=6\n",
    "# data sample\n",
    "data=[x/10 for x in range(1,n+1)]\n",
    "# split data\n",
    "result=slice_list(data, 5)\n",
    "# enumerate splits\n",
    "for data in result:\n",
    "    print('train: %s, test: %s' % (data[0], data[1]))"
   ]
  },
  {
   "cell_type": "code",
   "execution_count": 7,
   "metadata": {},
   "outputs": [
    {
     "name": "stdout",
     "output_type": "stream",
     "text": [
      "train: [0.5, 0.6, 0.7, 0.8, 0.9, 1.0], test: [0.1, 0.2, 0.3, 0.4]\n",
      "train: [0.1, 0.2, 0.3, 0.4, 0.8, 0.9, 1.0], test: [0.5, 0.6, 0.7]\n",
      "train: [0.1, 0.2, 0.3, 0.4, 0.5, 0.6, 0.7], test: [0.8, 0.9, 1.0]\n"
     ]
    }
   ],
   "source": [
    "# number of observations in sample\n",
    "n=10\n",
    "# data sample\n",
    "data=[x/10 for x in range(1,n+1)]\n",
    "# split data\n",
    "result=slice_list(data,3)\n",
    "# enumerate splits\n",
    "for data in result:\n",
    "    print('train: %s, test: %s' % (data[0], data[1]))"
   ]
  },
  {
   "cell_type": "code",
   "execution_count": null,
   "metadata": {},
   "outputs": [],
   "source": []
  }
 ],
 "metadata": {
  "kernelspec": {
   "display_name": "Python 3",
   "language": "python",
   "name": "python3"
  },
  "language_info": {
   "codemirror_mode": {
    "name": "ipython",
    "version": 3
   },
   "file_extension": ".py",
   "mimetype": "text/x-python",
   "name": "python",
   "nbconvert_exporter": "python",
   "pygments_lexer": "ipython3",
   "version": "3.7.4"
  },
  "toc": {
   "base_numbering": 1,
   "nav_menu": {},
   "number_sections": true,
   "sideBar": true,
   "skip_h1_title": false,
   "title_cell": "Table of Contents",
   "title_sidebar": "Contents",
   "toc_cell": false,
   "toc_position": {},
   "toc_section_display": true,
   "toc_window_display": false
  }
 },
 "nbformat": 4,
 "nbformat_minor": 2
}
